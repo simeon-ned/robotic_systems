{
 "cells": [
  {
   "cell_type": "markdown",
   "metadata": {
    "slideshow": {
     "slide_type": "slide"
    }
   },
   "source": [
    "## **Modern Control Paradigms:**\n",
    "### **Lecture 8: From Data to the Model: System Identification and Data Driven Control**"
   ]
  },
  {
   "cell_type": "markdown",
   "metadata": {},
   "source": [
    "https://www.youtube.com/watch?v=wlkRYMVUZTs\n",
    "\n",
    "https://www.youtube.com/watch?v=4BZRP6h12lI&t=3269s\n",
    "\n",
    "http://www.matthewpeterkelly.com/research/MatthewKelly_IntroTrajectoryOptimization_SIAM_Review_2017.pdf\n",
    "\n",
    "https://colab.research.google.com/drive/1llmbuDhF4Hxj1HV7P9DkzjxX8M57pX2K#scrollTo=QvlALgWNbMS0\n",
    "\n",
    "https://colab.research.google.com/drive/1aC4JLtF1s7yivSu7kgzhYPrfFuNY4xW6\n",
    "\n",
    "https://colab.research.google.com/drive/19IuoAHSiOCNu1juWM9jNOjUZgFU6gWRo"
   ]
  },
  {
   "cell_type": "markdown",
   "metadata": {},
   "source": [
    "So far we have used several methods to do the control over  time variant and invariant linear and nonlinear systems. Including LQR, Control Lyapunov Functions and Optimization based techniques such as linear MPC and trajectory optimization with nonlinear programming.   "
   ]
  },
  {
   "cell_type": "markdown",
   "metadata": {},
   "source": [
    "However, on all of this cased we assume that accurate **model of system is given**. \n",
    "\n",
    "In practice it is not the case, and we usually have:\n",
    "\n",
    "* Known structure (dynamics) of system model with unknown parameters \n",
    "* Unknown structure and parameters \n",
    "* Mixture of these, i.e. some parts of model is known (usally up to parameter coefficients), while there are some unmodeled dynamics\n"
   ]
  },
  {
   "cell_type": "markdown",
   "metadata": {},
   "source": [
    "If we want to program a robot to fold laundry, spread peanut butter on toast, or make a salad, then we should absolutely not assume that we are simply given a model (and the ability to estimate the state of that model). "
   ]
  },
  {
   "cell_type": "markdown",
   "metadata": {},
   "source": [
    "REWRITE\n",
    "\n",
    "\n",
    "This has led many researchers to focus on the \"model-free\" approaches to optimal control that are popular in reinforcement learning. But I worry that the purely model-free approach is \"throwing the baby out with the bathwater\". We have fantastic tools for making long-term decisions given a model; the model-free approaches are correspondingly much much weaker."
   ]
  },
  {
   "cell_type": "markdown",
   "metadata": {},
   "source": [
    "REWRITE\n",
    "\n",
    "So in this chapter I would like to cover the problem of learning a model. This is far from a new problem. The field of \"system identification\" is as old as controls itself, but new results from machine learning have added significantly to our algorithms and our analyses, especially in the high-dimensional and finite-sample regimes. But well before the recent machine learning boom, system identification as a field had a very strong foundation with thorough statistical understanding of the basic algorithms, at least in the asymptotic regime (the limit where the amount of data goes to infinity). Machine learning theory has brought a wealth of new results in the online optimization and finite-sample regimes. My goal for this chapter is to establish these foundations, and to provide some pointers so that you can learn more about this rich topic."
   ]
  },
  {
   "cell_type": "markdown",
   "metadata": {},
   "source": [
    "IDENTIFICATION PICTURE"
   ]
  },
  {
   "cell_type": "markdown",
   "metadata": {},
   "source": [
    "* HAS BEEN AROUND FOR 70 YEARS\n",
    "\n",
    "IDENTIFICATION: I KICK SYSTEM AND FIT THE RESPONSE\n",
    "\n",
    "MODEL REDUCTION: FOR BIG AND POSSIBLY KNOWN MODELS - TRYING TO REDUCE THE SIZE OR COMPLEXITY OF THE MODEL   "
   ]
  },
  {
   "cell_type": "markdown",
   "metadata": {},
   "source": [
    "### **Systems Identification and Model Reduction**\n",
    "\n",
    "\n",
    "\n"
   ]
  },
  {
   "cell_type": "markdown",
   "metadata": {},
   "source": [
    "LINEAR \n",
    "\n",
    "I want to learn A and B:\n",
    "dx = Ax + Bu \n",
    "\n",
    "Also we want to know the good coordinate system that reduce the model in to tracktable form:\n",
    "dz = A* z + B* u"
   ]
  },
  {
   "cell_type": "markdown",
   "metadata": {},
   "source": [
    "ERA \n",
    "BT\n",
    "BPOD \n",
    "DMD"
   ]
  },
  {
   "cell_type": "markdown",
   "metadata": {},
   "source": [
    "NONLINEAR SYSTEM IDENTIFICATION SINDY\n",
    "\n"
   ]
  },
  {
   "cell_type": "markdown",
   "metadata": {},
   "source": [
    "WHY SYS ID IN GENERAL\n",
    "\n",
    "BLACK BOX/GREY BOX\n"
   ]
  },
  {
   "cell_type": "markdown",
   "metadata": {},
   "source": [
    "\n",
    "TOOLS: LEAST SQUARES AND REGULIZED VERSIONS\n",
    "SPARSITY AND L1 NORM\n",
    "\n",
    "REGRESSION \n",
    "\n",
    "SPARSITY \n",
    "CONSTRAINTS \n",
    "ETC"
   ]
  },
  {
   "cell_type": "markdown",
   "metadata": {},
   "source": [
    "BALANCED MODEL REDUCTION \n",
    "\n",
    "Consider linear system:\n",
    "dx = Ax + Bu \n",
    "y = Cx \n",
    "\n",
    "\n",
    "The goal is to find the new state representation with smaller state:\n",
    "\n",
    "z in R^r , r << n \n",
    "\n",
    "dr = Az r + Bz u \n",
    "y = Cz r\n",
    "\n",
    "such that dynamics in z capture the main part of dynamics\n",
    "\n",
    "Here we will assume there is connection between old and new state:L\n",
    "\n",
    "v = PSI x "
   ]
  },
  {
   "cell_type": "markdown",
   "metadata": {},
   "source": [
    "A SIMPLE EXAMPLE \n",
    "\n",
    "A BALANCED MODEL REDUCTION: FINDING THE STATES THAT ARE EASIER TO CONTROL AND OBSERVE\n",
    "\n",
    "Let us consider the state transformation \n",
    "x = Tz \n",
    "\n",
    "with invertable T \n",
    "\n",
    "Tdz = T-1 A T z + T-1 B u \n",
    "y = CT z\n"
   ]
  },
  {
   "cell_type": "markdown",
   "metadata": {},
   "source": [
    "Now let's compute controlability and observability grammians:\n",
    "\n",
    "W_CT = T^-1 WC T^-T \n",
    "W_OT = T^T W0 T\n",
    "\n",
    "\n",
    "\n",
    "W_CT = W_OT = SIGMA\n",
    "\n",
    "W_CT W_OT = SIGMA^2 = T-1 WC WO T \n",
    "WC WO T = T SIGMA^2\n",
    "\n",
    "WHICH IS NOTHING BUT THE EIGEN SYSTEM!"
   ]
  },
  {
   "cell_type": "code",
   "execution_count": 1,
   "metadata": {},
   "outputs": [
    {
     "ename": "SyntaxError",
     "evalue": "invalid syntax (121292722.py, line 1)",
     "output_type": "error",
     "traceback": [
      "\u001b[0;36m  Cell \u001b[0;32mIn [1], line 1\u001b[0;36m\u001b[0m\n\u001b[0;31m    BALANCED MODEL REDUCTION\u001b[0m\n\u001b[0m             ^\u001b[0m\n\u001b[0;31mSyntaxError\u001b[0m\u001b[0;31m:\u001b[0m invalid syntax\n"
     ]
    }
   ],
   "source": [
    "IMPULSE RESPONCE\n",
    "\n",
    "\n",
    "https://python-control.readthedocs.io/en/0.9.2/generated/control.balred.html#control.balred\n",
    "\n",
    "https://python-control.readthedocs.io/en/0.9.2/control.html#model-simplification-tools"
   ]
  },
  {
   "cell_type": "markdown",
   "metadata": {},
   "source": [
    "BOUNDS ON MODEL REDUCTION\n",
    "PLOT OF HANKEL SINGULAR VALUES"
   ]
  },
  {
   "cell_type": "code",
   "execution_count": null,
   "metadata": {},
   "outputs": [],
   "source": [
    "https://www.youtube.com/watch?v=1YfU0E1V60I&list=PLMrJAkhIeNNQkv98vuPjO2X2qJO_UPeWR&index=11"
   ]
  },
  {
   "cell_type": "markdown",
   "metadata": {},
   "source": [
    "Using Impulse Response "
   ]
  },
  {
   "cell_type": "code",
   "execution_count": null,
   "metadata": {},
   "outputs": [],
   "source": []
  },
  {
   "cell_type": "markdown",
   "metadata": {},
   "source": [
    "LINEAR MODELS:\n",
    "    DMD\n",
    "    ERA\n",
    "\n"
   ]
  },
  {
   "cell_type": "markdown",
   "metadata": {},
   "source": [
    "\n",
    "NONLINEAR MODELS SINDY\n",
    "\n"
   ]
  },
  {
   "cell_type": "markdown",
   "metadata": {},
   "source": [
    "SPECIAL CASE\n",
    "\n",
    "\n"
   ]
  },
  {
   "cell_type": "markdown",
   "metadata": {},
   "source": [
    "DYNAMICS ON MEASUREMENTS KOOPMAN LINEARIZATION"
   ]
  },
  {
   "cell_type": "markdown",
   "metadata": {},
   "source": [
    "CONTROL ORIENTED DATA DRIVEN MODELS:\n",
    "KOOPMAN LINEARIZATION\n"
   ]
  },
  {
   "cell_type": "markdown",
   "metadata": {},
   "source": [
    "NONLINEAR PARAMETER ESTIMATION, SQP AND LEV MARQ\n"
   ]
  },
  {
   "cell_type": "markdown",
   "metadata": {},
   "source": [
    "# https://colab.research.google.com/drive/1IbqQAi2Vsp-jGaP39JSP2Kl-MW8SGZQ_\n",
    "# https://colab.research.google.com/drive/16TTk9vA9Zgy7vbxlBUbKjZU-3U-dIL_T#scrollTo=PVbDrEnoLkj5\n",
    "# https://colab.research.google.com/drive/1fgFPEPz6sBRTPmYnBi3IKs3WCyCva8DC"
   ]
  }
 ],
 "metadata": {
  "celltoolbar": "Slideshow",
  "colab": {
   "collapsed_sections": [],
   "name": "symbolical_linearization.ipynb",
   "provenance": []
  },
  "kernelspec": {
   "display_name": "Python 3 (ipykernel)",
   "language": "python",
   "name": "python3"
  },
  "language_info": {
   "codemirror_mode": {
    "name": "ipython",
    "version": 3
   },
   "file_extension": ".py",
   "mimetype": "text/x-python",
   "name": "python",
   "nbconvert_exporter": "python",
   "pygments_lexer": "ipython3",
   "version": "3.8.10 (default, Nov 14 2022, 12:59:47) \n[GCC 9.4.0]"
  },
  "rise": {
   "enable_chalkboard": true,
   "scroll": true,
   "theme": "simple",
   "transition": "linear"
  },
  "vscode": {
   "interpreter": {
    "hash": "767d51c1340bd893661ea55ea3124f6de3c7a262a8b4abca0554b478b1e2ff90"
   }
  }
 },
 "nbformat": 4,
 "nbformat_minor": 1
}

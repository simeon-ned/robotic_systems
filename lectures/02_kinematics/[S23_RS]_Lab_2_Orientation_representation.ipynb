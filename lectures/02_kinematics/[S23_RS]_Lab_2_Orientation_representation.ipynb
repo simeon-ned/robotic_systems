{
  "nbformat": 4,
  "nbformat_minor": 0,
  "metadata": {
    "colab": {
      "provenance": []
    },
    "kernelspec": {
      "name": "python3",
      "display_name": "Python 3"
    },
    "language_info": {
      "name": "python"
    }
  },
  "cells": [
    {
      "cell_type": "markdown",
      "source": [
        "# **Axis-angle**\n",
        "A single angle $\\theta$ with a unit vector $\\hat{\\boldsymbol{\\omega}}$ can describe a rotation of some vector around arbitrary axis $\\hat{\\boldsymbol{\\omega}}$. The axis-angle representation is written as:\n",
        "\\begin{equation}\n",
        "\\boldsymbol{\\theta} = \\theta \\hat{\\boldsymbol{\\omega}}\n",
        "\\end{equation}"
      ],
      "metadata": {
        "id": "9Zwv02VOctP3"
      }
    },
    {
      "cell_type": "markdown",
      "source": [
        "# **Exponential map**"
      ],
      "metadata": {
        "id": "leqOmQn0euWF"
      }
    },
    {
      "cell_type": "markdown",
      "source": [
        "# **Rodrigues formula**\n"
      ],
      "metadata": {
        "id": "AWPfJ9slcdI3"
      }
    },
    {
      "cell_type": "markdown",
      "source": [
        "# **Quaternions**\n",
        "**Definition.** Unit quaternion is a 4 dimensional vector, which is represented as:\n",
        "\\begin{equation}\n",
        "\\mathbf{q}=\\underbrace{q_0}_\\text{scalar (real) part} + \\underbrace{q_1\\mathbf{i} + q_2 \\mathbf{j}+ q_3 \\mathbf{k}}_\\text{vector (imaginary) part}\n",
        "\\end{equation}\n",
        "where $q_0, q_1, q_2, q_3$ are real and $\\mathbf{i}, \\mathbf{j},\\mathbf{k}$ are symbols that can be treated as unit vectors pointing along three spatial axes. \n",
        "\n",
        "The vectors $\\mathbf{i}, \\mathbf{j},\\mathbf{k}$ satisfy the following combinatory rules:\n",
        "\\begin{equation}\n",
        "\\begin{matrix}\n",
        "\\mathbf{ii} = \\mathbf{jj} = \\mathbf{kk} = -1,\\\\\n",
        "\\mathbf{ij}=\\mathbf{k}, \\mathbf{jk}=\\mathbf{i}, \\mathbf{ki}=\\mathbf{j}, \\\\\n",
        "\\mathbf{ji}=-\\mathbf{k}, \\mathbf{kj}=-\\mathbf{i}, \\mathbf{ik}=-\\mathbf{j}, \\\\\n",
        "\\end{matrix}\n",
        "\\end{equation}\n",
        "\n",
        "We may also represent the same quaternion in vector form as:\n",
        "\n",
        "\\begin{equation}\n",
        "\\mathbf{q}=\n",
        "\\begin{bmatrix}\n",
        "q_0 & q_1 & q_2 & q_3\n",
        "\\end{bmatrix}^T\n",
        "\\end{equation}\n",
        "\n",
        "*Conjugate.* The conjugate of $\\mathbf{q}$ is the quaterion $\\mathbf{q}^*=q_0 - q_1\\mathbf{i}- q_2\\mathbf{j}- q_3\\mathbf{k}$\n",
        "\n",
        "---\n",
        "*Properties:*\n",
        "* The conjugation of multiplication is \n",
        "\\begin{equation}\n",
        "(\\mathbf{q}_1\\mathbf{q}_2)^*= \\mathbf{q}_2^*\\mathbf{q}_1^*\n",
        "\\end{equation}\n",
        "\n",
        "* Sometimes in the literature you may see the quaternion as:\n",
        "\n",
        "\\begin{equation}\n",
        "\\mathbf{q} = (r, \\mathbf{v})\n",
        "\\end{equation}\n",
        "Therefore, the addition and multiplication are\n",
        "\\begin{equation}\n",
        "\\mathbf{q}_1 + \\mathbf{q}_2 = (r_1, \\mathbf{v_1}) + (r_2, \\mathbf{v_2}) = (r_1 + r_2, \\mathbf{v}_1+\\mathbf{v}_2)\n",
        "\\end{equation}\n",
        "\\begin{equation}\n",
        "\\mathbf{q}_1\\mathbf{q_2} = (r_1, \\mathbf{v_1})(r_2, \\mathbf{v_2}) = (r_1r_2-\\mathbf{v}_1\\cdot\\mathbf{v}_2, r_1\\mathbf{v}_2 + r_2\\mathbf{v}_1 +\\mathbf{v}_1\\times\\mathbf{v}_2)\n",
        "\\end{equation} \n",
        "\n",
        "* The norm $\\|\\mathbf{q}\\|$ of the quaternion is \n",
        "\\begin{equation}\n",
        "\\|\\mathbf{q}\\| = \\sqrt{\\mathbf{q}\\mathbf{q}^*} = \\sqrt{\\mathbf{q}^*\\mathbf{q}} = \\sqrt{q_0^2+q_1^2+q_2^2+q_3^2}\n",
        "\\end{equation}  \n",
        "* Quaternion product\n",
        "\\begin{equation}\n",
        "\\mathbf{p} \\otimes \\mathbf{q} = S(\\mathbf{p})\\mathbf{q}\n",
        "\\end{equation}\n",
        "where\n",
        "\\begin{equation}\n",
        "S(\\mathbf{p}) = \n",
        "\\begin{bmatrix}\n",
        "p_0 & -p_1 & -p_2 & -p_3 \\\\\n",
        "p_1 & p_0 & -p_3 & p_2 \\\\\n",
        "p_2 & p_3 & p_0 & -p_1 \\\\\n",
        "p_3 & -p_2 & p_1 & p_0 \\\\ \n",
        "\\end{bmatrix}\n",
        "\\end{equation}\n",
        "\n",
        "* Time derivative of quaternion is related with angular velocity vector $\\boldsymbol{\\omega} = [\\omega_x, \\omega_y, \\omega_z]^T$:\n",
        "\\begin{equation}\n",
        "\\dot{\\mathbf{q}} = \\frac{1}{2} \\mathcal{R}(\\mathbf{q})\\boldsymbol{\\omega}\n",
        "\\end{equation}\n",
        "where \n",
        "\\begin{equation}\n",
        "\\mathcal{R}(\\mathbf{q}) = \n",
        "\\begin{bmatrix}\n",
        "- q_1 & - q_2 & - q_3 \\\\\n",
        " q_0 &  q_3 & - q_2 \\\\\n",
        "- q_3 & q_0 &  q_1 \\\\\n",
        " q_2 & - q_1 & q_0 \\\\\n",
        "\\end{bmatrix}\n",
        "\\end{equation}\n",
        "\n",
        "* Rotation of vector $\\vec{v}$ by a quaternion $\\mathbf{q}$ is computed as\n",
        "\\begin{equation}\n",
        "\\mathbf{v}' = \\mathbf{qvq^*}\n",
        "\\end{equation}\n",
        "where $\\mathbf{v}=(0,\\vec{v})$, $\\mathbf{q}^*$ is a conjugate quaternion, and $\\mathbf{v}'=(0, \\vec{v}')$ is a result vector after rotation."
      ],
      "metadata": {
        "id": "Wp4y4A3C_eJd"
      }
    },
    {
      "cell_type": "markdown",
      "source": [
        "# **Rotation matrix and quaternion relationship**\n",
        "\n",
        "From unit quaterion $\\mathbf{q}=[q_0,q_1,q_2,q_3]^T$ to rotation matrix $\\mathbf{R} = \\{R_{ij}\\}$:\n",
        "\\begin{equation}\n",
        "\\mathbf{qvq}^* = \\begin{bmatrix}\n",
        "q_0^2+q_1^2-q_2^2-q_3^2 & 2(q_1q_2-q_0q_3) & 2(q_1q_3+q_0q_2)\\\\\n",
        "2(q_1q_2+q_0q_3) & q_0^2-q_1^2+q_2^2-q_3^2 & 2(q_2q_3-q_0q_1) \\\\\n",
        "2(q_1q_3-q_0q_2) & 2(q_2q_3+q_0q_1) & q_0^2-q_1^2-q_2^2+q_3^2 \\\\\n",
        "\\end{bmatrix} \\vec{v}\n",
        "\\end{equation}\n",
        "\n",
        "From rotation matrix $\\mathbf{R} = \\{R_{ij}\\}$ to quaternion $\\mathbf{q}=[q_0,q_1,q_2,q_3]^T$:\n",
        "\n",
        "\n"
      ],
      "metadata": {
        "id": "J6qnAaBeUl1z"
      }
    },
    {
      "cell_type": "markdown",
      "source": [
        "# **Axis-angle and unit quaternion relationship**\n",
        "From axis-angle $\\theta\\hat{\\boldsymbol{\\omega}}$ to unit quaterion $\\mathbf{q}=[q_0,q_1,q_2,q_3]^T$:\n",
        "\\begin{equation}\n",
        "\\begin{matrix}\n",
        "q_0 = \\cos \\frac{\\theta}{2} \\\\\n",
        "q_1 = \\omega_x \\sin \\frac{\\theta}{2} \\\\\n",
        "q_2 = \\omega_y \\sin \\frac{\\theta}{2} \\\\\n",
        "q_3 = \\omega_z \\sin \\frac{\\theta}{2} \\\\\n",
        "\\end{matrix}\n",
        "\\end{equation}\n",
        "From unit quaterion $\\mathbf{q}=[q_0,q_1,q_2,q_3]^T$ to axis-angle $\\theta\\hat{\\boldsymbol{\\omega}}$:\n",
        "\\begin{equation}\n",
        "\\begin{matrix}\n",
        "\\theta = 2\\arccos q_0 \\\\\n",
        "\\omega_x = q_1 / \\sin(\\frac{\\theta}{2}) \\\\\n",
        "\\omega_y = q_2 / \\sin(\\frac{\\theta}{2}) \\\\\n",
        "\\omega_z = q_3 / \\sin(\\frac{\\theta}{2}) \\\\\n",
        "\\end{matrix}\n",
        "\\end{equation}\n"
      ],
      "metadata": {
        "id": "eejsDtdch2AC"
      }
    },
    {
      "cell_type": "code",
      "source": [
        "import numpy as np"
      ],
      "metadata": {
        "id": "u-JiSmJixlLe"
      },
      "execution_count": null,
      "outputs": []
    },
    {
      "cell_type": "code",
      "source": [
        "def quaternion_product(p,q):\n",
        "    Q = np.array([[p[0], -p[1], -p[2], -p[3]],\n",
        "                  [p[1],  p[0], -p[3],  p[2]],\n",
        "                  [p[2],  p[3],  p[0], -p[1]],\n",
        "                  [p[3], -p[2],  p[1],  p[0]]])\n",
        "    return Q @ q"
      ],
      "metadata": {
        "id": "C38m6NJAy63C"
      },
      "execution_count": null,
      "outputs": []
    },
    {
      "cell_type": "code",
      "execution_count": null,
      "metadata": {
        "id": "BWyPT6Sg-THT",
        "colab": {
          "base_uri": "https://localhost:8080/"
        },
        "outputId": "a71ec883-ae98-4815-91bc-c7c7c6ecef42"
      },
      "outputs": [
        {
          "output_type": "stream",
          "name": "stdout",
          "text": [
            "[ 0.0000000e+00  0.0000000e+00 -2.0000000e+00  4.4408921e-16]\n"
          ]
        }
      ],
      "source": [
        "# Rotation by 90 degrees around x axis\n",
        "v_vec = np.array([0,5,0])\n",
        "v = np.hstack([[0], v_vec])\n",
        "\n",
        "theta = np.pi/2 # how many degrees we want to rotate our vector\n",
        "direction = np.array([1,0,0]) # direction along which we rotate\n",
        "\n",
        "u = direction / np.linalg.norm(direction)\n",
        "q = np.hstack([[np.cos(theta/2)], u*np.sin(theta/2)])\n",
        "q_conj = np.hstack([[np.cos(theta/2)], -u*np.sin(theta/2)])\n",
        "\n",
        "vprime = quaternion_product(q, quaternion_product(v,q_conj))\n",
        "print(vprime)"
      ]
    }
  ]
}
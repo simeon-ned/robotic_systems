{
 "cells": [
  {
   "cell_type": "code",
   "execution_count": 18,
   "metadata": {
    "slideshow": {
     "slide_type": "skip"
    }
   },
   "outputs": [],
   "source": [
    "from utils import simulate, phase_portrait, phase_graph\n",
    "from numpy import linspace\n",
    "from matplotlib.pyplot import *\n",
    "rc('text', usetex=True)\n",
    "\n",
    "http://ames.caltech.edu/unify_ames_powell.pdf\n",
    "\n",
    "https://sci-hub.hkvisa.net/https://ieeexplore.ieee.org/abstract/document/5651634\n",
    "\n",
    "https://hybrid-robotics.berkeley.edu/publications/ACC2016_Exponential_CBF.pdf"
   ]
  },
  {
   "cell_type": "markdown",
   "metadata": {
    "slideshow": {
     "slide_type": "slide"
    }
   },
   "source": [
    "## **Modern Control Paradigms:**\n",
    "### **Lecture 7: Lyapunov Inspired Control**"
   ]
  },
  {
   "cell_type": "markdown",
   "metadata": {
    "slideshow": {
     "slide_type": "slide"
    }
   },
   "source": [
    "### **Control Design Based on Lyapunov's Direct Method**\n",
    "\n",
    "Previously we have used Lyapunov's direct method for system analysis. In doing the analysis, we have implicitly presumed that certain control laws have been chosen for the systems. \n",
    "\n",
    "However, in many control problems, the **actual task** is to find an **appropriate control law** for a given plant. In the following, we briefly discuss how to apply Lyapunov's direct method for designing stable control\n",
    "systems. \n",
    "\n",
    "Most of the controller design methods we will describe in later classes are actually based on Lyapunov concepts."
   ]
  },
  {
   "cell_type": "markdown",
   "metadata": {
    "slideshow": {
     "slide_type": "subslide"
    }
   },
   "source": [
    "\n",
    "There are basically two ways of using Lyapunov's direct method for control design, and both have a trial and error flavor:\n",
    "\n",
    "* The first technique involves **hypothesizing one form of control law** and then finding a Lyapunov function to justify the choice. \n",
    "* The second technique, conversely, requires **hypothesizing a Lyapunov\n",
    "function** candidate and then finding a control law to make this candidate a real\n",
    "Lyapunov function."
   ]
  },
  {
   "cell_type": "markdown",
   "metadata": {
    "slideshow": {
     "slide_type": "subslide"
    }
   },
   "source": [
    "Consider the problem of stabilizing the system:\n",
    "\n",
    "\\begin{equation*}\n",
    "    \\ddot{x} - \\dot{x}^3 + x = u \n",
    "\\end{equation*}\n",
    "\n",
    "We are looking for controller in form: \n",
    "\\begin{equation*}\n",
    "    u(x,\\dot{x}) \n",
    "\\end{equation*}\n"
   ]
  },
  {
   "cell_type": "markdown",
   "metadata": {
    "slideshow": {
     "slide_type": "fragment"
    }
   },
   "source": [
    "Let us choose Lyapunov candidate:\n",
    "$$\n",
    "    V = \\frac{1}{2}x^2 + \\frac{1}{2}\\dot{x}^2\n",
    "$$\n"
   ]
  },
  {
   "cell_type": "markdown",
   "metadata": {
    "slideshow": {
     "slide_type": "subslide"
    }
   },
   "source": [
    "Let us now find the time derivative of Lyapunov candidate:\n",
    "$$\n",
    "    \\dot{V} = x\\dot{x} + \\dot{x}\\ddot{x} = \\dot{x}(u+\\dot{x}^3)\n",
    "$$\n",
    "\n",
    "Now one can deduce the control law that will stabilize the system, for instance choosing:\n",
    "$$\n",
    "u = -\\dot{x}-\\dot{x}^3\n",
    "$$\n",
    "will eventually stabilize the system."
   ]
  },
  {
   "cell_type": "markdown",
   "metadata": {
    "slideshow": {
     "slide_type": "fragment"
    }
   },
   "source": [
    "However, as you may already note, there is infinitely many stabilizing controllers, all of them just have to make following constraint feasible:\n",
    "$$\n",
    "    \\dot{V} = \\dot{x}(u+\\dot{x}^3) < 0\n",
    "$$"
   ]
  },
  {
   "cell_type": "markdown",
   "metadata": {
    "slideshow": {
     "slide_type": "fragment"
    }
   },
   "source": [
    "This seemingly intuitive notion actually yields very powerful results."
   ]
  },
  {
   "cell_type": "markdown",
   "metadata": {
    "slideshow": {
     "slide_type": "slide"
    }
   },
   "source": [
    "Assume now that you have the very same equation but with some uncertainty:\n",
    "\n",
    "\\begin{equation*}\n",
    "    \\ddot{x} + p\\dot{x}^3 + x + \\delta = u \n",
    "\\end{equation*}\n",
    "where $|p|\\leq p_{max}$ and $\\delta<|\\delta_{max}|$\n"
   ]
  },
  {
   "cell_type": "markdown",
   "metadata": {
    "slideshow": {
     "slide_type": "fragment"
    }
   },
   "source": [
    "\n",
    "And lets try to use Lyapunov tools to design the robust controller that will stabilize the system above for whatever $\\delta$ and $p$ in the given range. "
   ]
  },
  {
   "cell_type": "markdown",
   "metadata": {
    "slideshow": {
     "slide_type": "fragment"
    }
   },
   "source": [
    "We begin with very same Lyapunov candidate as before:\n",
    "\n",
    "$$\n",
    "    V = \\frac{1}{2}x^2 + \\frac{1}{2}\\dot{x}^2\n",
    "$$"
   ]
  },
  {
   "cell_type": "markdown",
   "metadata": {
    "slideshow": {
     "slide_type": "subslide"
    }
   },
   "source": [
    "Let us now find the time derivative of Lyapunov candidate:\n",
    "$$\n",
    "    \\dot{V} = \\dot{x}(u - p\\dot{x}^3  + \\delta) <0\n",
    "$$"
   ]
  },
  {
   "cell_type": "markdown",
   "metadata": {
    "slideshow": {
     "slide_type": "fragment"
    }
   },
   "source": [
    "Opening now the braces yields:\n",
    "$$\n",
    "    \\dot{V} = \\dot{x}u - p\\dot{x}^4  + \\delta\\dot{x} < \\dot{x} u + p_{max}\\dot{x}^4  + \\delta_{max}|\\dot{x}| \n",
    "$$\n",
    "\n",
    "Thus satisfying the negativity of last one will prove the stability even in presense of uncertainty!\n"
   ]
  },
  {
   "cell_type": "markdown",
   "metadata": {
    "slideshow": {
     "slide_type": "subslide"
    }
   },
   "source": [
    "The resulting robustly stable controller is then defined as:\n",
    "\n",
    "$$\n",
    "    u \\in \\mathcal{U}(x, \\dot{x}), \\quad \\mathcal{U}(x, \\dot{x})  =  \\{u | \\dot{x} u + p_{max}\\dot{x}^4  + \\delta_{max}|\\dot{x}| <0\\}\n",
    "$$"
   ]
  },
  {
   "cell_type": "markdown",
   "metadata": {
    "slideshow": {
     "slide_type": "fragment"
    }
   },
   "source": [
    "In both of these examples we use the very same idea of using Lyapunov candidate as a building block for our controller in contrast to the just proving stability with direct method.   "
   ]
  },
  {
   "cell_type": "markdown",
   "metadata": {
    "slideshow": {
     "slide_type": "fragment"
    }
   },
   "source": [
    "To formulate all of this in more general settings we will introduce the notion of control Lyapunov functions. "
   ]
  },
  {
   "cell_type": "markdown",
   "metadata": {
    "slideshow": {
     "slide_type": "subslide"
    }
   },
   "source": [
    "### **Control Lyapunov Functions**\n",
    "\n",
    "The control Lyapunov functions is the generilization of the Lyapunov stability analysis to the controller design. "
   ]
  },
  {
   "cell_type": "markdown",
   "metadata": {
    "slideshow": {
     "slide_type": "fragment"
    }
   },
   "source": [
    "\n",
    "Consider an autonomous dynamical system with inputs\n",
    "\n",
    "$$\n",
    "\\dot{\\mathbf{x}} = \\mathbf{f}(\\mathbf{x}, \\mathbf{u})\n",
    "$$\n",
    "\n",
    "A control-Lyapunov function (CLF) is a function that is continuously differentiable, positive-definite (that is $V(x) >0, \\forall x$ except $x=0$ where it is zero), and such that for there exists $\\mathbf{u}$ which satisfy:\n",
    "\n",
    " $$\n",
    "    \\dot{V}(\\mathbf{x}, \\mathbf{u}) = \\frac{\\partial V}{\\partial \\mathbf{x}}\\mathbf{f}(\\mathbf{x},\\mathbf{u})<0\n",
    " $$"
   ]
  },
  {
   "cell_type": "markdown",
   "metadata": {
    "slideshow": {
     "slide_type": "fragment"
    }
   },
   "source": [
    "The definition above state that for each state $\\mathbf{x}$ we can find a control $\\mathbf{u}$ that will reduce the value of Lyapunov candidate $V$. Intuitively, if in each state we can always find a way to reduce the $V$, we should eventually be able to bring the $V$ asymptotically to zero, that is to bring the system to a $\\mathbf{x} = 0$. "
   ]
  },
  {
   "cell_type": "markdown",
   "metadata": {
    "slideshow": {
     "slide_type": "subslide"
    }
   },
   "source": [
    "It is hard to satisfy constraints above in general. However, for certain important class of systems we can actually do a lot. One of these  is so called control affine:\n",
    "\n",
    "$$\n",
    "\\dot{\\mathbf{x}} = \\mathbf{f}(\\mathbf{x}) + \\sum^m_{i=1}\\mathbf{g}_i(\\mathbf{x})\\mathbf{u}_i = \\mathbf{f}(\\mathbf{x}) + \\mathbf{G}(\\mathbf{x})\\mathbf{u}\n",
    "$$"
   ]
  },
  {
   "cell_type": "markdown",
   "metadata": {
    "slideshow": {
     "slide_type": "fragment"
    }
   },
   "source": [
    "Given the Lyapunov candidate one may then deduce it's time derivative as follows: \n",
    "\n",
    " $$\n",
    "    \\dot{V}(\\mathbf{x}, \\mathbf{u}) = \\frac{\\partial V}{\\partial \\mathbf{x}}\\mathbf{f}(\\mathbf{x}) + \\frac{\\partial V}{\\partial \\mathbf{x}}\\mathbf{G}(\\mathbf{x})\\mathbf{u} = L_\\mathbf{f}V(\\mathbf{x}) + \\sum L_{\\mathbf{g}_i}V(\\mathbf{x}) u_i \n",
    " $$"
   ]
  },
  {
   "cell_type": "markdown",
   "metadata": {
    "slideshow": {
     "slide_type": "fragment"
    }
   },
   "source": [
    "where $L_\\mathbf{a} b(x) = \\frac{\\partial b}{\\partial \\mathbf{x}}\\mathbf{a}$ is so called Lie derivative (directional derivative) "
   ]
  },
  {
   "cell_type": "markdown",
   "metadata": {
    "slideshow": {
     "slide_type": "subslide"
    }
   },
   "source": [
    "The condition above yields a transparent way to build the family of stabilizing controllers. In fact for given $\\mathbf{x}$ the conditions above a way to construct nonlinear feedback $\\mathbf{u} = \\mathbf{k}(x)$ by ensuring that following constraints is satisfied:\n",
    "\n",
    "$$\n",
    "    \\frac{\\partial V}{\\partial \\mathbf{x}}\\mathbf{f}(\\mathbf{x}) + \\frac{\\partial V}{\\partial \\mathbf{x}}\\mathbf{G}(\\mathbf{x})\\mathbf{k}(\\mathbf{x}) = L_\\mathbf{f}V(\\mathbf{x}) + \\sum L_{\\mathbf{g}_i}V(\\mathbf{x}) k_i(\\mathbf{x}) < 0 \n",
    "$$\n"
   ]
  },
  {
   "cell_type": "markdown",
   "metadata": {
    "slideshow": {
     "slide_type": "fragment"
    }
   },
   "source": [
    "Note how the equation above represent linear constraints in coefficients $k_i$ (for fixed $\\mathbf{x}$) thus it can be used inside most problems in convex optimization framework!\n"
   ]
  },
  {
   "cell_type": "markdown",
   "metadata": {
    "slideshow": {
     "slide_type": "subslide"
    }
   },
   "source": [
    "#### **CLF based Control over Control Affine Systems as Convex Optimization**"
   ]
  },
  {
   "cell_type": "markdown",
   "metadata": {
    "slideshow": {
     "slide_type": "fragment"
    }
   },
   "source": [
    "As we have noted above the negativity of Lyapunov conditions are linear in $\\mathbf{u}$ (for control affine systems), thus we can find the feasible and stable controller by solving the following QP:\n",
    "\n",
    "$$\n",
    "\\begin{aligned}\n",
    "&{\\underset {\\mathbf{u} }{\\operatorname {minimize} }}&& \\mathbf{u}^T\\mathbf{R}(\\mathbf{x})\\mathbf{u}\n",
    "\\\\& \\operatorname {subject\\ to} && \\boldsymbol{\\psi}_0(\\mathbf{x}) + \\boldsymbol{\\psi}_1(\\mathbf{x})\\mathbf{u} \\leq 0\n",
    "\\\\&&& \\mathbf{A}(\\mathbf{x}, t)\\mathbf{u}\\leq \\mathbf{b}(\\mathbf{x}, t)\n",
    "% \\\\&&&\\mathbf{K}_p \\tilde{\\mathbf{r}}^e + \\mathbf{K}_d \\dot{\\tilde{\\mathbf{r}}}^e +\\mathbf{F}_d = \\boldsymbol{\\mathcal{J}}_d^T (\\mathbf{u} - \\boldsymbol{\\tau}_d)\n",
    "\\end{aligned}\n",
    "$$"
   ]
  },
  {
   "cell_type": "markdown",
   "metadata": {
    "slideshow": {
     "slide_type": "subslide"
    }
   },
   "source": [
    "One can easily modify the controller above, for instance if one have some guess of controller $\\mathbf{u}_0$ (for instance given by LQR, or any other method) we may find resulting stabilizing controller by solving QP above with little modification of cost:\n",
    "$$\n",
    "    J_c = (\\mathbf{u} - \\mathbf{u}_0)^T\\mathbf{R}_0(\\mathbf{x})(\\mathbf{u} - \\mathbf{u}_0) + \\mathbf{u}^T\\mathbf{R}(\\mathbf{x})\\mathbf{u}\n",
    "$$\n",
    "\n",
    "There is numerous possible modifications, for instance one may ask for the controller vector to be sparse (by adding first norm, like in Lasso regression), or penalize the time derivatives of controller $\\dot{\\mathbf{u}}$ etc."
   ]
  },
  {
   "cell_type": "markdown",
   "metadata": {
    "slideshow": {
     "slide_type": "fragment"
    }
   },
   "source": [
    "Note also that enforcing additional constraints $\\mathbf{A}(\\mathbf{x}, t)\\mathbf{u}\\leq \\mathbf{b}(\\mathbf{x}, t)$ in fact allow you to tackle the practical constraints in the control, but may yields infeasibility of the proposed QP, so we need to consider some relaxation of these possibly infeasible constraints."
   ]
  },
  {
   "cell_type": "markdown",
   "metadata": {
    "slideshow": {
     "slide_type": "subslide"
    }
   },
   "source": [
    "#### **Infeasibility, Exponential CLF and Convergence Rates**\n",
    "\n",
    "In previous classes we have discuss how to use the Lyapunov like arguments to deduce not only stability but the **convergence rates** for trajectories, let us consider the real function $V(t)$ that satisfy inequality:\n",
    "$$\n",
    "    \\dot{V}(t) + \\alpha V(t)\\leq0\n",
    "$$\n"
   ]
  },
  {
   "cell_type": "markdown",
   "metadata": {
    "slideshow": {
     "slide_type": "fragment"
    }
   },
   "source": [
    "where $\\alpha$ is real number, then:\n",
    "$$\n",
    "    V(t) \\leq V(0)e^{-\\alpha t}\n",
    "$$\n",
    "\n",
    "Thus one can estimate speed of convergence for system trajectories just by finding appropriate $V$\n"
   ]
  },
  {
   "cell_type": "markdown",
   "metadata": {
    "slideshow": {
     "slide_type": "subslide"
    }
   },
   "source": [
    "\n",
    "Incorporating this idea as an constraint in to the CLF framework will yields response with guaranteed convergence rate (if $\\alpha$ is pre-specified) and some robust properties! \n",
    "However as we have discussed above it may be the case when state and control constraints are not consistent with predefined desired convergence rate of the dynamics. In this case the Exponential CLF constraint can be relaxed as follows:\n",
    "\n",
    "$$\n",
    "    \\dot{V}(t) + \\alpha V(t) \\leq d(t)\n",
    "$$\n",
    "\n",
    "where $d(t)$ is some positive value to be minimized. \n",
    "\n",
    "\n"
   ]
  },
  {
   "cell_type": "markdown",
   "metadata": {
    "slideshow": {
     "slide_type": "fragment"
    }
   },
   "source": [
    "By solving the linear differential inequality above one can deduce that the value of Lyapunov function will exponentially decrease until it will reach the level set $d(t)/\\alpha$:\n",
    "$$\n",
    "    V(t) < e^{-\\alpha t}\\Big(V(0) + \\int^{t}_{0}e^{\\alpha \\tau}b(\\tau)d\\tau \\Big) < e^{-\\alpha t}V(0) + \\frac{d_{max}}{\\alpha}\n",
    "$$\n",
    "\n",
    "<!-- https://en.wikipedia.org/wiki/Gr%C3%B6nwall%27s_inequality -->"
   ]
  },
  {
   "cell_type": "markdown",
   "metadata": {
    "slideshow": {
     "slide_type": "subslide"
    }
   },
   "source": [
    "What is interesting is that in fact we can use this idea to relax the CBF constraint, while still preserving some boundedness and stability properties, so the related QP problem will become:\n",
    "\n",
    "$$\n",
    "\\begin{aligned}\n",
    "&{\\underset {\\mathbf{u} }{\\operatorname {minimize} }}&& \\mathbf{u}^T\\mathbf{R}(\\mathbf{x})\\mathbf{u} + r d^2\n",
    "\\\\& \\operatorname {subject\\ to} && \\boldsymbol{\\psi}_0(\\mathbf{x}) + \\boldsymbol{\\psi}_1(\\mathbf{x})\\mathbf{u} + \\alpha V(\\mathbf{x}) \\leq d\n",
    "\\\\&&& \\mathbf{A}(\\mathbf{x}, t)\\mathbf{u}\\leq \\mathbf{b}(\\mathbf{x}, t)\n",
    "% \\\\&&&\\mathbf{K}_p \\tilde{\\mathbf{r}}^e + \\mathbf{K}_d \\dot{\\tilde{\\mathbf{r}}}^e +\\mathbf{F}_d = \\boldsymbol{\\mathcal{J}}_d^T (\\mathbf{u} - \\boldsymbol{\\tau}_d)\n",
    "\\end{aligned}\n",
    "$$"
   ]
  },
  {
   "cell_type": "markdown",
   "metadata": {
    "slideshow": {
     "slide_type": "fragment"
    }
   },
   "source": [
    "So now as soon as last inequality constraints is feasible by them self the resulting QP will be always feasible and unsere convergence to $V(\\mathbf{x}) < d_{max} / \\alpha$ which in turn imply the boundedness of trajectories."
   ]
  },
  {
   "cell_type": "markdown",
   "metadata": {
    "slideshow": {
     "slide_type": "subslide"
    }
   },
   "source": [
    "#### **Safety and State Constraints**"
   ]
  },
  {
   "cell_type": "markdown",
   "metadata": {
    "slideshow": {
     "slide_type": "fragment"
    }
   },
   "source": [
    "##### **Equality State Constraints**"
   ]
  },
  {
   "cell_type": "markdown",
   "metadata": {
    "slideshow": {
     "slide_type": "fragment"
    }
   },
   "source": [
    "In a most of practical applications we not only interested in control constraints and stability, but in some desired state behavior, for instance we may need to confine the trajectory to some manifold given by:\n",
    "\n",
    "$$ \n",
    "\\boldsymbol{g}(\\mathbf{x},t) = 0\n",
    "$$"
   ]
  },
  {
   "cell_type": "markdown",
   "metadata": {
    "slideshow": {
     "slide_type": "fragment"
    }
   },
   "source": [
    "Taking the derivative of this constraint yields:\n",
    "$$\n",
    "\\dot{\\boldsymbol{g}} = L_\\mathbf{g}(\\mathbf{x})\\dot{\\mathbf{x}} = \\frac{\\partial \\boldsymbol{g}}{\\partial \\mathbf{x}}\\mathbf{f}(\\mathbf{x}) + \\frac{\\partial \\boldsymbol{g}}{\\partial \\mathbf{x}}\\mathbf{G}(\\mathbf{x})\\mathbf{u} = 0\n",
    "$$"
   ]
  },
  {
   "cell_type": "markdown",
   "metadata": {
    "slideshow": {
     "slide_type": "fragment"
    }
   },
   "source": [
    "Which are easily incorporated to the QP above! Thus yielding controller that ensure $\\mathbf{g}(\\mathbf{x}, t) = 0$ as soon as $\\mathbf{g}(\\mathbf{x}_0, 0) = 0$"
   ]
  },
  {
   "cell_type": "markdown",
   "metadata": {
    "slideshow": {
     "slide_type": "subslide"
    }
   },
   "source": [
    "If last is not the case then one would stabilize the differential constraints above, similarly to the Exponential CLF as:\n",
    "\n",
    "$$\n",
    "\\dot{\\boldsymbol{g}}(\\mathbf{x}) + \\mathbf{K} \\boldsymbol{g}(\\mathbf{x}) = \\boldsymbol{0}\n",
    "$$\n",
    "\n",
    "Using very same arguments as above we can write this as constraints linear in $\\mathbf{u}$ and incorporate to the CLF-QP controller."
   ]
  },
  {
   "cell_type": "markdown",
   "metadata": {
    "slideshow": {
     "slide_type": "fragment"
    }
   },
   "source": [
    "For the PD matrix $K$ the above implies convergence of $\\mathbf{g} \\rightarrow 0$"
   ]
  },
  {
   "cell_type": "markdown",
   "metadata": {
    "slideshow": {
     "slide_type": "fragment"
    }
   },
   "source": [
    "One can generilize the notions above by using the so called **reference models**. Suppose that desired behavior of system is given by solution of:\n",
    "$$\n",
    "\\mathbf{H}_r(\\mathbf{x}, t)\\dot{\\mathbf{x}} = \\mathbf{f}_r(\\mathbf{x}, t)\n",
    "$$\n",
    "\n",
    "Substitution of the dynamics will yields linear function of $\\mathbf{u}$ which is directly incorporated to constraints in CLF-QP and resulting control will ensure convergence to the reference behaviour as soon as reference model is stable.  "
   ]
  },
  {
   "cell_type": "markdown",
   "metadata": {
    "slideshow": {
     "slide_type": "subslide"
    }
   },
   "source": [
    "#### **Safety and State Inequality Constraints**\n",
    "\n",
    "In many practical application we not only interested to satisfy the strict **reference** constraints but to remain in some set (safety set) which is given by:\n",
    "$$\n",
    "    \\mathbf{h}(\\mathbf{x}) \\geq 0 \n",
    "$$\n",
    "\n",
    "Unfortunately we can not just differentiate this constraint and resulting inequality to the CLF-QP above. However there are still approaches that are build on the so called invariant sets. One of these are known as **control barrier functions**."
   ]
  },
  {
   "cell_type": "markdown",
   "metadata": {
    "slideshow": {
     "slide_type": "slide"
    }
   },
   "source": [
    "### **Control Barrier Functions**\n",
    "\n",
    "Consider an affine control system with the goal to design a controller to keep the state x in the set:\n",
    "\n",
    "$$\n",
    "\\mathcal{C} = \\{ \\mathbf{x} | h(x)\\geq 0\\}\n",
    "$$\n",
    "\n",
    "Then the function $B$ is a Control Barrier Function if there is exists class $\\mathcal{K}$ functions $\\alpha_1, \\alpha_2$ s.t, for all $\\mathbf{x}\\in \\text{Int}(\\mathcal{C}) = \\{\\mathbf{x} | h(\\mathbf{x})>0\\}$: \n",
    "\n",
    "$$\n",
    "\\frac{1}{\\alpha_1(h(\\mathbf{x}))}\\leq B(\\mathbf{x})< \\frac{1}{\\alpha_2(h(\\mathbf{x}))}\n",
    "$$\n",
    "\n",
    "$$\n",
    "\\dot{B}(\\mathbf{x},\\mathbf{u}) = \\frac{\\partial B}{\\partial \\mathbf{x}}\\mathbf{f}(\\mathbf{x}) + \\frac{\\partial B}{\\partial \\mathbf{x}}\\mathbf{G}(\\mathbf{x})\\mathbf{u} \\leq \\frac{\\gamma}{B(\\mathbf{x})}\n",
    "$$"
   ]
  },
  {
   "cell_type": "markdown",
   "metadata": {
    "slideshow": {
     "slide_type": "subslide"
    }
   },
   "source": [
    "the important properties of the CBF condition is that if there exists a Control Barrier Function, then $\\mathcal{C}$ is **forward invariant**, or in other words, if $\\mathbf{x}(0) = \\mathbf{x}_0 \\in \\mathcal{C}$, then $\\mathbf{x}(t) \\in \\mathcal{C}, \\forall t$."
   ]
  },
  {
   "cell_type": "markdown",
   "metadata": {
    "slideshow": {
     "slide_type": "fragment"
    }
   },
   "source": [
    "In fact constraint above can be directly incroporated in the QP-CLF yielding following optimization problem (CBF-CLF-QP):"
   ]
  },
  {
   "cell_type": "markdown",
   "metadata": {
    "slideshow": {
     "slide_type": "fragment"
    }
   },
   "source": [
    "$$\n",
    "\\begin{aligned}\n",
    "&{\\underset {\\mathbf{u} }{\\operatorname {minimize} }}&& \\mathbf{u}^T\\mathbf{R}(\\mathbf{x})\\mathbf{u} + r d^2\n",
    "\\\\& \\operatorname {subject\\ to} && \\boldsymbol{\\psi}_0(\\mathbf{x}) + \\boldsymbol{\\psi}_1(\\mathbf{x})\\mathbf{u} + \\alpha V(\\mathbf{x}) \\leq d\n",
    "\\\\&&& \\boldsymbol{\\psi}^b_0(\\mathbf{x}) + \\boldsymbol{\\psi}^b_1(\\mathbf{x})\\mathbf{u} \\leq d\n",
    "\\\\&&& \\mathbf{A}(\\mathbf{x}, t)\\mathbf{u}\\leq \\mathbf{b}(\\mathbf{x}, t)\n",
    "% \\\\&&&\\mathbf{K}_p \\tilde{\\mathbf{r}}^e + \\mathbf{K}_d \\dot{\\tilde{\\mathbf{r}}}^e +\\mathbf{F}_d = \\boldsymbol{\\mathcal{J}}_d^T (\\mathbf{u} - \\boldsymbol{\\tau}_d)\n",
    "\\end{aligned}\n",
    "$$"
   ]
  },
  {
   "cell_type": "markdown",
   "metadata": {
    "slideshow": {
     "slide_type": "fragment"
    }
   },
   "source": [
    "The CBF approach is provide the systematic way to handle the constraints, however, the question of designing the barrier it'self remain open."
   ]
  },
  {
   "cell_type": "markdown",
   "metadata": {
    "slideshow": {
     "slide_type": "subslide"
    }
   },
   "source": [
    "There is interesting approaches that overcome this by considering safety set as:\n",
    "$$\n",
    "\\mathcal{C}_0 = \\{ \\mathbf{x} | B(x)\\geq 0\\}\n",
    "$$\n",
    "\n",
    "and proving it's exponential forward invariance."
   ]
  },
  {
   "cell_type": "markdown",
   "metadata": {
    "slideshow": {
     "slide_type": "fragment"
    }
   },
   "source": [
    "#### **Exponential Control Barrier Functions**\n",
    "\n",
    "The idea of exponential control barrier function is based on familiar inequality:\n",
    "\n",
    "$$\n",
    "    \\dot{B}(t) + \\alpha_b B(t) \\geq 0 \n",
    "$$\n",
    "\n"
   ]
  },
  {
   "cell_type": "markdown",
   "metadata": {
    "slideshow": {
     "slide_type": "fragment"
    }
   },
   "source": [
    "Integrating of this yields:\n",
    "\n",
    "$$\n",
    "B(\\mathbf{x}(t)) \\geq B(\\mathbf{x}(0))e^{-\\alpha_b t}\\geq 0\n",
    "$$\n",
    "\n",
    "\n",
    "and thus $B(\\mathbf{x})$ is forward invariant for $\\alpha_b >0$."
   ]
  },
  {
   "cell_type": "markdown",
   "metadata": {
    "slideshow": {
     "slide_type": "subslide"
    }
   },
   "source": [
    "In general case (you need to recall what is relative degree and feedback linearization) one may apply the chained integrator techniques and reformulate condition above as:"
   ]
  },
  {
   "cell_type": "markdown",
   "metadata": {
    "slideshow": {
     "slide_type": "fragment"
    }
   },
   "source": [
    "$$\n",
    "    B^{(r)} \\geq -\\mathbf{K}_b \\mathbf{z}(\\mathbf{x})\n",
    "$$\n"
   ]
  },
  {
   "cell_type": "markdown",
   "metadata": {
    "slideshow": {
     "slide_type": "fragment"
    }
   },
   "source": [
    "With $eta$, being:\n",
    "$$\n",
    "\\mathbf{z} = \n",
    "\\begin{bmatrix}\n",
    "B(x) \\\\\n",
    "\\dot{B}(x) \\\\\n",
    "\\cdots \\\\\n",
    "B^{(r-1)}(x) \\\\\n",
    "\\end{bmatrix}\n",
    "$$\n",
    "\n"
   ]
  },
  {
   "cell_type": "markdown",
   "metadata": {
    "slideshow": {
     "slide_type": "subslide"
    }
   },
   "source": [
    "and $\\mathbf{K}_b$ is the feedback gain that  prove the stability of following dynamical system in companion form:\n",
    "\n",
    "$$\n",
    "\\dot{\\mathbf{z}} = (\\mathbf{A}_b - \\mathbf{B}_b\\mathbf{K}_b) \\mathbf{z}\n",
    "$$"
   ]
  },
  {
   "cell_type": "markdown",
   "metadata": {
    "slideshow": {
     "slide_type": "fragment"
    }
   },
   "source": [
    "where:\n",
    "\n",
    "$$\n",
    "\\mathbf{A}_b = \n",
    "\\begin{bmatrix}\n",
    "0 & 1 & 0 & \\cdot  & 0 \\\\\n",
    "0 & 0 & 1 & \\cdot  & 0 \\\\ \n",
    "\\cdot  & \\cdot  &   & \\cdot & \\cdot \\\\ \n",
    "\\cdot & \\cdot & \\cdot &  & 1 \\\\ \n",
    "0 & 0 & \\cdot & \\cdot  & 0 \\\\ \n",
    "\\end{bmatrix}, \\quad\n",
    "\\mathbf{B}_b = \n",
    "\\begin{bmatrix}\n",
    "0\\\\\n",
    "0\\\\ \n",
    "\\cdot\\\\ \n",
    "\\cdot \\\\ \n",
    "1 \\\\ \n",
    "\\end{bmatrix}, \\quad\n",
    "$$"
   ]
  },
  {
   "cell_type": "markdown",
   "metadata": {
    "slideshow": {
     "slide_type": "skip"
    }
   },
   "source": [
    "LMI CONTROL DESIGN"
   ]
  },
  {
   "cell_type": "markdown",
   "metadata": {
    "slideshow": {
     "slide_type": "skip"
    }
   },
   "source": [
    "SOS APPROACHES"
   ]
  }
 ],
 "metadata": {
  "celltoolbar": "Slideshow",
  "colab": {
   "collapsed_sections": [],
   "name": "symbolical_linearization.ipynb",
   "provenance": []
  },
  "kernelspec": {
   "display_name": "Python 3 (ipykernel)",
   "language": "python",
   "name": "python3"
  },
  "language_info": {
   "codemirror_mode": {
    "name": "ipython",
    "version": 3
   },
   "file_extension": ".py",
   "mimetype": "text/x-python",
   "name": "python",
   "nbconvert_exporter": "python",
   "pygments_lexer": "ipython3",
   "version": "3.8.10"
  },
  "rise": {
   "enable_chalkboard": true,
   "scroll": true,
   "theme": "simple",
   "transition": "linear"
  },
  "vscode": {
   "interpreter": {
    "hash": "36cf16204b8548560b1c020c4e8fb5b57f0e4c58016f52f2d4be01e192833930"
   }
  }
 },
 "nbformat": 4,
 "nbformat_minor": 2
}

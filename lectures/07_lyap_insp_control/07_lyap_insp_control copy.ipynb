{
 "cells": [
  {
   "cell_type": "code",
   "execution_count": 18,
   "metadata": {
    "slideshow": {
     "slide_type": "skip"
    }
   },
   "outputs": [],
   "source": [
    "from utils import simulate, phase_portrait, phase_graph\n",
    "from numpy import linspace\n",
    "from matplotlib.pyplot import *\n",
    "rc('text', usetex=True)"
   ]
  },
  {
   "cell_type": "markdown",
   "metadata": {
    "slideshow": {
     "slide_type": "slide"
    }
   },
   "source": [
    "## **Modern Control Paradigms:**\n",
    "### **Lecture 7: Lyapunov Inspired Control**"
   ]
  },
  {
   "cell_type": "markdown",
   "metadata": {
    "slideshow": {
     "slide_type": "slide"
    }
   },
   "source": [
    "### **Control Design Based on Lyapunov's Direct Method**\n",
    "\n",
    "Previously we have used Lyapunov's direct method for system analysis. In doing the analysis, we have implicitly presumed that certain control laws have been chosen for the systems. \n",
    "\n",
    "However, in many control problems, the **actual task** is to find an **appropriate control law** for a given plant. In the following, we briefly discuss how to apply Lyapunov's direct method for designing stable control\n",
    "systems. \n",
    "\n",
    "Most of the controller design methods we will describe in later classes are actually based on Lyapunov concepts."
   ]
  },
  {
   "cell_type": "markdown",
   "metadata": {
    "slideshow": {
     "slide_type": "slide"
    }
   },
   "source": [
    "\n",
    "There are basically two ways of using Lyapunov's direct method for control design, and both have a trial and error flavor:\n",
    "\n",
    "* The first technique involves **hypothesizing one form of control law** and then finding a Lyapunov function to justify the choice. \n",
    "* The second technique, conversely, requires **hypothesizing a Lyapunov\n",
    "function** candidate and then finding a control law to make this candidate a real\n",
    "Lyapunov function."
   ]
  },
  {
   "cell_type": "markdown",
   "metadata": {
    "slideshow": {
     "slide_type": "slide"
    }
   },
   "source": [
    "Consider the problem of stabilizing the system:\n",
    "\n",
    "\\begin{equation*}\n",
    "    \\ddot{x} - \\dot{x}^3 + x = u \n",
    "\\end{equation*}\n",
    "\n",
    "We are looking for controller in form: \n",
    "\\begin{equation*}\n",
    "    u(x,\\dot{x}) \n",
    "\\end{equation*}\n"
   ]
  },
  {
   "cell_type": "markdown",
   "metadata": {},
   "source": [
    "Let us choose Lyapunov candidate:\n",
    "$$\n",
    "    V = \\frac{1}{2}x^2 + \\frac{1}{2}\\dot{x}^2\n",
    "$$\n"
   ]
  },
  {
   "cell_type": "markdown",
   "metadata": {},
   "source": [
    "Let us now find the time derivative of Lyapunov candidate:\n",
    "$$\n",
    "    \\dot{V} = x\\dot{x} + \\dot{x}\\ddot{x} = \\dot{x}(u+\\dot{x}^3)\n",
    "$$\n",
    "\n",
    "Now one can deduce the control law that will stabilize the system, for instance choosing:\n",
    "$$\n",
    "u = -\\dot{x}-\\dot{x}^3\n",
    "$$\n",
    "will eventually stabilize the system."
   ]
  },
  {
   "cell_type": "markdown",
   "metadata": {},
   "source": [
    "However, as you may already note, there is infinitely many stabilizing controllers, all of them just have to make following constraint feasible:\n",
    "$$\n",
    "    \\dot{V} = \\dot{x}(u+\\dot{x}^3) < 0\n",
    "$$"
   ]
  },
  {
   "cell_type": "markdown",
   "metadata": {},
   "source": [
    "This seemingly intuitive notion actually yields very powerful results."
   ]
  },
  {
   "cell_type": "markdown",
   "metadata": {
    "slideshow": {
     "slide_type": "slide"
    }
   },
   "source": [
    "Assume now that you have the very same equation but with some uncertainty:\n",
    "\n",
    "\\begin{equation*}\n",
    "    \\ddot{x} + p\\dot{x}^3 + x + \\delta = u \n",
    "\\end{equation*}\n",
    "where $|p|\\leq p_{max}$ and $\\delta<|\\delta_{max}|$\n"
   ]
  },
  {
   "cell_type": "markdown",
   "metadata": {},
   "source": [
    "\n",
    "And lets try to use Lyapunov tools to design the robust controller that will stabilize the system above for whatever $\\delta$ and $p$ in the given range. "
   ]
  },
  {
   "cell_type": "markdown",
   "metadata": {},
   "source": [
    "We begin with very same Lyapunov candidate as before:\n",
    "\n",
    "$$\n",
    "    V = \\frac{1}{2}x^2 + \\frac{1}{2}\\dot{x}^2\n",
    "$$"
   ]
  },
  {
   "cell_type": "markdown",
   "metadata": {},
   "source": [
    "Let us now find the time derivative of Lyapunov candidate:\n",
    "$$\n",
    "    \\dot{V} = \\dot{x}(u - p\\dot{x}^3  + \\delta) <0\n",
    "$$"
   ]
  },
  {
   "cell_type": "markdown",
   "metadata": {},
   "source": [
    "Opening now the braces yields:\n",
    "$$\n",
    "    \\dot{V} = \\dot{x}u - p\\dot{x}^4  + \\delta\\dot{x} < \\dot{x} u + p_{max}\\dot{x}^4  + \\delta_{max}|\\dot{x}| \n",
    "$$\n",
    "\n",
    "Thus satisfying the negativity of last one will prove the stability even in presense of uncertainty!\n"
   ]
  },
  {
   "cell_type": "markdown",
   "metadata": {},
   "source": [
    "The resulting robustly stable controller is then defined as:\n",
    "\n",
    "$$\n",
    "    u \\in \\mathcal{U}(x, \\dot{x}), \\quad \\mathcal{U}(x, \\dot{x})  =  \\{u | \\dot{x} u + p_{max}\\dot{x}^4  + \\delta_{max}|\\dot{x}| <0\\}\n",
    "$$"
   ]
  },
  {
   "cell_type": "markdown",
   "metadata": {},
   "source": [
    "In both of these examples we use the very same idea of using Lyapunov candidate as a building block for our controller in contrast to the just proving stability with direct method.   "
   ]
  },
  {
   "cell_type": "markdown",
   "metadata": {},
   "source": [
    "To formulate all of this in more general settings we will introduce the notion of control Lyapunov functions. "
   ]
  },
  {
   "cell_type": "markdown",
   "metadata": {},
   "source": [
    "### **Control Lyapunov Functions**\n",
    "\n",
    "The control Lyapunov functions is the generilization of the Lyapunov stability analysis to the controller design. "
   ]
  },
  {
   "cell_type": "markdown",
   "metadata": {},
   "source": [
    "\n",
    "Consider an autonomous dynamical system with inputs\n",
    "\n",
    "$$\n",
    "\\dot{\\mathbf{x}} = \\mathbf{f}(\\mathbf{x}, \\mathbf{u})\n",
    "$$\n",
    "\n",
    "A control-Lyapunov function (CLF) is a function that is continuously differentiable, positive-definite (that is $V(x) >0, \\forall x$ except $x=0$ where it is zero), and such that for there exists $\\mathbf{u}$ which satisfy:\n",
    "\n",
    " $$\n",
    "    \\dot{V}(\\mathbf{x}, \\mathbf{u}) = \\frac{\\partial V}{\\partial \\mathbf{x}}\\mathbf{f}(\\mathbf{x},\\mathbf{u})<0\n",
    " $$"
   ]
  },
  {
   "cell_type": "markdown",
   "metadata": {},
   "source": [
    "The definition above state that for each state $\\mathbf{x}$ we can find a control $\\mathbf{u}$ that will reduce the value of Lyapunov candidate $V$. Intuitively, if in each state we can always find a way to reduce the $V$, we should eventually be able to bring the $V$ asymptotically to zero, that is to bring the system to a $\\mathbf{x} = 0$. "
   ]
  },
  {
   "cell_type": "markdown",
   "metadata": {},
   "source": [
    "It is hard to satisfy constraints above in general. However, for certain important class of systems we can actually do a lot. One of these  is so called control affine:\n",
    "\n",
    "$$\n",
    "\\dot{\\mathbf{x}} = \\mathbf{f}(\\mathbf{x}) + \\sum^m_{i=1}\\mathbf{g}_i(\\mathbf{x})\\mathbf{u}_i = \\mathbf{f}(\\mathbf{x}) + \\mathbf{G}(\\mathbf{x})\\mathbf{u}\n",
    "$$"
   ]
  },
  {
   "cell_type": "markdown",
   "metadata": {},
   "source": [
    "Given the Lyapunov candidate one may then deduce it's time derivative as follows: \n",
    "\n",
    " $$\n",
    "    \\dot{V}(\\mathbf{x}, \\mathbf{u}) = \\frac{\\partial V}{\\partial \\mathbf{x}}\\mathbf{f}(\\mathbf{x}) + \\frac{\\partial V}{\\partial \\mathbf{x}}\\mathbf{G}(\\mathbf{x})\\mathbf{u} = L_\\mathbf{f}V(\\mathbf{x}) + \\sum L_{\\mathbf{g}_i}V(\\mathbf{x}) u_i \n",
    " $$"
   ]
  },
  {
   "cell_type": "markdown",
   "metadata": {},
   "source": [
    "where $L_\\mathbf{a} b(x) = \\frac{\\partial b}{\\partial \\mathbf{x}}\\mathbf{a}$ is so called Lie derivative (directional derivative) "
   ]
  },
  {
   "cell_type": "markdown",
   "metadata": {},
   "source": [
    "The condition above yields a transparent way to build the family of stabilizing controllers. In fact for given $\\mathbf{x}$ the conditions above a way to construct nonlinear feedback $\\mathbf{u} = \\mathbf{k}(x)$ by ensuring that following constraints is satisfied:\n",
    "\n",
    "$$\n",
    "    \\frac{\\partial V}{\\partial \\mathbf{x}}\\mathbf{f}(\\mathbf{x}) + \\frac{\\partial V}{\\partial \\mathbf{x}}\\mathbf{G}(\\mathbf{x})\\mathbf{k}(\\mathbf{x}) = L_\\mathbf{f}V(\\mathbf{x}) + \\sum L_{\\mathbf{g}_i}V(\\mathbf{x}) k_i(\\mathbf{x}) < 0 \n",
    "$$\n"
   ]
  },
  {
   "cell_type": "markdown",
   "metadata": {},
   "source": [
    "Note how the equation above represent linear constraints in coefficients $k_i$ (for fixed $\\mathbf{x}$) thus it can be used inside most problems in convex optimization framework!\n"
   ]
  },
  {
   "cell_type": "markdown",
   "metadata": {},
   "source": [
    "#### **CLF based Control over Control Affine Systems as Convex Optimization**\n",
    "\n",
    "The optimization problem is defined as follows:\n",
    "\n",
    "\n",
    "USUALLY WE HAVE CONTROLLER GUESS\n",
    "\n",
    "FEASIBILITY PROBLEMS AND RELAXATIONS"
   ]
  },
  {
   "cell_type": "markdown",
   "metadata": {},
   "source": [
    "#### **State and Control Constraints**"
   ]
  },
  {
   "cell_type": "markdown",
   "metadata": {
    "slideshow": {
     "slide_type": "slide"
    }
   },
   "source": [
    "#### **Exponential CLF and Convergence Rates**\n",
    "\n",
    "One can use tha Lyapunov like arguments to deduce not only stability but the **convergence rates** for trajectories, let us consider the real function $V(t)$ that satisfy inequality:\n",
    "$$\n",
    "    \\dot{V}(t) + \\alpha V(t)\\leq0\n",
    "$$\n",
    "where $\\alpha$ is real number, then:\n",
    "$$\n",
    "    V(t) \\leq V(0)e^{-\\alpha t}\n",
    "$$\n",
    "\n",
    "Thus one can estimate speed of convergence for system trajectories just by finding appropriate $V$\n"
   ]
  },
  {
   "cell_type": "markdown",
   "metadata": {},
   "source": [
    "\n",
    "Incorporating this idea as an constraint in to the CLF framework will yields response with guaranteed convergence rate (if $\\alpha$ is pre-specified) and some robust properties! \n",
    "However as we have discussed above it may be the case when state and control constraints are not consistent with predefined desired convergence rate of the dynamics. In this case the Exponential CLF constraint can be relaxed as follows:\n",
    "\n",
    "$$\n",
    "    \\dot{V}(t) + \\alpha V(t) \\leq d(t)\n",
    "$$\n",
    "\n",
    "where $d(t)$ is some positive value to be minimized. \n",
    "\n",
    "By solving the linear differential inequality above one can deduce that the value of Lyapunov function will exponentially decrease until it will reach the level set $d(t)/\\alpha$:\n",
    "$$\n",
    "    V(t) < e^{-\\alpha t}\\Big(V(0) + \\int^{t}_{0}e^{\\alpha \\tau}b(\\tau)d\\tau \\Big) < e^{-\\alpha t}V(0) + \\frac{d_{max}}{\\alpha}\n",
    "$$\n",
    "\n",
    "https://en.wikipedia.org/wiki/Gr%C3%B6nwall%27s_inequality\n",
    "\n"
   ]
  },
  {
   "cell_type": "markdown",
   "metadata": {},
   "source": [
    "THIS WORKS FOR NONAUTONOMOUS SYSTEMS"
   ]
  },
  {
   "cell_type": "markdown",
   "metadata": {},
   "source": [
    "#### ****"
   ]
  },
  {
   "cell_type": "markdown",
   "metadata": {},
   "source": [
    "#### **Differential Equality Constraints:**\n",
    "\n",
    "The formulation of the problem above "
   ]
  },
  {
   "cell_type": "markdown",
   "metadata": {},
   "source": [
    "**Example:**\n",
    "\n",
    "Consider the following state constraints:\n"
   ]
  },
  {
   "cell_type": "markdown",
   "metadata": {},
   "source": [
    "LINEAR MATRIX INEQUALITIES AND SDP "
   ]
  },
  {
   "cell_type": "markdown",
   "metadata": {},
   "source": [
    "### **Example:**\n",
    "\n",
    "Consider the following example:"
   ]
  },
  {
   "cell_type": "markdown",
   "metadata": {},
   "source": [
    "CONTROL LYAPUNOV FUNCTIONS"
   ]
  },
  {
   "cell_type": "markdown",
   "metadata": {},
   "source": [
    "CONTROL AS OPTIMIZATION"
   ]
  },
  {
   "cell_type": "markdown",
   "metadata": {},
   "source": [
    "ADDING HOLONOMYC AND NONHOLONOMIC CONSTRAINTS"
   ]
  },
  {
   "cell_type": "markdown",
   "metadata": {},
   "source": [
    "LMI CONTROL DESIGN"
   ]
  },
  {
   "cell_type": "code",
   "execution_count": null,
   "metadata": {},
   "outputs": [],
   "source": [
    "import cvxpy as cp\n",
    "import numpy as np\n",
    "\n",
    "eps = 0.0001\n",
    "# /////////////////////////////\n",
    "A = cp.Parameter((N, N), name='A')\n",
    "B = cp.Parameter((N, M), name='B')\n",
    "# ////////////////////////////\n",
    "P = cp.Variable((N, N), name='P')\n",
    "Y = cp.Variable((M, N), name='Y')\n",
    "I = np.eye(N)\n",
    "constraints = [P - eps*I>>0]\n",
    "constraints += [-(A@P+P@A.T+B@Y+Y.T@B.T+eps*I)>>0]\n",
    "\n",
    "objective = cp.Minimize(cp.sum_squares(P))\n",
    "prob = cp.Problem(objective, constraints)\n",
    "\n",
    "obj = prob.solve(verbose=True)"
   ]
  },
  {
   "cell_type": "code",
   "execution_count": null,
   "metadata": {},
   "outputs": [],
   "source": [
    "# parsing gains and Lyapunov matrix\n",
    "P_val = P.value\n",
    "Y_val =  Y.value \n",
    "K = Y_val @ np.linalg.inv(P_val)\n",
    "\n",
    "print(obj)\n",
    "print('\\nEigen values of Lyapunov matrix P:')\n",
    "print(np.real(np.linalg.eig(P_val)[0]))\n",
    "print('\\nFeedback gains:')\n",
    "print(K)\n",
    "print('\\nEigen values of closed loop A+BK:')\n",
    "print(np.linalg.eig(A+B@K)[0])\n"
   ]
  },
  {
   "cell_type": "markdown",
   "metadata": {},
   "source": [
    "SUM OF SQUARES"
   ]
  },
  {
   "cell_type": "markdown",
   "metadata": {},
   "source": [
    "BARRIER FUNCTIONS AND SAFETY "
   ]
  },
  {
   "cell_type": "markdown",
   "metadata": {},
   "source": [
    "MERGING SAFETY AND STABILITY"
   ]
  }
 ],
 "metadata": {
  "celltoolbar": "Слайд-шоу",
  "colab": {
   "collapsed_sections": [],
   "name": "symbolical_linearization.ipynb",
   "provenance": []
  },
  "kernelspec": {
   "display_name": "Python 3.8.10 64-bit",
   "language": "python",
   "name": "python3"
  },
  "language_info": {
   "codemirror_mode": {
    "name": "ipython",
    "version": 3
   },
   "file_extension": ".py",
   "mimetype": "text/x-python",
   "name": "python",
   "nbconvert_exporter": "python",
   "pygments_lexer": "ipython3",
   "version": "3.8.10"
  },
  "rise": {
   "enable_chalkboard": true,
   "scroll": true,
   "theme": "simple",
   "transition": "linear"
  },
  "vscode": {
   "interpreter": {
    "hash": "e7370f93d1d0cde622a1f8e1c04877d8463912d04d973331ad4851f04de6915a"
   }
  }
 },
 "nbformat": 4,
 "nbformat_minor": 2
}

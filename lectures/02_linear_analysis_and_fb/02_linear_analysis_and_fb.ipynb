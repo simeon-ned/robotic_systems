{
 "cells": [
  {
   "cell_type": "code",
   "execution_count": 1,
   "metadata": {
    "slideshow": {
     "slide_type": "skip"
    }
   },
   "outputs": [],
   "source": [
    "import numpy as np\n",
    "import matplotlib.pyplot as plt\n",
    "from scipy.integrate import odeint # import integrator routine\n",
    "\n",
    "\n",
    "def simulate(f,\n",
    "             init_state,\n",
    "             t0=0,\n",
    "             tf=1,\n",
    "             N=500,\n",
    "             size =(6, 4),\n",
    "             show_plot=False):\n",
    "\n",
    "    t = np.linspace(t0, tf, N)  # Create time span\n",
    "\n",
    "    x_sol = []\n",
    "    for x_init in init_state:\n",
    "        # integrate system \"sys_ode\" from initial state $x0$\n",
    "        x_sol.append(odeint(f, x_init, t))\n",
    "\n",
    "    plt.figure(figsize=size)\n",
    "    if show_plot:\n",
    "        for sol in x_sol:\n",
    "            plt.plot(t, sol, linewidth=2.0)\n",
    "        plt.grid(color='black', linestyle='--', linewidth=1.0, alpha=0.7)\n",
    "        plt.grid(True)\n",
    "        plt.xlim([t0, tf])\n",
    "        plt.ylabel(r'State $x$')\n",
    "        plt.xlabel(r'Time $t$ (s)')\n",
    "        plt.tight_layout()\n",
    "    # show()\n",
    "        plt.show()\n",
    "\n",
    "\n",
    "    return x_sol\n",
    "\n",
    "\n",
    "def phase_portrait(f,\n",
    "                   x_range=[1, 1],\n",
    "                   cmap='gray',\n",
    "                   contour=False,\n",
    "                   #    show_plot=False,\n",
    "                   size=(7, 5),\n",
    "                   density=0.95,\n",
    "                   draw_grid=False,\n",
    "                   ):\n",
    "\n",
    "    x1_max, x2_max = x_range\n",
    "    x1_span = np.arange(-1.1*x1_max, 1.1*x1_max, 0.1)\n",
    "    x2_span = np.arange(-1.1*x2_max, 1.1*x2_max, 0.1)\n",
    "    x1_grid, x2_grid = np.meshgrid(x1_span, x2_span)\n",
    "    dx1, dx2 = f([x1_grid, x2_grid], 0)\n",
    "\n",
    "    dist = (x1_grid**2 + x2_grid**2)**0.5\n",
    "    lw = 0.8*(2*dist + dist.max()) / dist.max()\n",
    "\n",
    "    # figure(figsize=size)\n",
    "    plt.title('Phase Portrait')\n",
    "\n",
    "    if contour:\n",
    "        plt.contourf(x1_span, x2_span, dist, cmap=cmap, alpha=0.15)\n",
    "\n",
    "    plt.streamplot(x1_span, x2_span, dx1, dx2, arrowsize=1.2,   density=density, color=dist,\n",
    "               cmap=cmap, linewidth=lw, arrowstyle='->')  # ,color=L, cmap='autumn', linewidth = lw)\n",
    "\n",
    "    plt.xlabel(r'State  $x_1$')\n",
    "    plt.ylabel(r'State  $x_2$')\n",
    "\n",
    "    plt.xlim([-x1_max, x1_max])\n",
    "    plt.ylim([-x2_max, x2_max])\n",
    "    if draw_grid:\n",
    "        plt.grid(color='black', linestyle='--', linewidth=1.0, alpha=0.3)\n",
    "        plt.grid(True)\n",
    "    plt.tight_layout()\n",
    "    # show()\n",
    "\n",
    "    return None\n"
   ]
  },
  {
   "cell_type": "markdown",
   "metadata": {
    "slideshow": {
     "slide_type": "slide"
    }
   },
   "source": [
    "## **Modern Control Paradigms:**\n",
    "### **Lecture 2: Basics of System Analysis and Control Design, Stability, Pole-placement, Lyapunov analysis, Region of Attraction**"
   ]
  },
  {
   "cell_type": "markdown",
   "metadata": {
    "slideshow": {
     "slide_type": "subslide"
    }
   },
   "source": [
    "Goals for today:\n",
    "\n",
    "* Recall the analysis techniques for LTI systems: **stability**, pole placement, **controllability**, \n",
    "* Study the different approach for LTI controlability: **Hautus lemma**\n",
    "* Recall the properties and techniques dedicated to nonlinear systems: **linearization**, equilibriums\n",
    "* Study **Lyapunov's direct method** and relationships to **invariant sets**: estimation of **basin of attraction via sampling**\n",
    "\n"
   ]
  },
  {
   "cell_type": "markdown",
   "metadata": {
    "slideshow": {
     "slide_type": "slide"
    }
   },
   "source": [
    "### **Basics of System Analysis and Control Design**"
   ]
  },
  {
   "cell_type": "markdown",
   "metadata": {
    "slideshow": {
     "slide_type": "slide"
    }
   },
   "source": [
    "### **Concepts of Stability**\n",
    "\n",
    "Once the equlibrium or nominal motion is given, the natural question to ask is that how system will behave nearby.\n",
    "This question is directly related to so called **stability**\n",
    "\n",
    "Various types of stability may be discussed for the solutions of differential equations or difference equations describing dynamical systems. The one practically important type is that concerning the stability of solutions near a point of equilibrium. This may be analyzed by the theory of **Aleksandr Lyapunov**. \n",
    "\n",
    "In simple terms, if the solutions that start out near an equilibrium point $\\mathbf{x}_{e}$ stay near $\\mathbf{x}_{e}$ forever, then $\\mathbf{x}_{e}$ is Lyapunov stable. More strongly, if $\\mathbf{x}_{0}$ is Lyapunov stable and all solutions that start out near $\\mathbf{x}_{e}$ converge to $\\mathbf{x}_e$, then $\\mathbf{x}_{e}$ is asymptotically stable. \n",
    "\n"
   ]
  },
  {
   "cell_type": "markdown",
   "metadata": {
    "slideshow": {
     "slide_type": "subslide"
    }
   },
   "source": [
    "\n",
    "A strict definitions are as follows:\n",
    "\n",
    "Equilibrium $\\mathbf{x}_e$ is said to be:\n",
    "*   **Lyapunov stable** if:\n",
    "$$\n",
    "\\forall \\epsilon>0,\\exists\\delta>0, \\|\\mathbf{x}(0) - \\mathbf{x}_e\\|<\\delta \\rightarrow \\|\\mathbf{x}(t) - \\mathbf{x}_e\\|<\\epsilon, \\quad \\forall t\n",
    "$$\n",
    "*   **Asymptotically stable** if it is Lyapunov stable and:\n",
    "$$\n",
    "\\exists \\delta >0, \\|\\mathbf{x}(0) - \\mathbf{x}_e\\|< \\delta, \\rightarrow \\lim_{t\\to\\infty} \\|\\mathbf{x}(t) - \\mathbf{x}_e\\| = 0, \\quad \\forall t\n",
    "$$\n",
    "*   **Exponentially stable** if it is asymptotically stable and:\n",
    "$$\n",
    "\\exists \\delta, \\alpha, \\beta >0, \\|\\mathbf{x}(0) - \\mathbf{x}_e\\|< \\delta, \\rightarrow  \\|\\mathbf{x}(t) - \\mathbf{x}_e\\| \\leq\\alpha\\|\\mathbf{x}(0) - \\mathbf{x}_e\\|^{-{\\beta}t}, \\quad \\forall t  \n",
    "$$"
   ]
  },
  {
   "cell_type": "markdown",
   "metadata": {
    "slideshow": {
     "slide_type": "subslide"
    }
   },
   "source": [
    "Conceptually, the meanings of the above terms are the following:\n",
    "\n",
    "*   **Lyapunov stability** of an equilibrium means that solutions starting \"close enough\" to the equilibrium (within a distance $\\delta$  from it) remain \"close enough\" forever\n",
    "*   **Asymptotic stability** means that solutions that start close enough not only remain close enough but also eventually converge to the equilibrium.\n",
    "*  **Exponential** stability means that solutions not only converge, but in fact converge faster than or at least as fast as a particular known rate $\\alpha\\|\\mathbf{x}(0) - \\mathbf{x}_e\\|^{-{\\beta}t}$\n"
   ]
  },
  {
   "cell_type": "markdown",
   "metadata": {
    "slideshow": {
     "slide_type": "subslide"
    }
   },
   "source": [
    "### **Stability of LTI systems**\n",
    "\n",
    "Let us start with stability of LTI systems:\n",
    "$$\n",
    "\\mathbf{\\dot{x}}=\\mathbf{A}\\mathbf{x}\n",
    "$$\n",
    "An integral above can be calculated analytically:\n",
    "$$\n",
    "\\mathbf{x}^*(t)=e^{\\mathbf{A}t}\\mathbf{x}(0)\n",
    "$$\n",
    "where matrix exponential is defined via power series:\n",
    "$$\n",
    " e^{\\mathbf{A}t}=\\sum _{k=0}^{\\infty }{1 \\over k!}\\mathbf{A}^{k}t^k\n",
    "$$\n"
   ]
  },
  {
   "cell_type": "markdown",
   "metadata": {
    "slideshow": {
     "slide_type": "fragment"
    }
   },
   "source": [
    "\n",
    "A natural questions to ask:\n",
    "*   How to calculate this matrix exponential without power series?\n",
    "*   Do we need can we analyze the behaviour of solutions without explicitly solving ODE?\n",
    "\n"
   ]
  },
  {
   "cell_type": "markdown",
   "metadata": {
    "slideshow": {
     "slide_type": "subslide"
    }
   },
   "source": [
    "\n",
    "Let us first consider the first question, assume for a while that we can do the following factorization:\n",
    "$$\n",
    "\\mathbf{A}=\\mathbf{Q}\\mathbf{\\Lambda}\\mathbf{Q}^{-1}  \n",
    "$$"
   ]
  },
  {
   "cell_type": "markdown",
   "metadata": {
    "slideshow": {
     "slide_type": "subslide"
    }
   },
   "source": [
    "Thus defining new variables $\\mathbf{z} = \\mathbf{Q}^{-1}\\mathbf{x}$ yields:\n",
    "$$\n",
    "\\dot{\\mathbf{z}} = \\mathbf{\\Lambda}\\mathbf{z}\n",
    "$$\n",
    "Which is in fact just a system of decoupled equations:\n",
    "$$\n",
    "\\dot{z}_i = \\lambda_i z_i,\\quad i = 1,2\\dots,n\n",
    "$$\n",
    "with known solutions:\n",
    "$$\n",
    "z^*_i = e^{\\lambda_i t} z_i(0)\n",
    "$$\n",
    "\n",
    "Recalling that $\\lambda_i$ is nothing but eigenvalues of matrix $\\mathbf{A}$, thus one may discuss behavior of solution without explicitly calculating them, just by linear analysis on $\\mathbf{A}$! \n",
    "\n"
   ]
  },
  {
   "cell_type": "markdown",
   "metadata": {
    "slideshow": {
     "slide_type": "subslide"
    }
   },
   "source": [
    "\n",
    "\n",
    "The solution $z_i =  e^{\\lambda_i t}z_i(0)$ can be decomposed using Euler's identity:\n",
    "$$\n",
    "    z_i =  e^{\\lambda_i t}z_i(0) =\n",
    "    e^{(\\alpha_i + i \\beta_i) t}z_i(0) =\n",
    "    e^{\\alpha_i t} \n",
    "          e^{i \\beta_i t}z_i(0) = \n",
    "    e^{\\alpha_i t} \n",
    "    (\\cos(\\beta_i t) + i \\sin(\\beta_i t))z_i(0)\n",
    "$$\n",
    "where $\\lambda_i = \\alpha_i + i \\beta_i, \\operatorname{Re}{\\lambda_i} = \\alpha_i, \\operatorname{Im}{\\lambda_i} = \\beta_i$\n"
   ]
  },
  {
   "cell_type": "markdown",
   "metadata": {
    "slideshow": {
     "slide_type": "fragment"
    }
   },
   "source": [
    "\n",
    "Since $\\| (\\cos(\\beta_i t) + i \\sin(\\beta_i t))\\| =1$ thus, norm of $z_i$:\n",
    "\n",
    "---\n",
    "* Bounded if $\\operatorname{Re}{\\lambda_i} = \\alpha_i \\leq 0, \\forall i$,, hence the system is **Lyapunov stable**. \n",
    "* Decreasing if $\\operatorname{Re}{\\lambda_i} = \\alpha_i < 0, \\forall i$, hence the system is **asymptotically** and moreover **exponentially** stable. \n",
    "* Increasing if $\\exists i, \\operatorname{Re}{\\lambda_i} = \\alpha_i > 0$, hence the system is **unstable**. \n",
    "---"
   ]
  },
  {
   "cell_type": "markdown",
   "metadata": {
    "slideshow": {
     "slide_type": "subslide"
    }
   },
   "source": [
    "**Example:**\n",
    "\n",
    "Determine for which values of b the following system is stable and for which it is not:\n",
    "$$\n",
    "\\ddot{y} + b\\dot{y} + y = 0  \n",
    "$$"
   ]
  },
  {
   "cell_type": "markdown",
   "metadata": {
    "slideshow": {
     "slide_type": "fragment"
    }
   },
   "source": [
    "First let us formulate the state space representation:\n",
    "$$\n",
    "\\mathbf{A} = \n",
    "\\begin{bmatrix}\n",
    "0 & 1 \\\\ \n",
    "-1 & -b \\\\   \n",
    "\\end{bmatrix}\n",
    "$$"
   ]
  },
  {
   "cell_type": "markdown",
   "metadata": {
    "slideshow": {
     "slide_type": "fragment"
    }
   },
   "source": [
    "the characteristing polynomial is:\n",
    "$$\n",
    "\\Delta(\\lambda) = \\lambda^2 + \\lambda b + 1\n",
    "$$\n",
    "\n",
    "with roots $\\lambda_{1,2} = -\\frac{b}{2} \\pm \\sqrt{(\\frac{b}{2})^2 -1}$"
   ]
  },
  {
   "cell_type": "markdown",
   "metadata": {
    "slideshow": {
     "slide_type": "fragment"
    }
   },
   "source": [
    "\n",
    "Thus for $b>0$, $\\operatorname{Re}{\\lambda_i} < 0$ and system is stable, for $b<0$ $\\operatorname{Re}{\\lambda_i} > 0$ and system is unstable, while for $b = 0$ $\\operatorname{Re}{\\lambda_i} = 0$ and system is marginally stable."
   ]
  },
  {
   "cell_type": "markdown",
   "metadata": {
    "slideshow": {
     "slide_type": "subslide"
    }
   },
   "source": [
    "**Example:**\n",
    "\n",
    "Check the stability of ordinary 4-rd order differential equation in canonical form:\n",
    "$$\n",
    "y^{(3)} + 2\\ddot{y} + 3\\dot{y}  + y = 0  \n",
    "$$"
   ]
  },
  {
   "cell_type": "markdown",
   "metadata": {
    "slideshow": {
     "slide_type": "fragment"
    }
   },
   "source": [
    "The system matrix is given by:\n",
    "$$\n",
    "\\mathbf{A} = \n",
    "\\begin{bmatrix}\n",
    "0 & 1 & 0 \\\\ \n",
    "0 & 0 & 1 \\\\ \n",
    "-2 & -3 & -1 \\\\  \n",
    "\\end{bmatrix}\n",
    "$$"
   ]
  },
  {
   "cell_type": "markdown",
   "metadata": {
    "slideshow": {
     "slide_type": "fragment"
    }
   },
   "source": [
    "Let us calculate eigen-values:"
   ]
  },
  {
   "cell_type": "code",
   "execution_count": 2,
   "metadata": {
    "slideshow": {
     "slide_type": "fragment"
    }
   },
   "outputs": [
    {
     "data": {
      "text/plain": [
       "array([-0.71522524, -0.14238738, -0.14238738])"
      ]
     },
     "execution_count": 2,
     "metadata": {},
     "output_type": "execute_result"
    }
   ],
   "source": [
    "A = np.array([[0, 1, 0],\n",
    "              [0, 0, 1], \n",
    "              [-2, -3, -1]])\n",
    "              \n",
    "lambdas, Q = np.linalg.eig(A)\n",
    "np.real(lambdas)"
   ]
  },
  {
   "cell_type": "markdown",
   "metadata": {
    "slideshow": {
     "slide_type": "subslide"
    }
   },
   "source": [
    "The very similar analysis may be performed in case of **discrete dynamics** in form:\n",
    "$$\n",
    "\\mathbf{x}_{k+1}=\\mathbf{A}\\mathbf{x}_k\n",
    "$$\n",
    "\n",
    "And the stability criterion will be as follows:\n",
    "\n",
    "---\n",
    "* Bounded if $ |\\lambda_i|\\leq 1,\\forall i$, hence the system is **Lyapunov stable**. \n",
    "* Decreasing if $|\\lambda_i| < 1,\\forall i$, hence the system is **asymptotically** and moreover **exponentially** stable. \n",
    "* Increasing if $\\exists i, |\\lambda_i|>1 $, hence the system is **unstable**. \n",
    "---"
   ]
  },
  {
   "cell_type": "markdown",
   "metadata": {
    "slideshow": {
     "slide_type": "subslide"
    }
   },
   "source": [
    "**Exercise:**\n",
    "Consider again the 'damper system' described by matrix:\n",
    "$$\n",
    "\\mathbf{A} = \n",
    "\\begin{bmatrix}\n",
    "0 & 1 \\\\ \n",
    "-1 & -b \\\\   \n",
    "\\end{bmatrix}\n",
    "$$"
   ]
  },
  {
   "cell_type": "markdown",
   "metadata": {
    "slideshow": {
     "slide_type": "-"
    }
   },
   "source": [
    "Suppose that you know that $|b|<2$, does this imply that system is stable? If not, find the tightest bound on $b$."
   ]
  },
  {
   "cell_type": "markdown",
   "metadata": {
    "slideshow": {
     "slide_type": "subslide"
    }
   },
   "source": [
    "### **From Analysis to Design: Pole placement**\n",
    "As we have seen above, the proof of stability of a linear system is fairly straightforward and can be carried out through the analysis of eigenvalues, the natural question arises: can we transform an unstable system into a stable one by means of control? \n",
    "\n",
    "To answer this let us consider a LTI system:\n",
    "$$\n",
    "\\dot{\\mathbf{x}} = \\mathbf{A}\\mathbf{x} + \\mathbf{B}\\mathbf{u}\n",
    "$$"
   ]
  },
  {
   "cell_type": "markdown",
   "metadata": {
    "slideshow": {
     "slide_type": "fragment"
    }
   },
   "source": [
    "\n",
    "with control $\\mathbf{u}$ being the **full state linear feedback**:\n",
    "$$\n",
    "\\mathbf{u} = \\boldsymbol{\\phi}(\\mathbf{x}) = -\\mathbf{K}\\mathbf{x}\n",
    "$$"
   ]
  },
  {
   "cell_type": "markdown",
   "metadata": {
    "slideshow": {
     "slide_type": "fragment"
    }
   },
   "source": [
    "Substitution to system dynamics yields following closed loop relations:\n",
    "$$\n",
    "\\dot{\\mathbf{x}} = (\\mathbf{A}-\\mathbf{B}\\mathbf{K})\\mathbf{x} = \\mathbf{A}_c\\mathbf{x}\n",
    "$$\n",
    "\n",
    "Thus the control design dedicated to stabilize original system **seen as modifying the eigen values of matrix $\\mathbf{A}_c$ such that the resulting system will have required properties** (namely stability, response time etc). \n",
    "\n",
    "This method is called **pole-placement** (poles - are other names for eigen values).\n",
    "\n"
   ]
  },
  {
   "cell_type": "code",
   "execution_count": 3,
   "metadata": {
    "slideshow": {
     "slide_type": "fragment"
    }
   },
   "outputs": [],
   "source": [
    "from scipy.signal import place_poles"
   ]
  },
  {
   "cell_type": "markdown",
   "metadata": {
    "slideshow": {
     "slide_type": "subslide"
    }
   },
   "source": [
    "Let us test the pole placement technique to stabilize several linear systems."
   ]
  },
  {
   "cell_type": "markdown",
   "metadata": {
    "slideshow": {
     "slide_type": "fragment"
    }
   },
   "source": [
    "**Example: Pole placement for mass-spring, PD regulator.**\n",
    "\n",
    "Consider the mass-spring system:\n",
    "\n",
    "$$\n",
    "\\dot{\\mathbf{x}}\n",
    " = \\mathbf{A}\\mathbf{x} + \\mathbf{B}\\mathbf{u} =\n",
    "\\begin{bmatrix}\n",
    "\\dot{y}\\\\\n",
    "\\ddot{y}\n",
    "\\end{bmatrix}=\n",
    "\\begin{bmatrix}\n",
    "0 & 1\\\\\n",
    "-\\frac{k}{m} & 0\n",
    "\\end{bmatrix}\n",
    " \\begin{bmatrix}\n",
    "y\\\\\n",
    "\\dot{y}\n",
    "\\end{bmatrix}+\n",
    "\\begin{bmatrix}\n",
    "0\\\\\n",
    "\\frac{1}{m}\n",
    "\\end{bmatrix}u\n",
    "$$"
   ]
  },
  {
   "cell_type": "markdown",
   "metadata": {
    "slideshow": {
     "slide_type": "fragment"
    }
   },
   "source": [
    "In case of this two dimensional linear mechanical system we can put the poles analytically. Thus arriving to so called PD controller $u = -k_1 y - k_2 \\dot{y}$. \n",
    "\n",
    "Indeed the characteristic polynomial of closed loop system $\\mathbf{A - B\\mathbf{K}}$ is:\n",
    "$$\n",
    "\\Delta(\\lambda) = \\lambda(\\lambda + k_2) + \\frac{k+ k_1}{m}  = \\lambda^2 +  \\frac{k_2}{m}\\lambda + \\frac{k+ k_1}{m}\n",
    "$$\n",
    "\n",
    "Obviously we can place poles whatever we want by varying $k_1, k_2$.\n"
   ]
  },
  {
   "cell_type": "markdown",
   "metadata": {
    "slideshow": {
     "slide_type": "subslide"
    }
   },
   "source": [
    "**Example: Pole placement for DC motor**\n",
    "Design the controller that will steer angle for the DC motor driven by the voltage $V$ with state space representation:\n",
    "\n",
    "$$\n",
    "\\begin{bmatrix}\n",
    "\\dot{\\theta} \\\\\n",
    "\\ddot{\\theta} \\\\\n",
    "\\dot{i}\n",
    "\\end{bmatrix} =\n",
    "\\begin{bmatrix}\n",
    "0 & 1 & 0 \\\\\n",
    "0 & -\\frac{b}{J} & \\frac{K_m}{J} \\\\\n",
    "0 & -\\frac{K_e}{L} & -\\frac{R}{L}\n",
    "\\end{bmatrix} \n",
    "\\begin{bmatrix}\n",
    "\\theta \\\\\n",
    "\\dot{\\theta} \\\\\n",
    "i\n",
    "\\end{bmatrix}\n",
    "+\n",
    "\\begin{bmatrix}\n",
    "0 \\\\\n",
    "0 \\\\\n",
    "\\frac{1}{L}\n",
    "\\end{bmatrix}V\n",
    "$$\n"
   ]
  },
  {
   "cell_type": "markdown",
   "metadata": {
    "slideshow": {
     "slide_type": "fragment"
    }
   },
   "source": [
    "Let's define parameters first:"
   ]
  },
  {
   "cell_type": "code",
   "execution_count": 4,
   "metadata": {
    "slideshow": {
     "slide_type": "fragment"
    }
   },
   "outputs": [],
   "source": [
    "k_m = 0.0274\n",
    "k_e = k_m\n",
    "J = 3.2284E-6\n",
    "b = 3.5077E-6\n",
    "L = 2.75E-6\n",
    "R = 4"
   ]
  },
  {
   "cell_type": "markdown",
   "metadata": {
    "slideshow": {
     "slide_type": "fragment"
    }
   },
   "source": [
    "The state space matrices:"
   ]
  },
  {
   "cell_type": "code",
   "execution_count": 5,
   "metadata": {
    "slideshow": {
     "slide_type": "fragment"
    }
   },
   "outputs": [],
   "source": [
    "A_dc = [[0, 1, 0],\n",
    "        [0, -b/J, k_m/J],\n",
    "        [0, -k_e/L, -R/L]]\n",
    "\n",
    "B_dc = [[0],\n",
    "        [0],\n",
    "        [1/L]]\n"
   ]
  },
  {
   "cell_type": "markdown",
   "metadata": {
    "slideshow": {
     "slide_type": "subslide"
    }
   },
   "source": [
    "\n",
    "Let us try to place the poles in the following locations:"
   ]
  },
  {
   "cell_type": "code",
   "execution_count": 6,
   "metadata": {
    "slideshow": {
     "slide_type": "fragment"
    }
   },
   "outputs": [
    {
     "name": "stdout",
     "output_type": "stream",
     "text": [
      "[-10. -20. -30.]\n"
     ]
    },
    {
     "data": {
      "image/png": "[encoded data removed]",
      "text/plain": [
       "<Figure size 400x400 with 1 Axes>"
      ]
     },
     "metadata": {},
     "output_type": "display_data"
    }
   ],
   "source": [
    "P = 10*np.array([-1+0j, -2-0j, -3 - 0j])\n",
    "\n",
    "K_dc = place_poles(np.array(A_dc), np.array(B_dc), np.array(P)).gain_matrix\n",
    "Ac = A_dc - B_dc@K_dc\n",
    "eigs = np.linalg.eigvals(Ac)\n",
    "print(eigs)\n",
    "\n",
    "plt.figure(figsize=(4, 4))\n",
    "plt.plot(P.real, P.imag, 'bo', label='Desired')\n",
    "plt.plot(eigs.real, eigs.imag, 'rx',label='Actual')\n",
    "plt.grid(color='black', linestyle='--', linewidth=1.0, alpha = 0.7)\n",
    "plt.grid(True)\n",
    "plt.xlabel(r'Real part: ${ \\operatorname{Re}(\\lambda)}$')\n",
    "plt.ylabel(r'Imaginary part: ${ \\operatorname{Im}(\\lambda)}$')\n",
    "plt.show()"
   ]
  },
  {
   "cell_type": "code",
   "execution_count": 7,
   "metadata": {
    "slideshow": {
     "slide_type": "subslide"
    }
   },
   "outputs": [
    {
     "data": {
      "image/png": "[encoded data removed]",
      "text/plain": [
       "<Figure size 800x300 with 1 Axes>"
      ]
     },
     "metadata": {},
     "output_type": "display_data"
    }
   ],
   "source": [
    "def system_ode(x, t, A, B, K, x_d):\n",
    "    x_e = x_d - x \n",
    "    u = np.dot(K,x_e)  \n",
    "    dx = np.dot(A,x) + np.dot(B,u)\n",
    "    return dx\n",
    "\n",
    "tf = 1.5 # Final time\n",
    "N = int(2E3) # Numbers of points in time span\n",
    "t = np.linspace(0, tf, N) # Create time span\n",
    "\n",
    "# Set initial state\n",
    "x0 = [1, 0, 0]  \n",
    "# Desired point\n",
    "x_d = [5, 0, 0]\n",
    "\n",
    "x_sol = odeint(system_ode, x0, t, args=(A_dc, B_dc, K_dc,x_d,)) # integrate system \"sys_ode\" from initial state $x0$\n",
    "theta, dtheta, i = x_sol[:,0], x_sol[:,1], x_sol[:,2] # set theta, dtheta to be a respective solution of system states\n",
    "\n",
    "\n",
    "plt.figure(figsize=(8, 3))\n",
    "plt.hlines(x_d[0], min(t), max(t), color = 'black', linestyles='--', linewidth=2.0)\n",
    "plt.plot(t, theta, 'r', linewidth=2.0)\n",
    "plt.grid(color='black', linestyle='--', linewidth=1.0, alpha = 0.7)\n",
    "plt.grid(True)\n",
    "plt.xlim([0, tf])\n",
    "plt.ylabel(r'Motor Angle ${\\theta}$ (rad)')\n",
    "plt.xlabel(r'Time $t$ (s)')\n",
    "plt.show()\n",
    "\n"
   ]
  },
  {
   "cell_type": "markdown",
   "metadata": {
    "slideshow": {
     "slide_type": "subslide"
    }
   },
   "source": [
    "That's all good, but what are the conditions on which we can place poles? Can we do this always for whatever $\\mathbf{A}$ and $\\mathbf{B}$? \n"
   ]
  },
  {
   "cell_type": "markdown",
   "metadata": {
    "slideshow": {
     "slide_type": "fragment"
    }
   },
   "source": [
    "Let us for example consider the following linear system:\n",
    "\n",
    "$$\n",
    "    \\begin{cases}\n",
    "        \\dot{x}_1 = x_1 + x_2 + u\\\\\n",
    "        \\dot{x}_2 = ax_2 \n",
    "    \\end{cases} \n",
    "$$\n",
    "\n"
   ]
  },
  {
   "cell_type": "markdown",
   "metadata": {
    "slideshow": {
     "slide_type": "fragment"
    }
   },
   "source": [
    "Which can be transformed to LTI state space via:\n",
    "\n",
    "$$\n",
    "\\mathbf{A} = \n",
    "\\begin{bmatrix}\n",
    "a & 1 \\\\ \n",
    "0 & b \\\\   \n",
    "\\end{bmatrix}, \n",
    "\\quad\\mathbf{B} = \n",
    "\\begin{bmatrix}\n",
    "1 \\\\ \n",
    "0 \\\\   \n",
    "\\end{bmatrix}\n",
    "$$"
   ]
  },
  {
   "cell_type": "markdown",
   "metadata": {
    "slideshow": {
     "slide_type": "fragment"
    }
   },
   "source": [
    "Let us define the system and place poles:"
   ]
  },
  {
   "cell_type": "code",
   "execution_count": 8,
   "metadata": {
    "slideshow": {
     "slide_type": "fragment"
    }
   },
   "outputs": [
    {
     "data": {
      "text/plain": [
       "array([[5., 1.]])"
      ]
     },
     "execution_count": 8,
     "metadata": {},
     "output_type": "execute_result"
    }
   ],
   "source": [
    "a = -1\n",
    "b = 1\n",
    "A = np.array([[1, 1],\n",
    "              [0, a]])\n",
    "\n",
    "B = np.array([[1],\n",
    "              [0]])\n",
    "\n",
    "P = np.array([-1, -4])\n",
    "K = place_poles(np.array(A), np.array(B), np.array(P)).gain_matrix\n",
    "K"
   ]
  },
  {
   "cell_type": "markdown",
   "metadata": {
    "slideshow": {
     "slide_type": "fragment"
    }
   },
   "source": [
    "Given the feedback $\\mathbf{u} = -k_1 x_1 - k_2 x_2$ the characteristic polynomial is:\n",
    "$$\n",
    "\\Delta(\\lambda) = (\\lambda - a + k_1)(\\lambda - b)\n",
    "$$\n",
    "so we can't place poles at **any** desired locations (at least one of them), does it necessarily mean that we can't stabilize the system above? "
   ]
  },
  {
   "cell_type": "markdown",
   "metadata": {
    "slideshow": {
     "slide_type": "fragment"
    }
   },
   "source": [
    "We can't hope to place poles whenever we want for any desired system. In the end it may happen that system can't be controlled at all or there is certain directions in the state space that are not achievable. "
   ]
  },
  {
   "cell_type": "markdown",
   "metadata": {
    "slideshow": {
     "slide_type": "subslide"
    }
   },
   "source": [
    "### **Controlability**\n",
    "\n",
    "Controllability is an important property of a control system, and the controllability property plays a crucial role in many control problems, such as stabilization of unstable systems by feedback, or optimal control. Roughly, the concept of controllability denotes the ability to move a system around in its entire configuration space using only certain admissible manipulations. \n",
    "\n",
    "The most widely used notions of controlability was introduce by Kalman with help of following $n\\times nm$ matrix:\n",
    "\n",
    "$$\n",
    "\\boldsymbol{\\mathcal{C}}=\n",
    "\\begin{bmatrix}\n",
    "\\mathbf{B}&\n",
    "\\mathbf{AB}&\n",
    "\\mathbf{A^{{2}}B}&\n",
    "...&\n",
    "\\mathbf{A^{{n-1}}B}\n",
    "\\end{bmatrix}\n",
    "$$\n",
    "\n",
    "The theory says that system is **full state controllable iff** the controllability matrix has full row rank:\n",
    "\n",
    "$$\n",
    "\\text{rank}\\{\\boldsymbol{\\mathcal{C}}\\}\n",
    "=n\n",
    "$$"
   ]
  },
  {
   "cell_type": "markdown",
   "metadata": {
    "slideshow": {
     "slide_type": "subslide"
    }
   },
   "source": [
    "There are tight relationships between controlability and pole placement technique, if system is **controlable** one may place poles **at any desired locations**. In fact in most pole-placement algorithms (for instance celebrated [Ackerman formula](https://en.wikipedia.org/wiki/Ackermann%27s_formula)) one need to invert controllability matrix! "
   ]
  },
  {
   "cell_type": "markdown",
   "metadata": {
    "slideshow": {
     "slide_type": "fragment"
    }
   },
   "source": [
    "The code that implement above is straight forward:"
   ]
  },
  {
   "cell_type": "code",
   "execution_count": 9,
   "metadata": {
    "slideshow": {
     "slide_type": "fragment"
    }
   },
   "outputs": [],
   "source": [
    "def ctrb(A, B):\n",
    "    C = B\n",
    "    n = np.shape(A)[0]\n",
    "    # print(n)\n",
    "    for i in range(1, n):\n",
    "        A_pwr_n = np.linalg.matrix_power(A, i)\n",
    "        C = np.hstack((C, A_pwr_n.dot(B)))\n",
    "    rank_C = np.linalg.matrix_rank(C)\n",
    "\n",
    "    if rank_C == n:\n",
    "        test = 'controllable'\n",
    "    else:\n",
    "        test = 'uncontrollable'\n",
    "    return C, rank_C, test"
   ]
  },
  {
   "cell_type": "markdown",
   "metadata": {
    "slideshow": {
     "slide_type": "subslide"
    }
   },
   "source": [
    "Let's test the controllability of systems that we have considered above. "
   ]
  },
  {
   "cell_type": "code",
   "execution_count": 10,
   "metadata": {
    "slideshow": {
     "slide_type": "fragment"
    }
   },
   "outputs": [
    {
     "data": {
      "text/plain": [
       "(array([[1, 1],\n",
       "        [0, 0]]),\n",
       " 1,\n",
       " 'uncontrollable')"
      ]
     },
     "execution_count": 10,
     "metadata": {},
     "output_type": "execute_result"
    }
   ],
   "source": [
    "ctrb(A, B)"
   ]
  },
  {
   "cell_type": "markdown",
   "metadata": {
    "slideshow": {
     "slide_type": "fragment"
    }
   },
   "source": [
    "Now we can test for controllability just by analyzing the products of $\\mathbf{A}$ and $\\mathbf{B}$ matrices. However there are two issues with celebrated Kalman method. First of all - it is **numerically not stable** (the powers of $\\mathbf{A}$ is prone to accumulation of errors for higher dimensions of $n$ and badly scaled $\\mathbf{A}$ and $\\mathbf{B}$). "
   ]
  },
  {
   "cell_type": "markdown",
   "metadata": {
    "slideshow": {
     "slide_type": "subslide"
    }
   },
   "source": [
    "**Example: Wrong Controlability for DC motor**\n",
    "\n",
    "Consider the DC motor given above with following parameters:\n"
   ]
  },
  {
   "cell_type": "code",
   "execution_count": 11,
   "metadata": {
    "slideshow": {
     "slide_type": "fragment"
    }
   },
   "outputs": [],
   "source": [
    "k_m = 0.0274\n",
    "k_e = k_m\n",
    "J = 3.2284E-6\n",
    "b = 3.5077E-6\n",
    "L = 2.75E-6\n",
    "R = 4"
   ]
  },
  {
   "cell_type": "markdown",
   "metadata": {
    "slideshow": {
     "slide_type": "subslide"
    }
   },
   "source": [
    "Let us run controllability test:"
   ]
  },
  {
   "cell_type": "code",
   "execution_count": 12,
   "metadata": {
    "slideshow": {
     "slide_type": "fragment"
    }
   },
   "outputs": [
    {
     "data": {
      "text/plain": [
       "(array([[ 0.00000000e+00,  0.00000000e+00,  3.08624593e+09],\n",
       "        [ 0.00000000e+00,  3.08624593e+09, -4.48908834e+15],\n",
       "        [ 3.63636364e+05, -5.28925620e+11,  7.69315606e+17]]),\n",
       " 2,\n",
       " 'uncontrollable')"
      ]
     },
     "execution_count": 12,
     "metadata": {},
     "output_type": "execute_result"
    }
   ],
   "source": [
    "A = [[0, 1, 0],\n",
    "        [0, -b/J, k_m/J],\n",
    "        [0, -k_e/L, -R/L]]\n",
    "\n",
    "B = [[0],\n",
    "        [0],\n",
    "        [1/L]]\n",
    "\n",
    "ctrb(A, B)"
   ]
  },
  {
   "cell_type": "markdown",
   "metadata": {
    "slideshow": {
     "slide_type": "fragment"
    }
   },
   "source": [
    "Oups the answer is surprising, even though we were able to place poles the system is said to be uncontrollable. The issues are indeed numerical (check the inductance parameter $L$)  "
   ]
  },
  {
   "cell_type": "markdown",
   "metadata": {
    "slideshow": {
     "slide_type": "subslide"
    }
   },
   "source": [
    "Appart from numerical issues, there is also fundamental one, Kalman controllability is \"binary\", basically we have just yes/no answer, while there is no information on structure of problem, i.e. which directions are uncontrollable and why. Fortunately there is another method that allow us to study linear controllability problem.  "
   ]
  },
  {
   "cell_type": "markdown",
   "metadata": {
    "slideshow": {
     "slide_type": "slide"
    }
   },
   "source": [
    "### **Popov-Belevitch-Hautus Controllability**\n",
    "\n",
    "The alternative view of controlability was provided separately by  Hautus, Popov and Belevitch in the 1970-th. it is known as **Hautus lemma**, also commonly known as the Popov-Belevitch-Hautus test or PBH test.\n",
    "\n",
    "The lemma is stated as follows, pair $\\{\\mathbf{A}, \\mathbf{B}\\}$ is said to be controllable iff:\n",
    "\n",
    "$$\n",
    "\\text{rank}\\{ \n",
    "\\begin{bmatrix}\n",
    "\\mathbf{A} - \\zeta \\mathbf{I}\n",
    "&\n",
    "\\mathbf{B}\n",
    "\\end{bmatrix}\n",
    "  \\} =n, \\quad\n",
    "  \\forall \\zeta \\in \n",
    "  \\mathbb{C}\n",
    "$$\n"
   ]
  },
  {
   "cell_type": "markdown",
   "metadata": {
    "slideshow": {
     "slide_type": "fragment"
    }
   },
   "source": [
    "\n",
    "However the only way for $\\mathbf{A} - \\lambda\\mathbf{I}$ to lose the rank is for $\\lambda$ to be the eigenvalue of $\\mathbf{A}$, thus instead of checking the entire complex plane we may consider just the eigenvalues:\n",
    "\n",
    "$$\n",
    "\\text{rank}\\{ \n",
    "\\begin{bmatrix}\n",
    "\\mathbf{A} - \\lambda_i \\mathbf{I}\n",
    "&\n",
    "\\mathbf{B}\n",
    "\\end{bmatrix}\n",
    "  \\} =n, \\quad\n",
    "  \\forall i \\in \n",
    "  \\{1, 2,\\dots, n\\}\n",
    "$$\n"
   ]
  },
  {
   "cell_type": "code",
   "execution_count": 13,
   "metadata": {
    "slideshow": {
     "slide_type": "subslide"
    }
   },
   "outputs": [],
   "source": [
    "def pbh(A, B):\n",
    "    lambdas, v = np.linalg.eig(A)\n",
    "    n = np.shape(A)[0]\n",
    "    ranks = n*[0]\n",
    "    test = 'controllable'\n",
    "    for i in range(n):\n",
    "      A_e = A - lambdas[i]*np.eye(n)\n",
    "      M = np.hstack((A_e, B))\n",
    "      ranks[i] = np.linalg.matrix_rank(M)\n",
    "      if ranks[i] != n:\n",
    "        test = 'uncontrollable'\n",
    "    return lambdas, ranks , test"
   ]
  },
  {
   "cell_type": "code",
   "execution_count": 14,
   "metadata": {
    "slideshow": {
     "slide_type": "fragment"
    }
   },
   "outputs": [
    {
     "name": "stdout",
     "output_type": "stream",
     "text": [
      "Eigen values of PBH matrices:\n",
      "[ 0.00000000e+00 -5.92260385e+01 -1.45448732e+06]\n",
      "\n",
      "Ranks of the PBH matrices: [3, 3, 3],\n",
      "system is controllable\n"
     ]
    }
   ],
   "source": [
    "eigs, ranks, test = pbh(A_dc,B_dc)\n",
    "print(f'Eigen values of PBH matrices:\\n{eigs}\\n\\nRanks of the PBH matrices: {ranks},\\nsystem is {test}' )"
   ]
  },
  {
   "cell_type": "markdown",
   "metadata": {
    "slideshow": {
     "slide_type": "subslide"
    }
   },
   "source": [
    "it is interesting to see that:\n",
    "$$\n",
    "\\mathbf{B}\n",
    "\\notin\n",
    "\\mathcal{C}(\\mathbf{A} - \\lambda_i \\mathbf{I})\n",
    "\\quad\n",
    "\\forall i \\in \n",
    "\\{1, 2,\\dots, n\\}\n",
    "$$\n",
    "\n",
    "The matrix $\\mathbf{B}$ better to not be aligned with **some of the eigenvectors** "
   ]
  },
  {
   "cell_type": "code",
   "execution_count": 15,
   "metadata": {
    "slideshow": {
     "slide_type": "fragment"
    }
   },
   "outputs": [
    {
     "name": "stdout",
     "output_type": "stream",
     "text": [
      "Eigen values of PBH matrices:\n",
      "[ 0.00000000e+00 -5.92260385e+01 -1.45448732e+06]\n",
      "\n",
      "Ranks of the PBH matrices: [3, 2, 2],\n",
      "system is uncontrollable\n"
     ]
    }
   ],
   "source": [
    "lambdas, v = np.linalg.eig(A)\n",
    "B = [v[:,0]]\n",
    "B = np.array(B).T\n",
    "# B = B_cp\n",
    "# R, rank, test = ctrb(A_cp, B)\n",
    "# print(f'Contralability matrix:\\n{R}\\n\\nRank of the controlability matrix: {rank},\\nsystem is {test}\\n' )\n",
    "\n",
    "eigs, ranks, test = pbh(A,B)\n",
    "print(f'Eigen values of PBH matrices:\\n{eigs}\\n\\nRanks of the PBH matrices: {ranks},\\nsystem is {test}' )\n"
   ]
  },
  {
   "cell_type": "markdown",
   "metadata": {
    "slideshow": {
     "slide_type": "subslide"
    }
   },
   "source": [
    "Thus PBH test give us some tips on how matrix $\\mathbf{B}$ should be organized! Moreover condition above provide the insight on the **minimal number of the control channels** that we need for sytem to be controllable and is directly related to the multiplicity of the eigenvalues"
   ]
  },
  {
   "cell_type": "code",
   "execution_count": 16,
   "metadata": {
    "slideshow": {
     "slide_type": "fragment"
    }
   },
   "outputs": [
    {
     "name": "stdout",
     "output_type": "stream",
     "text": [
      "Eigenvalue s: 0.0\n",
      "Rank of A - sI: 2\n",
      "Rank difficiency: 1\n",
      "\n",
      "Eigenvalue s: -59.2260384876281\n",
      "Rank of A - sI: 2\n",
      "Rank difficiency: 1\n",
      "\n",
      "Eigenvalue s: -1454487.3150204099\n",
      "Rank of A - sI: 2\n",
      "Rank difficiency: 1\n",
      "\n"
     ]
    }
   ],
   "source": [
    "n = len(lambdas)\n",
    "\n",
    "for i in range(n):\n",
    "    A_e = A - lambdas[i]*np.eye(n)\n",
    "    print(f'Eigenvalue s: {lambdas[i]}')\n",
    "    print(f'Rank of A - sI: {np.linalg.matrix_rank(A_e)}')\n",
    "    print(f'Rank difficiency: {n - np.linalg.matrix_rank(A_e)}\\n')"
   ]
  },
  {
   "cell_type": "markdown",
   "metadata": {
    "slideshow": {
     "slide_type": "subslide"
    }
   },
   "source": [
    "As we can see the PBH test is much more applicable and practical, this will become even more evident when we start working with systems with relatively large dimensions - derived with data driven approaches."
   ]
  },
  {
   "cell_type": "markdown",
   "metadata": {
    "slideshow": {
     "slide_type": "subslide"
    }
   },
   "source": [
    "\n",
    "Moreover PBH test can be used to analyze some other interesting properties, namely directions of 'natural stability' and which are need to be stabilized with control!"
   ]
  },
  {
   "cell_type": "markdown",
   "metadata": {
    "slideshow": {
     "slide_type": "fragment"
    }
   },
   "source": [
    "Let us for example consider the following linear system:\n",
    "\n",
    "$$\n",
    "    \\begin{cases}\n",
    "        \\dot{x}_1 = a x_1 + x_2 + u\\\\\n",
    "        \\dot{x}_2 = bx_2 \n",
    "    \\end{cases} \n",
    "$$\n",
    "\n",
    "with $a = -1, b = -1$\n",
    "\n",
    "Which can be transformed to LTI state space via:\n",
    "\n",
    "$$\n",
    "\\mathbf{A} = \n",
    "\\begin{bmatrix}\n",
    "-1 & 1 \\\\ \n",
    "0 & -1 \\\\   \n",
    "\\end{bmatrix}, \n",
    "\\quad\\mathbf{B} = \n",
    "\\begin{bmatrix}\n",
    "1 \\\\ \n",
    "0 \\\\   \n",
    "\\end{bmatrix}\n",
    "$$"
   ]
  },
  {
   "cell_type": "code",
   "execution_count": 17,
   "metadata": {
    "slideshow": {
     "slide_type": "fragment"
    }
   },
   "outputs": [],
   "source": [
    "A = np.array([[-1, 1],\n",
    "              [0, -1]])\n",
    "\n",
    "B = np.array([[1],\n",
    "              [0]])"
   ]
  },
  {
   "cell_type": "markdown",
   "metadata": {
    "slideshow": {
     "slide_type": "fragment"
    }
   },
   "source": [
    "\n",
    "It is trivial to show that all trajectories converges to $\\mathbf{x} = 0$ with linear feedback $u = -2x_2$ (check the eigenvalues). "
   ]
  },
  {
   "cell_type": "code",
   "execution_count": 18,
   "metadata": {
    "slideshow": {
     "slide_type": "fragment"
    }
   },
   "outputs": [
    {
     "name": "stdout",
     "output_type": "stream",
     "text": [
      "[-1. -1.]\n"
     ]
    }
   ],
   "source": [
    "K = np.array([[0, 2]])\n",
    "lambdas, Q = np.linalg.eig(A - B@K)\n",
    "print(np.real(lambdas))"
   ]
  },
  {
   "cell_type": "markdown",
   "metadata": {
    "slideshow": {
     "slide_type": "fragment"
    }
   },
   "source": [
    "Let us simulate this system:"
   ]
  },
  {
   "cell_type": "code",
   "execution_count": 19,
   "metadata": {
    "slideshow": {
     "slide_type": "fragment"
    }
   },
   "outputs": [
    {
     "data": {
      "image/png": "[encoded data removed]",
      "text/plain": [
       "<Figure size 800x300 with 1 Axes>"
      ]
     },
     "metadata": {},
     "output_type": "display_data"
    }
   ],
   "source": [
    "def system_ode(x, t, A, B, K):\n",
    "    u = np.dot(K,x)  \n",
    "    dx = np.dot(A,x) + np.dot(B,u)\n",
    "    return dx\n",
    "\n",
    "tf = 20# Final time\n",
    "N = int(1E3) # Numbers of points in time span\n",
    "t = np.linspace(0, tf, N) # Create time span\n",
    "\n",
    "# Set initial state\n",
    "x0 = [1, 2]  \n",
    "\n",
    "x_sol = odeint(system_ode, x0, t, args=(A, B, K,)) # integrate system \"sys_ode\" from initial state $x0$\n",
    "x_1, x_2 = x_sol[:,0], x_sol[:,1] # set theta, dtheta to be a respective solution of system states\n",
    "\n",
    "plt.figure(figsize=(8, 3))\n",
    "plt.plot(t, x_1, 'r', linewidth=2.0)\n",
    "plt.plot(t, x_2, 'b', linewidth=2.0)\n",
    "plt.grid(color='black', linestyle='--', linewidth=1.0, alpha = 0.7)\n",
    "plt.grid(True)\n",
    "plt.xlim([0, tf])\n",
    "plt.ylabel(r'States $\\mathbf{x}$')\n",
    "plt.xlabel(r'Time $t$ (s)')\n",
    "plt.show()"
   ]
  },
  {
   "cell_type": "markdown",
   "metadata": {
    "slideshow": {
     "slide_type": "fragment"
    }
   },
   "source": [
    "Let us check what the PBH will conclude:"
   ]
  },
  {
   "cell_type": "code",
   "execution_count": 20,
   "metadata": {
    "slideshow": {
     "slide_type": "fragment"
    }
   },
   "outputs": [
    {
     "name": "stdout",
     "output_type": "stream",
     "text": [
      "Eigen values of PBH matrices:\n",
      "[-1. -1.]\n",
      "\n",
      "Ranks of the PBH matrices: [1, 1],\n",
      "system is uncontrollable\n"
     ]
    }
   ],
   "source": [
    "eigs, ranks, test = pbh(A,B)\n",
    "print(f'Eigen values of PBH matrices:\\n{eigs}\\n\\nRanks of the PBH matrices: {ranks},\\nsystem is {test}' )"
   ]
  },
  {
   "cell_type": "markdown",
   "metadata": {
    "slideshow": {
     "slide_type": "subslide"
    }
   },
   "source": [
    "So PBH state that system is uncontrollable while we were able to stabilize it with linear feedback! The issue that the problems of stabilizability and controllability are not equivalent."
   ]
  },
  {
   "cell_type": "markdown",
   "metadata": {
    "slideshow": {
     "slide_type": "subslide"
    }
   },
   "source": [
    "### **Stabilizability**\n",
    "\n",
    "A slightly weaker notion than controllability is that of stabilizability. A system is said to be stabilizable when all uncontrollable state variables can be made to have stable dynamics. Thus, even though some of the state variables **cannot be controlled** (as determined by the controllability test above) all the state variables will still remain **bounded during** the system's behavior.\n",
    "\n",
    "**Stabilizable** systems should be controllable only for the unstable eigenvalues i.e:\n",
    "\n",
    "$$\n",
    "\\text{rank}\\{ \n",
    "\\begin{bmatrix}\n",
    "\\mathbf{A} - \\lambda_i \\mathbf{I}\n",
    "&\n",
    "\\mathbf{B}\n",
    "\\end{bmatrix}\n",
    "  \\} =n, \\quad\n",
    "  \\forall \\lambda \\in \\{c: \\text{Re}(c)\\geq0\\}\n",
    "$$"
   ]
  },
  {
   "cell_type": "markdown",
   "metadata": {
    "slideshow": {
     "slide_type": "subslide"
    }
   },
   "source": [
    "One can slightly modify the controllability test to have following:"
   ]
  },
  {
   "cell_type": "code",
   "execution_count": 21,
   "metadata": {
    "slideshow": {
     "slide_type": "fragment"
    }
   },
   "outputs": [],
   "source": [
    "def pbh(A, B):\n",
    "    lambdas, v = np.linalg.eig(A)\n",
    "    n = np.shape(A)[0]\n",
    "    ranks = n*[0]\n",
    "    # M = n*[0]\n",
    "    unctrl_eigs = []\n",
    "    test = 'controllable'\n",
    "    for i in range(n):\n",
    "        M = np.hstack((A - lambdas[i]*np.eye(n), B))\n",
    "        ranks[i] = np.linalg.matrix_rank(M)\n",
    "        if ranks[i] != n:\n",
    "            unctrl_eigs.append(lambdas[i])\n",
    "\n",
    "    if np.all(np.array(unctrl_eigs) < 0):\n",
    "        test = 'uncontrollable but stabilizable'\n",
    "\n",
    "    else:\n",
    "        test = 'uncontrollable'\n",
    "\n",
    "    return lambdas, ranks, test\n",
    "\n"
   ]
  },
  {
   "cell_type": "code",
   "execution_count": 22,
   "metadata": {
    "slideshow": {
     "slide_type": "fragment"
    }
   },
   "outputs": [
    {
     "name": "stdout",
     "output_type": "stream",
     "text": [
      "Eigen values of PBH matrices:\n",
      "[-1. -1.]\n",
      "\n",
      "Ranks of the PBH matrices: [1, 1],\n",
      "system is uncontrollable but stabilizable\n"
     ]
    }
   ],
   "source": [
    "\n",
    "eigs, ranks, test = pbh(A, B)\n",
    "print(f'Eigen values of PBH matrices:\\n{eigs}\\n\\nRanks of the PBH matrices: {ranks},\\nsystem is {test}')\n"
   ]
  },
  {
   "cell_type": "markdown",
   "metadata": {
    "slideshow": {
     "slide_type": "subslide"
    }
   },
   "source": [
    "Thus, for linear systems we can address a variety of issues using n**umerical techniques based on linear algebra**, moreover, the controller **synthesis is also performed numerically** - with pole placement."
   ]
  },
  {
   "cell_type": "markdown",
   "metadata": {
    "slideshow": {
     "slide_type": "fragment"
    }
   },
   "source": [
    "However, the pole assignment is an great technique, but it has two fundamental disadvantages, \n",
    "* As the order of the system increases, pole placement becomes a tricky and non-trivial problem since there is no simple mapping between response and the pole locations (partially solved by **optimal control** routines like LQR which we will discuss in the upcoming classes)\n",
    "* This method is **applicable to linear systems** while most of the real systems are non-linear! \n",
    "\n",
    "The second problem is actually a fundamental one; The main the question is, **can we apply linear control to nonlinear systems**? And if yes what kind of tools do we need to analyze the resulting closed loop system."
   ]
  },
  {
   "cell_type": "markdown",
   "metadata": {
    "slideshow": {
     "slide_type": "slide"
    }
   },
   "source": [
    "### **Nonlinear Systems, Equilibriums**\n",
    "\n",
    "One of the most natural questions ask while studying dynamical systems: Is there any special points or regions such that if system start there will remain there forever? Such regions are called invariant, and in most simple case their represented by so called singular or **equilibrium** points.\n",
    "\n",
    "It is particular easy to find equilibriums by looking for such $\\mathbf{x}_e$ that makes $\\dot{\\mathbf{x}}$ vanish, basicly one should just solve for roots of:\n",
    "$$\n",
    "\\mathbf{f}(\\mathbf{x}_e) = \\mathbf{0}\n",
    "$$\n",
    "\n",
    "\n",
    "\n",
    "Note that for linear systems one have the following:\n",
    "$$\n",
    "\\mathbf{A}\\mathbf{x}_e = \\mathbf{0}\n",
    "$$\n",
    "thus equilibriums are either trivial solution $\\mathbf{x}_e = \\mathbf{0}$ or nullspace $\\text{Null}\\{\\mathbf{A}\\}$ \n",
    "\n",
    "\n",
    "\n",
    "One may always transform the original dynamics to the new variables $\\tilde{\\mathbf{x}} = \\mathbf{x} - \\mathbf{x}_e$ such that:\n",
    "$$\n",
    "\\dot{\\tilde{\\mathbf{x}}} = \\mathbf{}\\mathbf{f}(\\tilde{\\mathbf{x}}+\\mathbf{x}_e)\n",
    "$$\n",
    "we call the expression above **error** or **perturbation** dynamics\n"
   ]
  },
  {
   "cell_type": "markdown",
   "metadata": {
    "slideshow": {
     "slide_type": "-"
    }
   },
   "source": [
    "\n",
    "There are different tools that facilitate this analysis."
   ]
  },
  {
   "cell_type": "markdown",
   "metadata": {
    "slideshow": {
     "slide_type": "subslide"
    }
   },
   "source": [
    "**Example:**\n",
    "\n",
    "Find the equlibriums of following nonlinear system:\n",
    "$$\n",
    "\\dot{x} = -x + x^3\n",
    "$$"
   ]
  },
  {
   "cell_type": "code",
   "execution_count": 23,
   "metadata": {
    "slideshow": {
     "slide_type": "fragment"
    }
   },
   "outputs": [
    {
     "data": {
      "text/plain": [
       "[-1, 0, 1]"
      ]
     },
     "execution_count": 23,
     "metadata": {},
     "output_type": "execute_result"
    }
   ],
   "source": [
    "import sympy as sp\n",
    "x = sp.symbols(r'x')\n",
    "sp.solve(-x + x**3, x)"
   ]
  },
  {
   "cell_type": "markdown",
   "metadata": {
    "slideshow": {
     "slide_type": "subslide"
    }
   },
   "source": [
    "**Example:**\n",
    "\n",
    "Find the equlibriums of nonlinear pendulum:\n",
    "$$\n",
    "\\dot{\\mathbf{x}}=\n",
    "\\begin{bmatrix}\n",
    "x_2 \\\\ \n",
    "\\sin(x_1) + x_2\n",
    "\\end{bmatrix}\n",
    "$$"
   ]
  },
  {
   "cell_type": "code",
   "execution_count": 24,
   "metadata": {
    "slideshow": {
     "slide_type": "fragment"
    }
   },
   "outputs": [
    {
     "data": {
      "text/plain": [
       "[(0, 0), (pi, 0)]"
      ]
     },
     "execution_count": 24,
     "metadata": {},
     "output_type": "execute_result"
    }
   ],
   "source": [
    "import sympy as sp\n",
    "x = sp.symbols(r'x_1 x_2')\n",
    "sp.solve([x[1], sp.sin(x[0]) + x[1]], x)"
   ]
  },
  {
   "cell_type": "markdown",
   "metadata": {
    "slideshow": {
     "slide_type": "subslide"
    }
   },
   "source": [
    "### **Local Behavior and Linearization**\n",
    "\n",
    "As one note for LTI systems stability is completely determined by the eigenvalues of $\\mathbf{A}$, \n",
    "however in the nonlinear case there are no notion of eigenvalues, a one of the most straightforward ideas \n",
    "is to approximate the nonlinear system in the vicente of equilibrium point using the first term of Taylor series:\n",
    " \n",
    "$$\n",
    "\\dot{\\mathbf{x}}\n",
    "= \\mathbf{f}(\\mathbf{x}_e)+ \n",
    "\\frac{\\partial\\mathbf{f}}{\\partial\\mathbf{x}}\\Bigr\\rvert_{\\mathbf{x}_e} \n",
    "(\\mathbf{x} - \\mathbf{x}_e)\n",
    "$$\n",
    "\n",
    "\n",
    "Introducing the error $\\tilde{\\mathbf{x}}$ we may rewrite the equation above in linear form as follows:\n",
    "\n",
    "\\begin{equation*}\n",
    "\\dot{\\tilde{\\mathbf{x}}} = \\mathbf{A}\\tilde{\\mathbf{x}}\n",
    "\\end{equation*}\n",
    "where: $\\mathbf{A} = \\frac{\\partial\\mathbf{f}}{\\partial\\mathbf{x}}\\Bigr\\rvert_{\\mathbf{x}_e}$ \n",
    "\n",
    "\n"
   ]
  },
  {
   "cell_type": "markdown",
   "metadata": {
    "slideshow": {
     "slide_type": "fragment"
    }
   },
   "source": [
    "\n",
    "---\n",
    "\n",
    "Thus linearization consist of three steps:\n",
    "1.   Solving $\\mathbf{f}(\\mathbf{x}_e) = \\mathbf{0}$ for equilibriums.\n",
    "2.   Calculation of the system Jacobian with respect to state $\\mathbf{x}$\n",
    "3.   Evaluation of the resulting Jacobian in the equilibrium points $\\mathbf{x}_e$\n",
    "\n",
    "---"
   ]
  },
  {
   "cell_type": "markdown",
   "metadata": {
    "slideshow": {
     "slide_type": "subslide"
    }
   },
   "source": [
    "\n",
    "The procedure above is known as Lyapunov linearization method and can be used to find the local stability properties of nonlinear systems \n",
    "nearby equlibrium by studying their linear aproximations as follows:\n",
    "\n",
    "* If the linearized system is **strictly stable** (i.e, $\\operatorname{Re}{\\lambda_i} = \\alpha_i = 0, \\forall i$), then the equilibrium point is **asymptotically stable** (for the **actual nonlinear** system).\n",
    "* If the linearized system is **unstable** ($\\exists i, \\operatorname{Re}{\\lambda_i} = \\alpha_i > 0$), then the equilibrium point is **unstable**\n",
    "(for the **nonlinear system**).\n",
    "* If the linearized system is **marginally stable** ($\\operatorname{Re}{\\lambda_i} = \\alpha_i \\leq 0, \\forall i$), then\n",
    "one **can't conclude anything** from the linear approximation (the equilibrium\n",
    "point may be stable, asymptotically stable, or unstable for the nonlinear system)."
   ]
  },
  {
   "cell_type": "markdown",
   "metadata": {
    "slideshow": {
     "slide_type": "subslide"
    }
   },
   "source": [
    "**Example:**\n",
    "\n",
    "Let us apply the linearization method on following systems:\n",
    "\n",
    "$$\n",
    "\\ddot{x} = \\dot{x} + 3 x + x^2\n",
    "$$"
   ]
  },
  {
   "cell_type": "code",
   "execution_count": 25,
   "metadata": {
    "slideshow": {
     "slide_type": "fragment"
    }
   },
   "outputs": [
    {
     "name": "stdout",
     "output_type": "stream",
     "text": [
      "[(-3, 0), (0, 0)]\n"
     ]
    }
   ],
   "source": [
    "import sympy as sp\n",
    "\n",
    "def f(x, t):\n",
    "    return x[1], -x[1] - 3*x[0]-x[0]**2\n",
    "\n",
    "\n",
    "x = sp.symbols(r'x_1, x_2')\n",
    "f_sym = sp.Matrix([f(x, 0)]).T\n",
    "f_sym\n",
    "equlibriums = sp.solve(f_sym, x)\n",
    "print(equlibriums)"
   ]
  },
  {
   "cell_type": "code",
   "execution_count": 26,
   "metadata": {
    "slideshow": {
     "slide_type": "fragment"
    }
   },
   "outputs": [
    {
     "data": {
      "text/latex": [
       "$\\displaystyle \\left[\\begin{matrix}0 & 1\\\\- 2 x_{1} - 3 & -1\\end{matrix}\\right]$"
      ],
      "text/plain": [
       "Matrix([\n",
       "[         0,  1],\n",
       "[-2*x_1 - 3, -1]])"
      ]
     },
     "execution_count": 26,
     "metadata": {},
     "output_type": "execute_result"
    }
   ],
   "source": [
    "jacobian = f_sym.jacobian(x)\n",
    "jacobian"
   ]
  },
  {
   "cell_type": "code",
   "execution_count": 27,
   "metadata": {
    "slideshow": {
     "slide_type": "fragment"
    }
   },
   "outputs": [
    {
     "name": "stdout",
     "output_type": "stream",
     "text": [
      "The matrix A for equlibrium [-3.  0.] is: \n",
      " [[ 0.  1.]\n",
      " [ 3. -1.]] \n",
      " Eigen values:\n",
      " [ 1.30277564 -2.30277564] \n",
      "\n",
      "The matrix A for equlibrium [0. 0.] is: \n",
      " [[ 0.  1.]\n",
      " [-3. -1.]] \n",
      " Eigen values:\n",
      " [-0.5+1.6583124j -0.5-1.6583124j] \n",
      "\n"
     ]
    }
   ],
   "source": [
    "jacobian_num = sp.lambdify([x], jacobian)\n",
    "\n",
    "for equlibrium in equlibriums:\n",
    "    x_e = np.array(equlibrium, dtype='double')\n",
    "    A = np.array(jacobian_num(x_e), dtype='double')\n",
    "    lambdas, Q = np.linalg.eig(A) \n",
    "    print(f'The matrix A for equlibrium {x_e} is: \\n {A} \\n Eigen values:\\n {lambdas} \\n')\n",
    "### **Stability via Lyapunov Linearization Method**\n"
   ]
  },
  {
   "cell_type": "markdown",
   "metadata": {
    "slideshow": {
     "slide_type": "subslide"
    }
   },
   "source": [
    "### **Linearization Based Control over Nonlinear Systems**\n",
    "\n",
    "Similarly if one consider controlled system:\n",
    "$$\n",
    "\\dot{\\mathbf{x}} = \\mathbf{f}(\\mathbf{x}, \\mathbf{u})\n",
    "$$\n",
    "\n",
    "One may perform the linearization around the **operating point**:\n",
    "\n",
    "$$\n",
    "\\dot{\\tilde{\\mathbf{x}}} = \n",
    "\\frac{\\partial\\mathbf{f}}{\\partial\\mathbf{x}}\\Bigr\\rvert_{\\mathbf{x}_d,\\mathbf{u}_d} \n",
    "\\tilde{\\mathbf{x}} + \n",
    "\\frac{\\partial\\mathbf{f}}{\\partial\\mathbf{u}}\\Bigr\\rvert_{\\mathbf{x}_d,\\mathbf{u}_d} =\n",
    "\\mathbf{A}\n",
    "\\tilde{\\mathbf{x}} + \n",
    "\\mathbf{B} \n",
    "\\tilde{\\mathbf{u}}\n",
    "$$\n",
    "\n",
    "\n",
    "The operating point is found similarly to equilibrium of: $\\mathbf{f}(\\mathbf{x}_d, \\mathbf{u}_d) = 0$"
   ]
  },
  {
   "cell_type": "markdown",
   "metadata": {
    "slideshow": {
     "slide_type": "subslide"
    }
   },
   "source": [
    "\n",
    "Design and analisyse of the linearized system represented by LTI is in fact identical to one you use for linear system. \n",
    "Thus the controller is still linear state feedback:\n",
    "$$\n",
    "\\mathbf{u} = \\mathbf{u}_d - \\mathbf{K}\\tilde{\\mathbf{x}}\n",
    "$$"
   ]
  },
  {
   "cell_type": "markdown",
   "metadata": {
    "slideshow": {
     "slide_type": "fragment"
    }
   },
   "source": [
    "However you will apply controller not to the linear system which you used to approximate dynamics of actual plant, thus resulting closed loop of original system will still be **nonlinear**:\n",
    "$$\n",
    "    \\dot{\\tilde{\\mathbf{x}}} = \\mathbf{f}(\\tilde{\\mathbf{x}},\\mathbf{u}_d - \\mathbf{K}\\tilde{\\mathbf{x}}) = \n",
    "    \\mathbf{f}_c(\\tilde{\\mathbf{x}})\n",
    "$$"
   ]
  },
  {
   "cell_type": "markdown",
   "metadata": {
    "slideshow": {
     "slide_type": "fragment"
    }
   },
   "source": [
    "Thus the behavior of closed loop system under influence of linear control may be drastically different from the linear one, especially if we move towards the region when linearization fails to provide the accurate description of system behavior (far from linearization point). \n"
   ]
  },
  {
   "cell_type": "markdown",
   "metadata": {
    "slideshow": {
     "slide_type": "subslide"
    }
   },
   "source": [
    "**Example: Linear control over nonlinear Cart Pole.**\n",
    "\n",
    "In order to distinguish between linear and nonlinear responses study this [colab notebook](https://colab.research.google.com/drive/1F4FbgGSjZ-rxDbnQbZft2G6R_-MC18Ld#scrollTo=uJTVJ1pCYdHV) where linearized based control is applied to cart pole system.\n"
   ]
  },
  {
   "cell_type": "markdown",
   "metadata": {
    "slideshow": {
     "slide_type": "fragment"
    }
   },
   "source": [
    "\n",
    "It is cruitial to be able to analyze stability properties of actual nonlinear system and to have at least some estimates on the regions where the linear controller is able to stabilize the system. The most widely used and elegant way to do so is based on celebrated **Lyapunov theory** and so called **Direct Method**.  "
   ]
  }
 ],
 "metadata": {
  "celltoolbar": "Slideshow",
  "colab": {
   "collapsed_sections": [],
   "name": "symbolical_linearization.ipynb",
   "provenance": []
  },
  "kernelspec": {
   "display_name": "Python 3 (ipykernel)",
   "language": "python",
   "name": "python3"
  },
  "language_info": {
   "codemirror_mode": {
    "name": "ipython",
    "version": 3
   },
   "file_extension": ".py",
   "mimetype": "text/x-python",
   "name": "python",
   "nbconvert_exporter": "python",
   "pygments_lexer": "ipython3",
   "version": "3.8.10"
  },
  "rise": {
   "enable_chalkboard": true,
   "scroll": true,
   "theme": "simple",
   "transition": "linear"
  },
  "vscode": {
   "interpreter": {
    "hash": "767d51c1340bd893661ea55ea3124f6de3c7a262a8b4abca0554b478b1e2ff90"
   }
  }
 },
 "nbformat": 4,
 "nbformat_minor": 1
}

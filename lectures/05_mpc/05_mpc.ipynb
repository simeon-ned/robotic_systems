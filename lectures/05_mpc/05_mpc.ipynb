{
 "cells": [
  {
   "cell_type": "markdown",
   "metadata": {
    "slideshow": {
     "slide_type": "slide"
    }
   },
   "source": [
    "## **Modern Control Paradigms:**\n",
    "### **Lecture 5: Model Predictive Control**"
   ]
  },
  {
   "cell_type": "markdown",
   "metadata": {
    "slideshow": {
     "slide_type": "subslide"
    }
   },
   "source": [
    "MPC is a practical optimal control approach which can deal with\n",
    "multivariable systems with process constraints."
   ]
  },
  {
   "cell_type": "markdown",
   "metadata": {
    "slideshow": {
     "slide_type": "fragment"
    }
   },
   "source": [
    "At each time instant, MPC uses a **current** measurement of the system output, and a **model** of the system, to **compute** and implement a new control input, which:\n",
    "* minimizes some **cost function**, while\n",
    "* guaranteeing that **constraints** are satisfied"
   ]
  },
  {
   "cell_type": "markdown",
   "metadata": {
    "slideshow": {
     "slide_type": "slide"
    }
   },
   "source": [
    "### **LQR via Least Squares, Unconstrained MPC**\n",
    "\n"
   ]
  },
  {
   "cell_type": "markdown",
   "metadata": {
    "slideshow": {
     "slide_type": "fragment"
    }
   },
   "source": [
    "To dig more in to MPC let us recall first the derivation of Discrete time finite horizon LQR. "
   ]
  },
  {
   "cell_type": "markdown",
   "metadata": {
    "slideshow": {
     "slide_type": "fragment"
    }
   },
   "source": [
    "Consider a discrete-time dynamical system described by:\n",
    "\n",
    "$$\n",
    "\\mathbf{x}_{k+1}=\\mathbf{A} \\mathbf{x}_{k}+\\mathbf{B} \\mathbf{u}_{k}\n",
    "$$\n"
   ]
  },
  {
   "cell_type": "markdown",
   "metadata": {
    "slideshow": {
     "slide_type": "fragment"
    }
   },
   "source": [
    "\n",
    "with a cost defined as:\n",
    "$$\n",
    "J_c(\\mathbf{x}_0, \\mathbf{u})=\\frac{1}{2} \\Big[ \\sum \\limits _{{k=0}}^{{N-1}}\\left(\\mathbf{x}_{k}^{T}\\mathbf{Q}\\mathbf{x}_{k}+\\mathbf{u}_{k}^{T}\\mathbf{R}\\mathbf{u}_{k}\\right) + \\mathbf{x}_{N}^{T}\\mathbf{P}\\mathbf{x}_{N} \\Big]\n",
    "$$\n"
   ]
  },
  {
   "cell_type": "markdown",
   "metadata": {
    "slideshow": {
     "slide_type": "fragment"
    }
   },
   "source": [
    "But for now, instead of using Bellman principle of optimality, let us write the solution of discrete time dynamics as follows:\n",
    "\n",
    "\n",
    "$$\n",
    "\\mathbf{x}_{1}=\\mathbf{A} \\mathbf{x}_{0}+\\mathbf{B}\\mathbf{u}_{0} \\\\\n",
    "\\mathbf{x}_{2}=\\mathbf{A} \\mathbf{x}_{1}+\\mathbf{B}\\mathbf{u}_{1} \n",
    "\\\\\n",
    "\\cdots\n",
    "\\\\\n",
    "\\mathbf{x}_{N}=\\mathbf{A} \\mathbf{x}_{N-1}+\\mathbf{B}\\mathbf{u}_{N-1} \n",
    "$$"
   ]
  },
  {
   "cell_type": "markdown",
   "metadata": {
    "slideshow": {
     "slide_type": "subslide"
    }
   },
   "source": [
    "By recursive substitutions ($\\mathbf{x}_1$ to $\\mathbf{x}_2$ etc). We may arrive to the following:\n",
    "\n",
    "$$\n",
    "\\mathbf{x}_{1}=\\mathbf{A} \\mathbf{x}_{0}+\\mathbf{B}\\mathbf{u}_{0} \\\\\n",
    "\\mathbf{x}_{2}=\\mathbf{A}^2 \\mathbf{x}_{0}+\\mathbf{A}\\mathbf{B}\\mathbf{u}_{0} + \\mathbf{B}\\mathbf{u}_{1} \n",
    "\\\\\n",
    "\\cdots\n",
    "\\\\\n",
    "\\mathbf{x}_{N}=\\mathbf{A}^N \\mathbf{x}_{0}+\\mathbf{A}^{N-1}\\mathbf{B}\\mathbf{u}_{0} + \\cdots + \\mathbf{B}\\mathbf{u}_{N-1} \n",
    "$$"
   ]
  },
  {
   "cell_type": "markdown",
   "metadata": {
    "slideshow": {
     "slide_type": "fragment"
    }
   },
   "source": [
    "Collecting the terms gives:\n",
    "$$\n",
    "\\mathbf{X} = \\boldsymbol{\\mathcal{A}}\\mathbf{x}_0 + \\boldsymbol{\\mathcal{B}}\\mathbf{U}\n",
    "$$"
   ]
  },
  {
   "cell_type": "markdown",
   "metadata": {
    "slideshow": {
     "slide_type": "fragment"
    }
   },
   "source": [
    "with state and control sequence and matrices $\\mathcal{A}, \\mathcal{B}$ defined as:\n",
    "\n",
    "\n",
    "$$\n",
    "  \\mathbf{X} = \n",
    "  \\begin{bmatrix}\n",
    "  \\mathbf{x}_0 \\\\ \n",
    "  \\mathbf{x}_1 \\\\\n",
    "  \\vdots \\\\ \n",
    "  \\mathbf{x}_N\n",
    "  \\end{bmatrix}, \n",
    "  \\quad\n",
    "  \\mathbf{U} = \n",
    "  \\begin{bmatrix}\n",
    "  \\mathbf{u}_0 \\\\ \n",
    "  \\mathbf{u}_2 \\\\\n",
    "  \\vdots \\\\ \n",
    "  \\mathbf{u}_{N-1}\n",
    "  \\end{bmatrix}\n",
    "  \\quad\n",
    "   \\boldsymbol{\\mathcal{A}} = \n",
    "  \\begin{bmatrix}\n",
    "  \\mathbf{I} \\\\ \n",
    "  \\mathbf{A} \\\\\n",
    "  \\vdots \\\\ \n",
    "  \\mathbf{A}^N\n",
    "  \\end{bmatrix}\n",
    "  \\quad\n",
    "  \\boldsymbol{\\mathcal{B}} = \n",
    "  \\begin{bmatrix}\n",
    "  \\mathbf{0} & \\mathbf{0} & \\cdots & \\mathbf{0}\\\\ \n",
    "  \\mathbf{B} & \\mathbf{0} & \\cdots & \\mathbf{0}\\\\ \n",
    "  \\mathbf{AB} & \\mathbf{B} & \\mathbf{0} & \\mathbf{0}\\\\ \n",
    "  \\vdots & \\vdots & \\ddots & \\vdots \\\\ \n",
    "  \\mathbf{A}^{N-1}\\mathbf{B} & \\mathbf{A}^{N-2}\\mathbf{B} & \\cdots & \\mathbf{B}\\\\ \n",
    "  \\end{bmatrix}  \n",
    "$$"
   ]
  },
  {
   "cell_type": "markdown",
   "metadata": {
    "slideshow": {
     "slide_type": "subslide"
    }
   },
   "source": [
    "Now lets rewrite the cost function:\n",
    "\n",
    "$$\n",
    "J_c=\\Big[ \\sum \\limits _{{k=0}}^{{N-1}}\\left(\\mathbf{x}_{k}^{T}\\mathbf{Q}\\mathbf{x}_{k}+\\mathbf{u}_{k}^{T}\\mathbf{R}\\mathbf{u}_{k}\\right) + \\mathbf{x}_{N}^{T}\\mathbf{P}\\mathbf{x}_{N} \\Big] = \n",
    "\\mathbf{X}^T\\mathcal{Q}\\mathbf{X} + \\frac{1}{2}\\mathbf{U}^T\\mathcal{R}\\mathbf{U}\n",
    "$$\n"
   ]
  },
  {
   "cell_type": "markdown",
   "metadata": {
    "slideshow": {
     "slide_type": "fragment"
    }
   },
   "source": [
    "where:\n",
    "$$\n",
    "\\mathcal{Q} = \n",
    "\\begin{bmatrix}\n",
    "\\mathbf{I}\\otimes\\mathbf{Q} & \\mathbf{0} \\\\\n",
    "\\mathbf{0} & \\mathbf{P} \\\\\n",
    "\\end{bmatrix}\n",
    "\\quad\n",
    "\\mathcal{R} = \\mathbf{I}_N \\otimes \\mathbf{R}\n",
    "$$"
   ]
  },
  {
   "cell_type": "markdown",
   "metadata": {
    "slideshow": {
     "slide_type": "fragment"
    }
   },
   "source": [
    "and $\\otimes$ being [Kronecker product](https://en.wikipedia.org/wiki/Kronecker_product)"
   ]
  },
  {
   "cell_type": "markdown",
   "metadata": {
    "slideshow": {
     "slide_type": "subslide"
    }
   },
   "source": [
    "Substitution of the dynamics yields $\\mathbf{X} = \\boldsymbol{\\mathcal{A}}\\mathbf{x}_0 + \\boldsymbol{\\mathcal{B}}\\mathbf{U}$ yields the following cost:\n",
    "$$\n",
    "J_c=\\frac{1}{2}\\mathbf{U}^T\\mathbf{\\mathcal{H}}\\mathbf{U} + \\mathbf{x}^T_0\\mathbf{G}^T\\mathbf{U} + \\mathbf{x}^T_0\\mathcal{F}\\mathbf{x}^T_0 \\\n",
    "$$"
   ]
  },
  {
   "cell_type": "markdown",
   "metadata": {
    "slideshow": {
     "slide_type": "fragment"
    }
   },
   "source": [
    "where: $\\mathcal{H} = 2(\\mathcal{R} + \\mathcal{B}^T\\mathcal{Q}\\mathcal{B})$, $\\mathcal{G} = 2\\mathcal{B}^T\\mathcal{Q}\\mathcal{A}$ and $\\mathcal{F} = \\mathcal{A}^T\\mathcal{Q}\\mathcal{A}$"
   ]
  },
  {
   "cell_type": "markdown",
   "metadata": {
    "slideshow": {
     "slide_type": "fragment"
    }
   },
   "source": [
    "To find the optimal solution we differentiate the cost function above w.r.t $\\mathbf{U}$ and set it to zero:\n",
    "\n",
    "$$\n",
    "\\nabla J_c = \\mathcal{H}\\mathbf{U} + \\mathbf{G}x_0  = 0 \n",
    "$$"
   ]
  },
  {
   "cell_type": "markdown",
   "metadata": {
    "slideshow": {
     "slide_type": "fragment"
    }
   },
   "source": [
    "Solving for $\\mathbf{U}$ yields **optimal control sequence**:\n",
    "\n",
    "$$\n",
    "\\mathbf{U}^{*} = -\\mathcal{H}^{-1}\\mathbf{G}x_0\n",
    "$$\n",
    "\n",
    "since the matrix $\\mathcal{H}$ is p.d. by construction, it is always invertible."
   ]
  },
  {
   "cell_type": "markdown",
   "metadata": {
    "slideshow": {
     "slide_type": "fragment"
    }
   },
   "source": [
    "**Question**: How to ensure that the solution above provide minimum?"
   ]
  },
  {
   "cell_type": "markdown",
   "metadata": {
    "slideshow": {
     "slide_type": "subslide"
    }
   },
   "source": [
    "For any $\\mathbf{x}_0$, a solution $\\mathbf{U}^{*}$ is the optimal sequence that: **exists**, **unique** and is a **global minimizer** of $J_c$"
   ]
  },
  {
   "cell_type": "markdown",
   "metadata": {
    "slideshow": {
     "slide_type": "fragment"
    }
   },
   "source": [
    "Note that optimal sequence is in linear function on initial state $\\mathbf{x}_0$:\n",
    "\n",
    "$$\n",
    "\\mathbf{U}^{*} = -\\mathcal{H}^{-1}\\mathbf{G}\\mathbf{x}_0 = \\mathbf{K}_{MPC}\\mathbf{x}_0\n",
    "$$\n"
   ]
  },
  {
   "cell_type": "markdown",
   "metadata": {
    "slideshow": {
     "slide_type": "fragment"
    }
   },
   "source": [
    "However in this sense we were able to calculate the optimal sequence on the finite horizon, in practice we need to apply control constantly. To do so usually the control input is implemented in a **receding-horizon** fashion. \n",
    "\n",
    "**We have feedback** because a new control input is computed for each new measurement"
   ]
  },
  {
   "cell_type": "markdown",
   "metadata": {
    "slideshow": {
     "slide_type": "slide"
    }
   },
   "source": [
    "### **Receding horizon control**\n",
    "\n",
    "The idea of receding horizon control is that at time $k + 1$, **we solve a new problem** with the **new state** $x = \\mathbf{x}_{k+1}$ but with the same prediction horizon length $N$.\n"
   ]
  },
  {
   "cell_type": "markdown",
   "metadata": {
    "slideshow": {
     "slide_type": "fragment"
    }
   },
   "source": [
    "<p align=\"center\">\n",
    "<img src=\"https://drive.google.com/uc?id=10rzROnJsqOJhQ93ovGQvjrfg-bb5uEG2\" alt=\"drawing\" width=\"50%\" style=\"margin:auto\"/>\n",
    "</p>"
   ]
  },
  {
   "cell_type": "markdown",
   "metadata": {
    "slideshow": {
     "slide_type": "subslide"
    }
   },
   "source": [
    "The above cost function and optimal sequence apply to each time step $k$, then at each time instant $k$, a predictive controller uses \n",
    "\n",
    "* Measurement/estimate of the current state $\\mathbf{x}_0 = \\mathbf{x}_k$ and\n",
    "* Model of the system $\\mathbf{x}_{k+1}= \\mathbf{A}\\mathbf{x}_k + \\mathbf{B}\\mathbf{u}_k$ to predict future states\n",
    "* Computes a **finite sequence of optimal control** inputs $\\mathbf{U}^*$ that minimizes the cost $J_c$\n",
    "* Implements only the **first input** in the optimal sequence: $\\mathbf{u}_k = \\mathbf{U}_0^*$\n",
    "\n",
    "Then we shift to the next time instant $k+1$. When the optimal control sequence is implemented like this, it is called receding or moving horizon control (RHC).\n"
   ]
  },
  {
   "cell_type": "markdown",
   "metadata": {
    "slideshow": {
     "slide_type": "fragment"
    }
   },
   "source": [
    "It is worth noting that the resulting control is indeed feedback since it can be written as:\n",
    "\n",
    "$$\n",
    "\\mathbf{u}_k = \\mathbf{U}_0^* = [\\mathbf{I},\\mathbf{0},\\cdots, \\mathbf{0}]\\mathbf{U}^* = \\mathbf{K}_{MPC}\\mathbf{x}_k\n",
    "$$"
   ]
  },
  {
   "cell_type": "markdown",
   "metadata": {
    "slideshow": {
     "slide_type": "fragment"
    }
   },
   "source": [
    "This repeated solution of the finite horizon problem \"approximates\" the infinite horizon problem"
   ]
  },
  {
   "cell_type": "markdown",
   "metadata": {
    "slideshow": {
     "slide_type": "subslide"
    }
   },
   "source": [
    "### **Connection of RH MPC to LQR**\n",
    "\n",
    "As one can note the derivation of MPC is based on the very same cost and ideas of that we have in LQR, so there is shold be strong connection between them. \n"
   ]
  },
  {
   "cell_type": "markdown",
   "metadata": {
    "slideshow": {
     "slide_type": "fragment"
    }
   },
   "source": [
    "\n",
    "Indeed the solution to the infinite-horizon LQR problem is:\n",
    "\n",
    "$$\n",
    "\\mathbf{u}_k = \\mathbf{K}_{LQR} \\mathbf{x}_k\n",
    "$$\n",
    "where\n",
    "$$\n",
    "\\mathbf{K} = (\\mathbf{R} + \\mathbf{B}^T \\mathbf{P} \\mathbf{B})^{-1}\\mathbf{B}^T\\mathbf{P}\\mathbf{A}\\mathbf{x}_k\n",
    "$$\n"
   ]
  },
  {
   "cell_type": "markdown",
   "metadata": {
    "slideshow": {
     "slide_type": "fragment"
    }
   },
   "source": [
    "\n",
    "and $P$ is the solution to the Algebraic Riccati Equation (ARE)\n",
    "\n",
    "$$\n",
    "\\mathbf{P} = \\mathbf{Q} + \\mathbf{A}^T(\\mathbf{P} - \\mathbf{P}\\mathbf{B}(\\mathbf{R} + \\mathbf{B}^T\\mathbf{P}\\mathbf{B})^{-1}\\mathbf{B}^T\\mathbf{P})\\mathbf{A}\n",
    "$$"
   ]
  },
  {
   "cell_type": "markdown",
   "metadata": {
    "slideshow": {
     "slide_type": "fragment"
    }
   },
   "source": [
    "And if the terminal weight P in the finite- horizon cost function $J_c$ is the solution to above ARE, then:\n",
    "\n",
    "$$\n",
    "\\mathbf{K}_{MPC} = \\mathbf{K}_{LQR}\n",
    "$$\n"
   ]
  },
  {
   "cell_type": "markdown",
   "metadata": {
    "slideshow": {
     "slide_type": "fragment"
    }
   },
   "source": [
    "This is an important precursor in solving the problem of **infinite-horizon LQR with constraints**!"
   ]
  },
  {
   "cell_type": "markdown",
   "metadata": {
    "slideshow": {
     "slide_type": "slide"
    }
   },
   "source": [
    "### **Incorporating Constraints**\n",
    "\n",
    "In practice, it is nearly always desirable to constrain system variables (e.g.,\n",
    "system state/output) because of various reasons:\n",
    "* **Physical limitations**, e.g. reservoir volume limits\n",
    "* **Safety considerations**, e.g. critical temperatures\n",
    "* **Performance specifications**, e.g. limit overshoot\n",
    "\n"
   ]
  },
  {
   "cell_type": "markdown",
   "metadata": {
    "slideshow": {
     "slide_type": "fragment"
    }
   },
   "source": [
    "<p align=\"center\">\n",
    "<img src=\"images/schemes/mpc_overshoot_cons.png\" alt=\"drawing\" width=\"40%\" style=\"margin:auto\"/>\n",
    "</p>\n",
    "\n"
   ]
  },
  {
   "cell_type": "markdown",
   "metadata": {
    "slideshow": {
     "slide_type": "subslide"
    }
   },
   "source": [
    "The real power of MPC is in the ability to find the optimal sequence in the presence of constraints!\n",
    "Indeed let us rewrite the optimization problem above as:\n",
    "\n",
    "$$\n",
    "\\begin{aligned}\n",
    "&{\\underset {\\mathbf{U}_k }{\\operatorname {minimize} }}&&\n",
    "\\frac{1}{2}\\mathbf{U}_k^T\\mathbf{\\mathcal{H}}\\mathbf{U}_k + \\mathbf{x}^T_k\\mathbf{G}^T\\mathbf{U}_k + d \\\n",
    "\\\\& \\operatorname {subject\\ to} && \\mathbf{M} \\mathbf{U}_k \\leq \\mathbf{m} \n",
    "\\\\&&& \\mathbf{D} \\mathbf{U}_k = \\mathbf{c} \n",
    "% \\\\&&&\\mathbf{K}_p \\tilde{\\mathbf{r}}^e + \\mathbf{K}_d \\dot{\\tilde{\\mathbf{r}}}^e +\\mathbf{F}_d = \\boldsymbol{\\mathcal{J}}_d^T (\\mathbf{u} - \\boldsymbol{\\tau}_d)\n",
    "\\end{aligned}\n",
    "$$\n",
    "\n",
    "\n",
    "If the cost is quadratic and constraints are linear in in $\\mathbf{U}$, the problem above is written as quadratic program! \n"
   ]
  },
  {
   "cell_type": "markdown",
   "metadata": {
    "slideshow": {
     "slide_type": "fragment"
    }
   },
   "source": [
    "There are a lot of different solvers that can deal with QP problems. Among many others I suggest to use use [osqp](https://osqp.org/docs/solver/index.html), [ecos](https://github.com/embotech/ecos)."
   ]
  },
  {
   "cell_type": "markdown",
   "metadata": {
    "slideshow": {
     "slide_type": "subslide"
    }
   },
   "source": [
    "### **Stabilized Predictions MPC**\n",
    "\n",
    "Standard MPC makes open-loop predictions of the plant output, though the implementation of the control law in the receding horizon fashion provides some implicit feedback."
   ]
  },
  {
   "cell_type": "markdown",
   "metadata": {
    "slideshow": {
     "slide_type": "fragment"
    }
   },
   "source": [
    "If the plant is unstable, problems may arise because of this open-loop nature of predictions:\n",
    "* Numerical problems arising from large values of prediction matrices\n",
    "* Amplification of model inaccuracies and disturbance effects"
   ]
  },
  {
   "cell_type": "markdown",
   "metadata": {
    "slideshow": {
     "slide_type": "fragment"
    }
   },
   "source": [
    "An effective way out is to ‘stabilize’ the predictions through a re-parametrization of the plant’s input signal."
   ]
  },
  {
   "cell_type": "markdown",
   "metadata": {
    "slideshow": {
     "slide_type": "subslide"
    }
   },
   "source": [
    "Suppose that the default ‘do nothing’ policy is to apply the following linear state-feedback control.\n",
    "\n",
    "$$\n",
    "\\mathbf{u}_k = -\\mathbf{K}\\mathbf{x}_k \n",
    "$$"
   ]
  },
  {
   "cell_type": "markdown",
   "metadata": {
    "slideshow": {
     "slide_type": "fragment"
    }
   },
   "source": [
    "Here, we assume that the feedback gain $\\mathbf{K}$ is stabilizing (i.e., the eigenvalues of $\\mathbf{A} - \\mathbf{B}\\mathbf{K}$ lie inside the unit circle)."
   ]
  },
  {
   "cell_type": "markdown",
   "metadata": {
    "slideshow": {
     "slide_type": "fragment"
    }
   },
   "source": [
    "The default do-nothing predictions can be computed as follows:\n",
    "\n",
    "$$\n",
    "\\mathbf{x}_{1}=\\mathbf{A}_c \\mathbf{x}_{0} \\\\\n",
    "\\mathbf{x}_{2}= \\mathbf{A}^2_c \\mathbf{x}_{0}\\\\ \n",
    "\\cdots\n",
    "\\\\\n",
    "\\mathbf{x}_{N}=\\mathbf{A}_c^N \\mathbf{x}_{0} \\\\ \n",
    "$$\n",
    "\n",
    "where $\\mathbf{A}_c = \\mathbf{A} - \\mathbf{B}\\mathbf{K}$ "
   ]
  },
  {
   "cell_type": "markdown",
   "metadata": {
    "slideshow": {
     "slide_type": "subslide"
    }
   },
   "source": [
    "Now we can use optimization over a horizon $N$ to modify these baseline ‘do-nothing’ predictions with the following objectives:\n",
    "* Minimize the cost function\n",
    "* Ensure that all constraints are satisfied"
   ]
  },
  {
   "cell_type": "markdown",
   "metadata": {
    "slideshow": {
     "slide_type": "fragment"
    }
   },
   "source": [
    "Let us consider the modified control input predictions in the form:\n",
    "$$\n",
    "\\mathbf{u}_k = -\\mathbf{K}\\mathbf{x}_k + \\mathbf{c}_k\n",
    "$$\n",
    "\n",
    "where $\\mathbf{c}_k$ are chosen by the optimizer."
   ]
  },
  {
   "cell_type": "markdown",
   "metadata": {
    "slideshow": {
     "slide_type": "fragment"
    }
   },
   "source": [
    "Using the same derivation that we have use for the standart MPC, we arrive to following prediction model:\n",
    "\n"
   ]
  },
  {
   "cell_type": "markdown",
   "metadata": {
    "slideshow": {
     "slide_type": "fragment"
    }
   },
   "source": [
    "With: \n",
    "$$\n",
    "  \\boldsymbol{\\mathcal{A}} = \n",
    "  \\begin{bmatrix}\n",
    "  \\mathbf{I} \\\\ \n",
    "  \\mathbf{A}_c \\\\\n",
    "  \\vdots \\\\ \n",
    "  \\mathbf{A}_c^N\n",
    "  \\end{bmatrix}\n",
    "  \\quad\n",
    "  \\boldsymbol{\\mathcal{B}} = \n",
    "  \\begin{bmatrix}\n",
    "  \\mathbf{0} & \\mathbf{0} & \\cdots & \\mathbf{0}\\\\ \n",
    "  \\mathbf{B} & \\mathbf{0} & \\cdots & \\mathbf{0}\\\\ \n",
    "  \\mathbf{A}_c\\mathbf{B} & \\mathbf{B} & \\mathbf{0} & \\mathbf{0}\\\\ \n",
    "  \\vdots & \\vdots & \\ddots & \\vdots \\\\ \n",
    "  \\mathbf{A}_c^{N-1}\\mathbf{B} & \\mathbf{A}_c^{N-2}\\mathbf{B} & \\cdots & \\mathbf{B}\\\\ \n",
    "  \\end{bmatrix}  \n",
    "  \\quad\n",
    "  \\mathbf{c} = \n",
    "  \\begin{bmatrix}\n",
    "  \\mathbf{c}_0 \\\\ \n",
    "  \\mathbf{c}_2 \\\\\n",
    "  \\vdots \\\\ \n",
    "  \\mathbf{c}_{N-1}\n",
    "  \\end{bmatrix}\n",
    "$$\n",
    "\n"
   ]
  },
  {
   "cell_type": "markdown",
   "metadata": {
    "slideshow": {
     "slide_type": "subslide"
    }
   },
   "source": [
    "So the regular MPC now can be applied to get the optimal control sequance $\\mathbf{c}^*$, and controller is then become:\n",
    "$$\n",
    "\\mathbf{u}^*_k = -\\mathbf{K}\\mathbf{x}_k + \\mathbf{c}_0^*\n",
    "$$\n",
    "\n",
    "\n"
   ]
  },
  {
   "cell_type": "markdown",
   "metadata": {
    "slideshow": {
     "slide_type": "fragment"
    }
   },
   "source": [
    "Note that instead of high powers of $\\mathbf{A}$ in the standard MPC formulation, we have high powers of $\\mathbf{A}_c = \\mathbf{A} - \\mathbf{B}\\mathbf{K}$ .\n",
    "This is crucial since we choose $\\mathbf{K}$ such that $\\mathbf{A}_c$ is stable and hence $\\mathbf{A}^k_c \\rightarrow 0$ as $k \\rightarrow \\infty$. \n",
    "\n",
    "**It eliminates both numerical problems and amplification of errors**."
   ]
  },
  {
   "cell_type": "markdown",
   "metadata": {
    "slideshow": {
     "slide_type": "fragment"
    }
   },
   "source": [
    "In principle, we can use any stabilizing feedback, obtained, say, using pole-placement methods. However, in the case of predictive control with a quadratic cost function, it is natural to obtain $\\mathbf{K}$ by solving the infinite horizon LQR with the same weight matrices as in the MPC problem."
   ]
  },
  {
   "cell_type": "markdown",
   "metadata": {
    "slideshow": {
     "slide_type": "slide"
    }
   },
   "source": [
    "### **Output Based Feedback**\n",
    "Another notable property of the MPC is that we may modify the cost function in order to perform the output stabilization/tracking with just  a little change of the algorithm.\n",
    "To do so let us introduce the output:\n",
    "\n",
    "$$\n",
    "\\mathbf{y}_k = \\mathbf{C}_k \\mathbf{x}_k\n",
    "$$\n",
    "Then we may modify the cost to be:\n",
    "\n",
    "$$\n",
    "J_c= \n",
    "\\mathbf{Y}^T\\mathcal{Q}_{y}\\mathbf{Y} + \\frac{1}{2}\\mathbf{U}^T\\mathcal{R}\\mathbf{U}\n",
    "$$\n",
    "\n",
    "which is identical to the standart LQR cost above if one choose $\\mathbf{Q}_y = \\mathbf{C}^T\\mathbf{Q}\\mathbf{C}$. \n",
    "\n"
   ]
  },
  {
   "cell_type": "markdown",
   "metadata": {
    "slideshow": {
     "slide_type": "fragment"
    }
   },
   "source": [
    "However, the control still will use the knowledge of the $\\mathbf{x}_0$ to predict the states. An obvious way to deal with it is to introduce the state observer. \n"
   ]
  },
  {
   "cell_type": "markdown",
   "metadata": {
    "slideshow": {
     "slide_type": "slide"
    }
   },
   "source": [
    "### **Simultaneous State/Control Optimization**\n",
    "\n",
    "Up to before we have analytically derived the solution of discrete dynamics as function of our parametrization. However a careful investigation in fact shows that the state predictions $\\mathbf{x}_k$  are itself linear to the control $\\mathbf{u}_k$. Thus we may incorporate them in to the QP constraints directly.\n",
    "\n",
    "\n",
    " instead of solving descrite dynamics directly we can relly on power of optimization to solve following problem:"
   ]
  },
  {
   "cell_type": "markdown",
   "metadata": {
    "slideshow": {
     "slide_type": "fragment"
    }
   },
   "source": [
    "Recall that the finite horizon cost is given by:\n",
    "\n",
    "$$\n",
    "J_c = \\mathbf{X}^T\\mathcal{Q}\\mathbf{X} + \\frac{1}{2}\\mathbf{U}^T\\mathcal{R}\\mathbf{U}\n",
    "$$\n"
   ]
  },
  {
   "cell_type": "markdown",
   "metadata": {
    "slideshow": {
     "slide_type": "subslide"
    }
   },
   "source": [
    "\n",
    "Thus taking in to account linear dynamics one can write the MPC problem as  following quadratic programm:\n"
   ]
  },
  {
   "cell_type": "markdown",
   "metadata": {
    "slideshow": {
     "slide_type": "fragment"
    }
   },
   "source": [
    "\n",
    "$$\n",
    "\\begin{aligned}\n",
    "&{\\underset {\\mathbf{U}_k, \\mathbf{X}_k }{\\operatorname {minimize} }}&&\n",
    "\\mathbf{X}_k^T\\mathcal{Q}\\mathbf{X}_k + \\frac{1}{2}\\mathbf{U}_k^T\\mathcal{R}\\mathbf{U}_k \\\n",
    "\\\\& \\operatorname {subject\\ to} && \\mathbf{X}_k = \\mathbf{Z}\\mathcal{A}\\mathbf{X}_{k} + \\mathbf{Z}\\mathcal{B}\\mathbf{U}_{k} \n",
    "\\\\&&& \\mathbf{M}_u \\mathbf{U}_k \\leq \\mathbf{m}_u\n",
    "\\\\&&& \\mathbf{D}_u \\mathbf{U}_k = \\mathbf{c}_u\n",
    "\\\\&&& \\mathbf{M}_x \\mathbf{X}_k \\leq \\mathbf{m}_x\n",
    "\\\\&&& \\mathbf{D}_x \\mathbf{X}_k = \\mathbf{c}_x\n",
    "% \\\\&&&\\mathbf{K}_p \\tilde{\\mathbf{r}}^e + \\mathbf{K}_d \\dot{\\tilde{\\mathbf{r}}}^e +\\mathbf{F}_d = \\boldsymbol{\\mathcal{J}}_d^T (\\mathbf{u} - \\boldsymbol{\\tau}_d)\n",
    "\\end{aligned}\n",
    "$$\n"
   ]
  },
  {
   "cell_type": "markdown",
   "metadata": {
    "slideshow": {
     "slide_type": "fragment"
    }
   },
   "source": [
    "Where $\\mathbf{Z}$ the block-downshift operator, i.e., a matrix with identity matrices along it's first block sub-diagonal and zeros elsewhere, and $\\mathcal{A}, \\mathcal{B}$:\n",
    "\n",
    "$$\n",
    "\\mathcal{A} = \n",
    "\\begin{bmatrix}\n",
    "\\mathbf{I}_{N-1}\\otimes\\mathbf{A} & \\mathbf{0} \\\\\n",
    "\\mathbf{0} & \\mathbf{0} \\\\\n",
    "\\end{bmatrix}\n",
    "\\quad\n",
    "\\mathcal{B} = \n",
    "\\begin{bmatrix}\n",
    "\\mathbf{I}_{N-1}\\otimes\\mathbf{B} & \\mathbf{0} \\\\\n",
    "\\mathbf{0} & \\mathbf{0} \\\\\n",
    "\\end{bmatrix}\n",
    "$$\n"
   ]
  },
  {
   "cell_type": "markdown",
   "metadata": {
    "slideshow": {
     "slide_type": "subslide"
    }
   },
   "source": [
    "The notable drawback of this approach is that we increase the number of decision variables and coinstraints in our optimization. However, the problem on other hand become sparse, and some solvers are in fact may smartly exploit these sparsity patterns in order to find solution in the very same time as it for the 'classical MPC'. "
   ]
  },
  {
   "cell_type": "markdown",
   "metadata": {
    "slideshow": {
     "slide_type": "slide"
    }
   },
   "source": [
    "### **LTV Variants of MPC**\n",
    "\n",
    "The yet anothe power of MPC approach is in the ability to tackle LTV dynamics with no  serious changes in the algorithm. "
   ]
  },
  {
   "cell_type": "markdown",
   "metadata": {
    "slideshow": {
     "slide_type": "fragment"
    }
   },
   "source": [
    "For instance for the joint state/control optimization one may just redifine the $\\mathcal{A},\\mathcal{B}$:\n",
    "$$\n",
    "\\mathcal{A}_k = \\text{blockdiag}\\{A_{k},A_{k+1},\\cdots,A_{k+N-1},\\mathbf{0}\\}, \\quad \\mathcal{B}_k = \\text{blockdiag}\\{B_{k},B_{k+1},\\cdots,B_{k+N-1},\\mathbf{0}\\}\n",
    "$$\n",
    "\n",
    "In similar fashion one may always let constraints $\\mathbf{M}_{(\\cdot)},\\mathbf{m}_{(\\cdot)}, \\mathbf{D}_{(\\cdot)}, \\mathbf{c}_{(\\cdot)}$ and cost $\\mathbf{Q},\\mathbf{R}$ to be time variant. \n",
    "\n",
    "This yields a  pretty general formulation for constrained LTV problem, that can be used to approximate solution for the for optimal nonlinear tracking, if we let $\\mathbf{A}_k, \\mathbf{B}_k$ to represent the linearization of nonlinear dynamics along the predefined trajectory."
   ]
  },
  {
   "cell_type": "markdown",
   "metadata": {
    "slideshow": {
     "slide_type": "slide"
    }
   },
   "source": [
    "### **Explicit MPC**\n",
    "\n",
    "The optimal solution of the constrained MPC problem is often on a subset of constraints (called the set of active constraints).\n",
    "\n",
    "<p align=\"center\">\n",
    "<img src=\"images/schemes/cons_set.png\" alt=\"drawing\" width=\"60%\" style=\"margin:auto\"/>\n",
    "</p>\n",
    "\n"
   ]
  },
  {
   "cell_type": "markdown",
   "metadata": {
    "slideshow": {
     "slide_type": "fragment"
    }
   },
   "source": [
    "\n",
    "Explicit MPC takes this approach to meet the above constraints and compute solution not in receding horizon but **offline**.\n",
    "\n"
   ]
  },
  {
   "cell_type": "markdown",
   "metadata": {
    "slideshow": {
     "slide_type": "subslide"
    }
   },
   "source": [
    "Thus it may be the case that we can somehow partition the state space, knowing constraints on controls and states in advance. \n",
    "\n",
    "<p align=\"center\">\n",
    "<img src=\"images/schemes/empc_partition.png\" alt=\"drawing\" width=\"40%\" style=\"margin:auto\"/>\n",
    "</p>\n",
    "\n"
   ]
  },
  {
   "cell_type": "markdown",
   "metadata": {
    "slideshow": {
     "slide_type": "fragment"
    }
   },
   "source": [
    " The derivation of explicit MPC is highly rely on multiparametric quadratic programming that is used to pre-solve the QP off-line therefore converting the MPC law into a continuous and piecewise-affine function of the parameter vector. The detailed derivation it is out of scope of this lecture, in order to get some infights please follow the [works of Alberto Bemporad](http://cse.lab.imtlucca.it/~bemporad/publications/papers/encyclopedia_explicit_MPC.pdf), who is leading researcher in this field. \n"
   ]
  },
  {
   "cell_type": "markdown",
   "metadata": {
    "slideshow": {
     "slide_type": "slide"
    }
   },
   "source": [
    "### **CVXPY to facilitate control design** \n",
    "\n",
    "As we have stated above, there are a lot of solvers to deal with QP problems. However the problem definition itself may become a little tideous. Fortunately nowadays there are a lot of toolboxes dedicated to formulation of the optimization problems in natural way, as you would do with pen and paper. One of thess is [`cvxpy`](https://www.cvxpy.org/). "
   ]
  },
  {
   "cell_type": "markdown",
   "metadata": {
    "slideshow": {
     "slide_type": "fragment"
    }
   },
   "source": [
    "Note that cvxpy is not the solver itself, but set of tools that will build the problem for you and provide the interface to the solvers. You may even do the c-code generation with some additional routines like [`cvxpygen`](https://github.com/cvxgrp/cvxpygen), resulting in self contained MPC that can be deployed even on embedded systems."
   ]
  },
  {
   "cell_type": "code",
   "execution_count": null,
   "metadata": {
    "slideshow": {
     "slide_type": "subslide"
    }
   },
   "outputs": [],
   "source": [
    "# The CVXPY example of parametric QP problem\n",
    "\n",
    "import cvxpy as cp\n",
    "\n",
    "# define dimensions\n",
    "H, n, m = 10, 6, 3\n",
    "\n",
    "# define variables\n",
    "U = cp.Variable((m, H), name='U')\n",
    "X = cp.Variable((n, H+1), name='X')\n",
    "\n",
    "# define parameters\n",
    "Psqrt = cp.Parameter((n, n), name='Psqrt')\n",
    "Qsqrt = cp.Parameter((n, n), name='Qsqrt')\n",
    "Rsqrt = cp.Parameter((m, m), name='Rsqrt')\n",
    "A = cp.Parameter((n, n), name='A')\n",
    "B = cp.Parameter((n, m), name='B')\n",
    "x_init = cp.Parameter(n, name='x_init')\n",
    "\n",
    "# define objective\n",
    "objective = cp.Minimize(cp.sum_squares(Psqrt@X[:,H-1]) + \n",
    "                        cp.sum_squares(Qsqrt@X[:,:H]) + \n",
    "                        cp.sum_squares(Rsqrt@U))\n",
    "\n",
    "# define constraints"
   ]
  },
  {
   "cell_type": "code",
   "execution_count": null,
   "metadata": {
    "slideshow": {
     "slide_type": "subslide"
    }
   },
   "outputs": [],
   "source": [
    "constraints = [X[:,1:] == A@X[:,:H]+B@U,\n",
    "               cp.abs(U) <= 1,\n",
    "               X[:,0] == x_init]"
   ]
  },
  {
   "cell_type": "code",
   "execution_count": null,
   "metadata": {
    "slideshow": {
     "slide_type": "subslide"
    }
   },
   "outputs": [],
   "source": [
    "# define problem\n",
    "problem = cp.Problem(objective, constraints)"
   ]
  },
  {
   "cell_type": "markdown",
   "metadata": {
    "slideshow": {
     "slide_type": "subslide"
    }
   },
   "source": [
    "**Example:**\n",
    "\n",
    "Kindly follow the following [colab to checkout the MPC implemented for the cart pole system](https://colab.research.google.com/drive/1lxto-BktBLRuiLL_6SphZf4uZGAI-X-H#scrollTo=AvsRyG8ZIOMs)."
   ]
  },
  {
   "cell_type": "markdown",
   "metadata": {
    "slideshow": {
     "slide_type": "slide"
    }
   },
   "source": [
    "### **Pros and Cons of MPC**"
   ]
  },
  {
   "cell_type": "markdown",
   "metadata": {
    "slideshow": {
     "slide_type": "fragment"
    }
   },
   "source": [
    "**Pros**\n",
    "* Is based on **very intuitive concepts** and allows easy tuning.\n",
    "* Can be used to control most processes, from **simple to complex** ones with long delay times, unstable modes etc.\n",
    "* **Multivariable** case can be easily dealt with.\n",
    "* Handling of **constraints** is conceptually simple.\n",
    "* Can naturally compensate for **measurable disturbances**.\n",
    "* Resulting controller is an **easy-to-implement** control law.\n",
    "* Is useful when future references (robotics, batch processes etc.) are known.\n"
   ]
  },
  {
   "cell_type": "markdown",
   "metadata": {
    "slideshow": {
     "slide_type": "fragment"
    }
   },
   "source": [
    "\n",
    "**Cons**\n",
    "* Derivation of control law is relatively more complex.\n",
    "* Online **computation complexit**y may be significant.\n",
    "* A **model of the system dynamics** must be available."
   ]
  },
  {
   "cell_type": "markdown",
   "metadata": {
    "slideshow": {
     "slide_type": "slide"
    }
   },
   "source": [
    "### **Where to go next**\n",
    "\n",
    "There is various extensions and applications of MPC, I highly suggest you to go over:\n",
    "* LP formulations\n",
    "* Stability and Feasibility\n",
    "* Explicit MPC\n",
    "* Moving Horizon Estimation \n",
    "* System Level Synthesis"
   ]
  }
 ],
 "metadata": {
  "celltoolbar": "Slideshow",
  "colab": {
   "collapsed_sections": [],
   "name": "symbolical_linearization.ipynb",
   "provenance": []
  },
  "kernelspec": {
   "display_name": "Python 3 (ipykernel)",
   "language": "python",
   "name": "python3"
  },
  "language_info": {
   "codemirror_mode": {
    "name": "ipython",
    "version": 3
   },
   "file_extension": ".py",
   "mimetype": "text/x-python",
   "name": "python",
   "nbconvert_exporter": "python",
   "pygments_lexer": "ipython3",
   "version": "3.8.10"
  },
  "rise": {
   "enable_chalkboard": true,
   "scroll": true,
   "theme": "simple",
   "transition": "linear"
  },
  "vscode": {
   "interpreter": {
    "hash": "767d51c1340bd893661ea55ea3124f6de3c7a262a8b4abca0554b478b1e2ff90"
   }
  }
 },
 "nbformat": 4,
 "nbformat_minor": 1
}

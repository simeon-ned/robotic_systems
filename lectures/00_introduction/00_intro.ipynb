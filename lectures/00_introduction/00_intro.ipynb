{
 "cells": [
  {
   "attachments": {},
   "cell_type": "markdown",
   "metadata": {
    "slideshow": {
     "slide_type": "slide"
    }
   },
   "source": [
    "## **Modeling and Simulation of Robotics Systems:**\n",
    "### **Introduction and Course Outline**"
   ]
  },
  {
   "attachments": {},
   "cell_type": "markdown",
   "metadata": {
    "slideshow": {
     "slide_type": "slide"
    }
   },
   "source": [
    "## **Instructor**\n",
    "\n",
    "**Name:** Simeon Nedelchev\n",
    "\n",
    "**Background:**\n",
    "* **MSTU STANKIN** (Bachelor/Master in Robotics 2018) \n",
    "* **Korea University of Technology And Education** (KoreaTech) (Master ME 2019), Research fellow 'BioRobotics' lab\n",
    "* **Innopolis University** (PhD), Senior Instructor, Research fellow of robotics lab\n",
    "\n"
   ]
  },
  {
   "cell_type": "markdown",
   "metadata": {
    "slideshow": {
     "slide_type": "subslide"
    }
   },
   "source": [
    "\n",
    "**Research interests:**\n",
    "*   **Control**: Nonlinear, Robust, Adaptive, Energy based, Noncolocated and Underactuated, with focus on discrete-time and physically inspired numerical methods.\n",
    "*   **Online Identification and Estimation**: Moving Horizon Estimators, Sliding Mode Observers.\n",
    "*  **Analytical Mechanics and Dynamical Systems**:\n",
    "Dynamical Modeling, Limit Cycles, Constrained Dynamics (UK), Computational mechanics.\n",
    "*  **Applied Optimization**:\n",
    "Linear, Quadratic, and Nonlinear programming, Dynamical programming, Optimal Control, Optimal Mechanical Design. \n",
    "\n",
    "\n",
    "\n",
    "Feel free to contact me in person (office 105) or via [telegram](https://t.me/simkasimka) and [mail](https://t.me/simkasimka) if you face any problems with the course or would like to do research and work on hardware"
   ]
  },
  {
   "attachments": {},
   "cell_type": "markdown",
   "metadata": {},
   "source": [
    "## **What you will learn?**\n",
    "\n",
    "In this course we will explore **simulation** and **modeling techniques** applicable to robotic systems while linking basic knowledge of mechanics to simulation algorithms:\n",
    "\n",
    "* Recall what a **model** of robotic system is, why it is needed as well as how to build one.\n",
    "* Consider different approaches to **integration** of dynamics and check the properties of integrators (Implicit/Explicit Euler, Runge-Kutta)\n",
    "* We will learn how to apply the **Euler-Lagrange equations** to the systems with constraints holonomic and non-holonomic **constraints** (Lagange Multipliers)\n",
    "* Consider the **numerical algorithms for constrained dynamics** (Udwadia Qalaba)\n",
    "* Explore and examine the relatively **novel variation integrators**\n",
    "* Consider the specific features of simulation through **contact**\n",
    "\n",
    "By the end of the course you will learn how to build **models** of various **robotic systems**: drones, serial and parallel manipulators, mobile robots, etc. You will also exploit different approaches to **simulation** of these systems."
   ]
  },
  {
   "attachments": {},
   "cell_type": "markdown",
   "metadata": {},
   "source": [
    "### **Course organization:**\n",
    "* We will have two lectures each week accompanied by practice session \n",
    "* You will have **3 homeworks** based on content of the practices\n",
    "* We are targeting to have **midterm** and **final exam** with coding the simulation\n",
    "* I highly encourage you to do **hand written** notes and not miss classes"
   ]
  },
  {
   "attachments": {},
   "cell_type": "markdown",
   "metadata": {},
   "source": [
    "### **Approximate Schedule:**"
   ]
  },
  {
   "attachments": {},
   "cell_type": "markdown",
   "metadata": {},
   "source": [
    "\n",
    "\n",
    "#### **Part 1: Introduction, Simulation and Fundamentals** \n",
    "\n",
    "* **Lecture 1** (Week 1): Introduction, Course Outline, History of Dynamics, Models of Robotic Systems\n",
    "* **Lecture 2** (Week 1): State Space, Differential Equations, Integrators, Discrete Dynamics and Stability\n",
    "* **Lecture 4** (Week 2): Rotation matrices, SO(3), Quaternions \n",
    "* **Lecture 3** (Week 2): Kinematics, Reference Frames, SE(3)"
   ]
  },
  {
   "attachments": {},
   "cell_type": "markdown",
   "metadata": {},
   "source": [
    "#### **Part 2: Free Dynamics** \n",
    "* **Lecture 5** (Week 3): Dynamics of Rigid Body, Euler Equations\n",
    "* **Lecture 6** (Week 3): Angular Momentum, Middle Axis Theorem, Drones, Underwater Vehicles, Centroidal Dynamics\n",
    "* **Lecture 7** (Week 4): Variational Approach, Least Action Principle, Statics and Potential Forces, Euler-Lagrange equations, Conserved Quantities\n",
    "* **Lecture 8** (Week 4): Equations of Motion, The Properties of EoM, Robotic Manipulators\n",
    "\n",
    "\n"
   ]
  },
  {
   "attachments": {},
   "cell_type": "markdown",
   "metadata": {},
   "source": [
    "#### **Part 3: Constrained Dynamics**\n",
    "* **Lecture 9** (Week 5): Constraints, Holonomic and Nonholonomic, Lagrange Multipliers\n",
    "* **Lecture 10** (Week 5) Parallel Robots, Mobile Robots, Baghuard Stabilization\n",
    "* **Lecture 11** (Week 6): Gauss Principle of Least Constraints, Udwadia–Kalaba formulation, Constrained Equation of Motion\n",
    "<!-- * **Lecture 12** (Week 6): Other View on the Dynamics -->"
   ]
  },
  {
   "attachments": {},
   "cell_type": "markdown",
   "metadata": {},
   "source": [
    "#### **Part 4: Advanced Integrators and Simulation**  \n",
    "* **Lecture 12** (Week 7): Hamiltonian Dynamics and Momentum\n",
    "* **Lecture 13** (Week 7) Discrete Least Action and Lagrangian, Verlet and Variational Integrators\n",
    "* **Lecture 14** (Week 8): Variational Integrators with Constraints and Non-Potential Forces\n",
    "* **Lecture 15** (Week 8): Introduction to Simulation of Contacts\n"
   ]
  },
  {
   "attachments": {},
   "cell_type": "markdown",
   "metadata": {},
   "source": [
    "### **Prerequisites:**\n",
    "* Linear algebra\n",
    "* Physics (Mechanics)\n",
    "* Some basic knowledge of differential equations and stability theory\n",
    "* Basic linear control theory\n",
    "\n"
   ]
  }
 ],
 "metadata": {
  "celltoolbar": "Слайд-шоу",
  "colab": {
   "collapsed_sections": [],
   "name": "symbolical_linearization.ipynb",
   "provenance": []
  },
  "kernelspec": {
   "display_name": "Python 3 (ipykernel)",
   "language": "python",
   "name": "python3"
  },
  "language_info": {
   "codemirror_mode": {
    "name": "ipython",
    "version": 3
   },
   "file_extension": ".py",
   "mimetype": "text/x-python",
   "name": "python",
   "nbconvert_exporter": "python",
   "pygments_lexer": "ipython3",
   "version": "3.8.10"
  },
  "rise": {
   "enable_chalkboard": true,
   "scroll": true,
   "theme": "simple",
   "transition": "linear"
  },
  "vscode": {
   "interpreter": {
    "hash": "e7370f93d1d0cde622a1f8e1c04877d8463912d04d973331ad4851f04de6915a"
   }
  }
 },
 "nbformat": 4,
 "nbformat_minor": 1
}

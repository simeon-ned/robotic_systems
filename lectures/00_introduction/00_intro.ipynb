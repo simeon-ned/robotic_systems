{
 "cells": [
  {
   "cell_type": "markdown",
   "metadata": {
    "slideshow": {
     "slide_type": "slide"
    }
   },
   "source": [
    "## **Modern Control Paradigms:**\n",
    "### **Introduction and Course Outline**"
   ]
  },
  {
   "cell_type": "markdown",
   "metadata": {
    "slideshow": {
     "slide_type": "slide"
    }
   },
   "source": [
    "### **Instructor**\n",
    "\n",
    "**Name:** Simeon Nedelchev\n",
    "**Background:**\n",
    "* **MSTU STANKIN** (Bachelor/Master in Robotics 2018) \n",
    "* **Korea University of Technology And Education** (KoreaTech) (Master ME 2019), Research fellow 'BioRobotics' lab\n",
    "* **Innopolis University** (PhD), Senior Instructor, Research fellow of robotics lab\n",
    "\n"
   ]
  },
  {
   "cell_type": "markdown",
   "metadata": {
    "slideshow": {
     "slide_type": "fragment"
    }
   },
   "source": [
    "\n",
    "**Research interests:**\n",
    "\n",
    "*   **Control**: Nonlinear, Robust, Adaptive, Energy based, Noncolocated and Underactuated, with focus on discrete-time and physically inspired numerical methods.\n",
    "*   **Online Identification and Estimation**: Moving Horizon Estimators, Sliding Mode Observers.\n",
    "*  **Analytical Mechanics and Dynamical Systems**:\n",
    "Dynamical Modeling, Limit Cycles, Constrained Dynamics (UK), Computational mechanics.\n",
    "*  **Applied Optimization**:\n",
    "Linear, Quadratic, and Nonlinear programming, Dynamical programming, Optimal Control, Optimal Mechanical Design. \n",
    "\n",
    "Feel free to contact me in person (office 105) or via [telegram](https://t.me/simkasimka) and [mail](https://t.me/simkasimka) if you face any problems with the course or would like to do research and work on hardware"
   ]
  },
  {
   "cell_type": "markdown",
   "metadata": {
    "slideshow": {
     "slide_type": "slide"
    }
   },
   "source": [
    "### **What this course is about?**\n",
    "This course is attempt to explore **modern control paradigms** in terms of **numerical methods** and **optimization**, while relaying on **fundamental theory**, however we will avoid proofs and deep theoretical reasoning, where it possible. (mainly due to time considerations and amount of material)       \n",
    "\n",
    "The material of this course is based on technologies which in my humble opinion are theoretically interesting and practically significant. This in no way means that the reviewed algorithms will be the recipe for resolving all your control problems. However it may give you some view on the modern control field.\n",
    "\n",
    "\n"
   ]
  },
  {
   "cell_type": "markdown",
   "metadata": {
    "slideshow": {
     "slide_type": "subslide"
    }
   },
   "source": [
    "### **Structure of the course**\n",
    "\n",
    "The course is consist of following parts:\n"
   ]
  },
  {
   "cell_type": "markdown",
   "metadata": {
    "slideshow": {
     "slide_type": "fragment"
    }
   },
   "source": [
    "\n",
    "* **Introduction and Modeling** (1 week): recap the concept of dynamical system, and discuss some issues related to practical implementation of controllers.\n"
   ]
  },
  {
   "cell_type": "markdown",
   "metadata": {
    "slideshow": {
     "slide_type": "fragment"
    }
   },
   "source": [
    "\n",
    "* **Recview of System Analysis and Control** (1 week): review of system analysis, Lyapunov theory, stability, and linear and nonlinear control, with focus on numerical tools."
   ]
  },
  {
   "cell_type": "markdown",
   "metadata": {
    "slideshow": {
     "slide_type": "fragment"
    }
   },
   "source": [
    "* **Optimization in Planning and Control** (2 weeks): overview the optimization driven methods dedicated for planning and control of linear and nonlinear systems, MPC and Lyapunov inspired methods.\n"
   ]
  },
  {
   "cell_type": "markdown",
   "metadata": {
    "slideshow": {
     "slide_type": "fragment"
    }
   },
   "source": [
    "* **Identification and Data Driven Methods** (2 weeks): In this chapter we will study the algorithms that allow us to find the parameters of abstract models based on the measurements from real plant and even build model from the scratch.  \n"
   ]
  },
  {
   "cell_type": "markdown",
   "metadata": {
    "slideshow": {
     "slide_type": "fragment"
    }
   },
   "source": [
    "* **Other topics:** (1 week): Here we will briefly review the ideas and the other interesting techniques, including numerical analysis, including differential flatness, state observers and sum-of-squares programming etc.\n"
   ]
  },
  {
   "cell_type": "markdown",
   "metadata": {
    "slideshow": {
     "slide_type": "skip"
    }
   },
   "source": [
    "* **Term project presentation:** (final exam): In the end you will apply one of the studied concepts and prepare the short (10-20 min) presentation."
   ]
  },
  {
   "cell_type": "markdown",
   "metadata": {
    "slideshow": {
     "slide_type": "subslide"
    }
   },
   "source": [
    "### **Course organization**\n",
    "* We will have mixed lecture/practice format\n",
    "* Almost each lecture is based on **research paper** which I will share with you.\n",
    "* I highly encourage you to do **hand written** notes and not miss classes\n",
    "* In the end each of you will have **presentation** (term project or paper/concept review)\n",
    "\n"
   ]
  },
  {
   "cell_type": "markdown",
   "metadata": {
    "slideshow": {
     "slide_type": "fragment"
    }
   },
   "source": [
    "### **Prerequisites:**\n",
    "\n",
    "In order to be able to successfully go over course material and pass the final you must match the following **requirements**:\n",
    "* It should **NOT** be your first course in control\n",
    "* All of you should have basic background in **differential equations**, **linear algebra** and **linear and nonlinear control**, including stability analysis and **Lyapunov theory**. \n",
    "* Familiar with **convex optimization**, linear, quadratic programming, linear matrix inequalities"
   ]
  },
  {
   "cell_type": "markdown",
   "metadata": {
    "slideshow": {
     "slide_type": "subslide"
    }
   },
   "source": [
    "### **References**\n",
    "\n",
    "The material of this course is based on technologies which, in my humble opinion, are theoretically interesting and practically significant. This in no way means that the proposed algorithms are the recipe for resolving all your control problems.\n",
    "\n"
   ]
  },
  {
   "cell_type": "markdown",
   "metadata": {
    "slideshow": {
     "slide_type": "fragment"
    }
   },
   "source": [
    "### **Hand books:**\n",
    "\n",
    "Some content of this course is described in the following text books:\n",
    "\n",
    "\n",
    "<p align=\"center\">\n",
    "<img src=\"images/books/references.png\" alt=\"drawing\" width=\"80%\" style=\"margin:auto\"/>\n",
    "</p>\n",
    "\n"
   ]
  },
  {
   "cell_type": "markdown",
   "metadata": {
    "slideshow": {
     "slide_type": "subslide"
    }
   },
   "source": [
    "### **Online materials:**\n",
    "* [Control Bootcamp](https://www.youtube.com/playlist?list=PLMrJAkhIeNNR20Mz-VpzgfQs5zrYi085m) - YouTube playlist on the concepts of linear and nonlinear control\n",
    "* [Data Driven Dynamical Systems and Control](http://www.databookuw.com/) - the online text book and collection of short videos on data driven control and engenering \n",
    "* [Underactuated Robotis](https://underactuated.mit.edu/) - the perfect course on MIT about numerical methods in control.\n",
    "* [Slotine control course](https://www.bilibili.com/video/BV1yb411e7t5/) - personally my favourite course on nonlinear control\n"
   ]
  }
 ],
 "metadata": {
  "celltoolbar": "Slideshow",
  "colab": {
   "collapsed_sections": [],
   "name": "symbolical_linearization.ipynb",
   "provenance": []
  },
  "kernelspec": {
   "display_name": "Python 3 (ipykernel)",
   "language": "python",
   "name": "python3"
  },
  "language_info": {
   "codemirror_mode": {
    "name": "ipython",
    "version": 3
   },
   "file_extension": ".py",
   "mimetype": "text/x-python",
   "name": "python",
   "nbconvert_exporter": "python",
   "pygments_lexer": "ipython3",
   "version": "3.8.10"
  },
  "rise": {
   "enable_chalkboard": true,
   "scroll": true,
   "theme": "simple",
   "transition": "linear"
  },
  "vscode": {
   "interpreter": {
    "hash": "767d51c1340bd893661ea55ea3124f6de3c7a262a8b4abca0554b478b1e2ff90"
   }
  }
 },
 "nbformat": 4,
 "nbformat_minor": 1
}

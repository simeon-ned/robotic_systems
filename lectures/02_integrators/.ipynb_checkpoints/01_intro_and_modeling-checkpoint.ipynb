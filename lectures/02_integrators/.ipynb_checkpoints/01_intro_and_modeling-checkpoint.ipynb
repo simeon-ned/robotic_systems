{
 "cells": [
  {
   "cell_type": "markdown",
   "metadata": {
    "slideshow": {
     "slide_type": "slide"
    }
   },
   "source": [
    "## **Modern Control Paradigms:**\n",
    "### **Lecture 1: Introduction, Course Structure, Notion of Dynamical system, State space models, Control System and  Implementation Issues**"
   ]
  },
  {
   "cell_type": "markdown",
   "metadata": {
    "slideshow": {
     "slide_type": "slide"
    }
   },
   "source": [
    "### **Instructor**\n",
    "\n",
    "**Name:** Simeon Nedelchev\n",
    "**Background:**\n",
    "* **MSTU STANKIN** (Bachelor/Master in Robotics 2018) \n",
    "* **Korea University of Technology And Education** (KoreaTech) (Master ME 2019), Research fellow 'BioRobotics' lab\n",
    "* **Innopolis University** (PhD), Senior Instructor, Research fellow of robotics lab\n",
    "\n"
   ]
  },
  {
   "cell_type": "markdown",
   "metadata": {
    "slideshow": {
     "slide_type": "fragment"
    }
   },
   "source": [
    "\n",
    "**Research interests:**\n",
    "\n",
    "*   **Control**: Nonlinear, Robust, Adaptive, Energy based, Noncolocated and Underactuated, with focus on discrete-time and physically inspired numerical methods.\n",
    "*   **Online Identification and Estimation**: Moving Horizon Estimators, Sliding Mode Observers.\n",
    "*  **Analytical Mechanics and Dynamical Systems**:\n",
    "Dynamical Modeling, Limit Cycles, Constrained Dynamics (UK), Computational mechanics.\n",
    "*  **Applied Optimization**:\n",
    "Linear, Quadratic, and Nonlinear programming, Dynamical programming, Optimal Control, Optimal Mechanical Design. \n",
    "\n",
    "Feel free to contact me in person (office 105) or via [telegram](https://t.me/simkasimka) and [mail](https://t.me/simkasimka) if you face any problems with the course or would like to do research and work on hardware"
   ]
  },
  {
   "cell_type": "markdown",
   "metadata": {
    "slideshow": {
     "slide_type": "slide"
    }
   },
   "source": [
    "### **What this course is about?**\n",
    "This course is attempt to explore **modern control paradigms** in terms of **numerical methods** and **optimization**, while relaying on **fundamental theory**, however we will avoid proofs and deep theoretical reasoning, where it possible. (mainly due to time considerations and amount of material)       \n",
    "\n",
    "The material of this course is based on technologies which in my humble opinion are theoretically interesting and practically significant. This in no way means that the reviewed algorithms will be the recipe for resolving all your control problems. However it may give you some view on the modern control field.\n",
    "\n",
    "\n"
   ]
  },
  {
   "cell_type": "markdown",
   "metadata": {
    "slideshow": {
     "slide_type": "subslide"
    }
   },
   "source": [
    "### **Structure of the course**\n",
    "\n",
    "The course is consist of following parts:\n"
   ]
  },
  {
   "cell_type": "markdown",
   "metadata": {
    "slideshow": {
     "slide_type": "fragment"
    }
   },
   "source": [
    "\n",
    "* **Introduction and Modeling** (1 week): recap the concept of dynamical system, and discuss some issues related to practical implementation of controllers.\n"
   ]
  },
  {
   "cell_type": "markdown",
   "metadata": {
    "slideshow": {
     "slide_type": "fragment"
    }
   },
   "source": [
    "\n",
    "* **Recview of System Analysis and Control** (1 week): review of system analysis, Lyapunov theory, stability, and linear and nonlinear control, with focus on numerical tools."
   ]
  },
  {
   "cell_type": "markdown",
   "metadata": {
    "slideshow": {
     "slide_type": "fragment"
    }
   },
   "source": [
    "* **Optimization in Planning and Control** (2 weeks): overview the optimization driven methods dedicated for planning and control of linear and nonlinear systems, MPC and Lyapunov inspired methods.\n"
   ]
  },
  {
   "cell_type": "markdown",
   "metadata": {
    "slideshow": {
     "slide_type": "fragment"
    }
   },
   "source": [
    "* **Identification and Data Driven Methods** (2 weeks): In this chapter we will study the algorithms that allow us to find the parameters of abstract models based on the measurements from real plant and even build model from the scratch.  \n"
   ]
  },
  {
   "cell_type": "markdown",
   "metadata": {
    "slideshow": {
     "slide_type": "fragment"
    }
   },
   "source": [
    "* **Other topics:** (1 week): Here we will briefly review the ideas and the other interesting techniques, including numerical analysis, including differential flatness, state observers and sum-of-squares programming etc.\n"
   ]
  },
  {
   "cell_type": "markdown",
   "metadata": {
    "slideshow": {
     "slide_type": "skip"
    }
   },
   "source": [
    "* **Term project presentation:** (final exam): In the end you will apply one of the studied concepts and prepare the short (10-20 min) presentation."
   ]
  },
  {
   "cell_type": "markdown",
   "metadata": {
    "slideshow": {
     "slide_type": "subslide"
    }
   },
   "source": [
    "### **Course organization**\n",
    "* We will have mixed lecture/practice format\n",
    "* Almost each lecture is based on **research paper** which I will share with you.\n",
    "* I highly encourage you to do **hand written** notes and not miss classes\n",
    "* In the end each of you will have **presentation** (term project or paper/concept review)\n",
    "\n"
   ]
  },
  {
   "cell_type": "markdown",
   "metadata": {
    "slideshow": {
     "slide_type": "fragment"
    }
   },
   "source": [
    "### **Prerequisites:**\n",
    "\n",
    "In order to be able to successfully go over course material and pass the final you must match the following **requirements**:\n",
    "* It should **NOT** be your first course in control\n",
    "* All of you should have basic background in **differential equations**, **linear algebra** and **linear and nonlinear control**, including stability analysis and **Lyapunov theory**. \n",
    "* Familiar with **convex optimization**, linear, quadratic programming, linear matrix inequalities"
   ]
  },
  {
   "cell_type": "markdown",
   "metadata": {
    "slideshow": {
     "slide_type": "subslide"
    }
   },
   "source": [
    "### **References**\n",
    "\n",
    "The material of this course is based on technologies which, in my humble opinion, are theoretically interesting and practically significant. This in no way means that the proposed algorithms are the recipe for resolving all your control problems.\n",
    "\n"
   ]
  },
  {
   "cell_type": "markdown",
   "metadata": {
    "slideshow": {
     "slide_type": "fragment"
    }
   },
   "source": [
    "### **Hand books:**\n",
    "\n",
    "Some content of this course is described in the following text books:\n",
    "\n",
    "\n",
    "<p align=\"center\">\n",
    "<img src=\"images/books/references.png\" alt=\"drawing\" width=\"80%\" style=\"margin:auto\"/>\n",
    "</p>\n",
    "\n"
   ]
  },
  {
   "cell_type": "markdown",
   "metadata": {
    "slideshow": {
     "slide_type": "subslide"
    }
   },
   "source": [
    "### **Online materials:**\n",
    "* [Control Bootcamp](https://www.youtube.com/playlist?list=PLMrJAkhIeNNR20Mz-VpzgfQs5zrYi085m) - YouTube playlist on the concepts of linear and nonlinear control\n",
    "* [Data Driven Dynamical Systems and Control](http://www.databookuw.com/) - the online text book and collection of short videos on data driven control and engenering \n",
    "* [Underactuated Robotis](https://underactuated.mit.edu/) - the perfect course on MIT about numerical methods in control.\n",
    "* [Slotine control course](https://www.bilibili.com/video/BV1yb411e7t5/) - personally my favourite course on nonlinear control\n"
   ]
  },
  {
   "cell_type": "markdown",
   "metadata": {
    "slideshow": {
     "slide_type": "slide"
    }
   },
   "source": [
    "## **Modeling of Dynamical Systems and Introduction to Control**"
   ]
  },
  {
   "cell_type": "markdown",
   "metadata": {
    "slideshow": {
     "slide_type": "subslide"
    }
   },
   "source": [
    "During our course we will discuss **control methods over dynamical systems**, our task can be summarized as follows: to **design a control algorithms** that will cause the **controlled object to perform the desired behavior** even in the **presence of possible disturbances**\n",
    "\n"
   ]
  },
  {
   "cell_type": "markdown",
   "metadata": {
    "slideshow": {
     "slide_type": "fragment"
    }
   },
   "source": [
    "But before we will dig in to details let us recall what is the main components of control system are:\n",
    "\n",
    "<p align=\"center\">\n",
    "<img src=\"images/schemes/control_system.png\" alt=\"drawing\" width=\"70%\" style=\"margin:auto\"/>\n",
    "</p>\n"
   ]
  },
  {
   "cell_type": "markdown",
   "metadata": {
    "slideshow": {
     "slide_type": "subslide"
    }
   },
   "source": [
    "From the scheme above we may distinguish following:\n"
   ]
  },
  {
   "cell_type": "markdown",
   "metadata": {
    "slideshow": {
     "slide_type": "fragment"
    }
   },
   "source": [
    "* **Operator/User** - is providing desired behavior to the control system by means of **desired commands**"
   ]
  },
  {
   "cell_type": "markdown",
   "metadata": {
    "slideshow": {
     "slide_type": "fragment"
    }
   },
   "source": [
    "\n",
    "* **Plant** - is the device/software we are trying to control and it's consist of:\n",
    "  * **Actuators** - transform the software signals from controller to dynamical system \n",
    "  * **Dynamical system** - take the inputs and change its behavior according to some mechanism of our robot which is completely described by some variables (state)\n",
    "  * **Sensors** - measure some combination of states and produce the output\n",
    "  * The Plant can be replaced by **simulator** software that mimic all of the components above.\n",
    "  \n"
   ]
  },
  {
   "cell_type": "markdown",
   "metadata": {
    "slideshow": {
     "slide_type": "fragment"
    }
   },
   "source": [
    "  \n",
    "* **Controller** - is the software + hardware that take **outputs** from the plant/simulator and produce appropriate **input** based on **user commands**, the controller itself may consist of different blocks, i.e. planner, regulator, observer, estimator etc."
   ]
  },
  {
   "cell_type": "markdown",
   "metadata": {
    "slideshow": {
     "slide_type": "fragment"
    }
   },
   "source": [
    "* **Environment** - the system and world is in the constant bilateral interacting process that may be either beneficial or reduce the system performance by inducing **disturbances**"
   ]
  },
  {
   "cell_type": "markdown",
   "metadata": {
    "slideshow": {
     "slide_type": "subslide"
    }
   },
   "source": [
    "In this course we will mainly focus on **design of advanced controllers**, however to facilitate this we mast ensure that we have a clear picture of the object we are going to control.\n",
    "\n",
    "So today we will try to:\n",
    "* briefly recall what a dynamical system is\n",
    "* how to build **mathematical model** \n",
    "* **appropriately simulate** behavior of plant\n",
    "\n",
    "While doing so we will have **two assumptions** (at least for today) namely plant actuators are ideal and supply the **control inputs to plant without any distortions**. The **full state of plant is measurable** without any noise (sensors are ideal as well)"
   ]
  },
  {
   "cell_type": "markdown",
   "metadata": {
    "slideshow": {
     "slide_type": "subslide"
    }
   },
   "source": [
    "### **Dynamical System**\n",
    "\n",
    "A dynamical system is a system whose behaviour, indicated by its output\n",
    "signal, **evolves over time**, possibly under the influence of **external inputs**.\n",
    "\n",
    "<!-- Interactions of a dynamical system with its environment is usually\n",
    "expressed with a diagram as shown below:\n",
    "\n",
    "<p align=\"center\">\n",
    "<img src=\"images/schemes/control_system.png\" alt=\"drawing\" width=\"70%\" style=\"margin:auto\"/>\n",
    "</p> -->\n",
    "\n",
    "Examples of dynamical systems include: \n",
    "* Electrical circuits \n",
    "* Mechanical systems\n",
    "* Biological systems\n",
    "* Stock market, and many others... \n",
    "\n",
    "Whatever objects with some quantities changing in time can be viewed as dynamical system"
   ]
  },
  {
   "cell_type": "markdown",
   "metadata": {
    "slideshow": {
     "slide_type": "subslide"
    }
   },
   "source": [
    "A dynamical system may be\n",
    "* **SISO or MIMO**: A SISO system is single-input single-output system and a\n",
    "MISO system is multiple-input multiple-output system\n",
    "* **Continuous-time or discrete-time**: A continuous-time system accepts and\n",
    "generates signals at all continuous times continuously.\n",
    "A discrete system accepts and generates signals at discrete times.\n",
    "* **Causal or non-causal**: A system is causal if its output at some time $t$\n",
    "depends on inputs up to time $t$ but not after $t$. Otherwise it is non-causal.\n",
    "* **Time invariant or time-varying**: A system is time-invariant if its input-output\n",
    "relationship is independent of time. Otherwise it is time-varying.\n",
    "* **Linear or nonlinear**: The process that we want to model may be extremely complicated with different non-linearities, it is rare that real life systems are well described by linear models along the whole operational range."
   ]
  },
  {
   "cell_type": "markdown",
   "metadata": {
    "slideshow": {
     "slide_type": "subslide"
    }
   },
   "source": [
    "### **Plant Models**"
   ]
  },
  {
   "cell_type": "markdown",
   "metadata": {
    "slideshow": {
     "slide_type": "-"
    }
   },
   "source": [
    "Mathematical model is the **abstraction** of real world. While one building model of process there are a lot of simplifications may be made, and even seemingly accurate models are never perfectly describe the underlying process. **A model should be as simple as possible, and no simpler**.\n",
    "\n",
    "<p align=\"center\">\n",
    "<img src=\"images/systems/robot_to_model_blank.png\"\" alt=\"drawing\" width=\"90%\" style=\"margin:auto\"/>\n",
    "</p>\n",
    "\n",
    "Anything in the physical or biological world, whether natural or involving technology, is subject to analysis by mathematical models if it can be described in terms of mathematical expressions.\n",
    "\n",
    "\n"
   ]
  },
  {
   "cell_type": "markdown",
   "metadata": {
    "slideshow": {
     "slide_type": "subslide"
    }
   },
   "source": [
    "<!-- ### **Model** -->\n",
    "\n",
    "For the purpose of control design, a suitable model of the system should be used.\n",
    "Different kinds of models used in control design are:\n",
    "* **Impulse response** models (time domain)\n",
    "* **Transfer function** models (frequency domain)\n",
    "* **State-space** models (time domain)\n",
    "\n",
    "At present, mostly state-space models are used due to their generality, simplicity of implementation and mature mathematical apparatus that simplifies their analysis. However, impulse responce and transfer function may be usefull as well. For instance if one is interested in input output relationships, or som terminal properties of a system, impulse\n",
    "response models or transfer function descriptions can be used.\n",
    "\n",
    "However in **this course we will stick to the state space models**, since they are widely used in modern control systems."
   ]
  },
  {
   "cell_type": "markdown",
   "metadata": {
    "slideshow": {
     "slide_type": "subslide"
    }
   },
   "source": [
    "### **State-space models**\n",
    "\n",
    "These models are based on the concept of the **state** of the system.\n",
    "The state $\\mathbf{x}$ of a system is the smallest set of variables (called state variables)\n",
    "such that the knowledge of these variables $\\mathbf{x}_0$ at some time $t_0$ together with\n",
    "the knowledge of the input $\\mathbf{u}(\\tau)$ for all $\\tau$ from $t_0$ to $t$ completely\n",
    "determines the behavior of the system for any time $t> t_0$ .\n",
    "\n",
    "A state-space model of a system is expressed with a set of first-order\n",
    "differential equations, one for each state variable."
   ]
  },
  {
   "cell_type": "markdown",
   "metadata": {
    "slideshow": {
     "slide_type": "subslide"
    }
   },
   "source": [
    "### **Linear Systems**\n",
    "\n",
    "Linear control theory has been predominantly concerned with the study of **linear timeinvariant** (LTI) control systems, of the form:\n",
    "\n",
    "$$\n",
    "\\begin{matrix}\n",
    "    \\dot{\\mathbf{x}} = \\mathbf{A}(t) \\mathbf{x} + \\mathbf{B}(t) \\mathbf{u}\n",
    "\\end{matrix}\n",
    "$$\n",
    "\n",
    "\n",
    "with $\\mathbf{x} \\in \\mathbb{R}^n$ being a vector of **states**, $\\mathbf{A}  \\in \\mathbb{R}^{n \\times n}$ the **system matrix**, $\\mathbf{u}\\in \\mathbb{R}^m$ **input** (control) vector and $\\mathbf{B}   \\in \\mathbb{R}^{n \\times m}$ is the **input matrix**. \n",
    "\n",
    "LTI systems have quite simple properties, such as:\n",
    "\n",
    "* a linear system has a **unique equilibrium point** if $\\mathbf{A}$ is full rank\n",
    "* the equilibrium point is **stable** if all eigenvalues of $\\mathbf{A}$ have negative real parts, regardless of initial conditions\n",
    "* the transient response of a linear system is composed of the natural modes of the system, and the general solution can be found **analytically**\n",
    "* **response** satisfies the principle of superposition.\n",
    "* a sinusoidal input leads to a sinusoidal output of the **same frequency**."
   ]
  },
  {
   "cell_type": "markdown",
   "metadata": {
    "slideshow": {
     "slide_type": "subslide"
    }
   },
   "source": [
    "**Example: Mass-Spring-Damper**\n",
    "\n",
    "<p align=\"center\">\n",
    "<img src=\"images/systems/mbk_eq.png\" alt=\"drawing\" width=\"60%\" style=\"margin:auto\"/>\n",
    "</p>\n",
    "<!-- Dynamics of this system desribed by following ODE:\n",
    "$$\n",
    "m\\ddot{y} + b \\dot{y} + k y = 0\n",
    "$$\n",
    "PICTURE\n",
    "\n"
   ]
  },
  {
   "cell_type": "markdown",
   "metadata": {
    "slideshow": {
     "slide_type": "fragment"
    }
   },
   "source": [
    "And one can formulate this system in state space as:\n",
    "$$\n",
    "\\dot{\\mathbf{x}}\n",
    " = \\mathbf{A}\\mathbf{x} =\n",
    "\\begin{bmatrix}\n",
    "\\dot{y}\\\\\n",
    "\\ddot{y}\n",
    "\\end{bmatrix}\n",
    "=\n",
    "\\begin{bmatrix}\n",
    "0 & 1\\\\\n",
    "-\\frac{k}{m} & -\\frac{b}{m}\n",
    "\\end{bmatrix}\n",
    " \\begin{bmatrix}\n",
    "y\\\\\n",
    "\\dot{y}\n",
    "\\end{bmatrix}\n",
    "$$"
   ]
  },
  {
   "cell_type": "markdown",
   "metadata": {
    "slideshow": {
     "slide_type": "subslide"
    }
   },
   "source": [
    "### **Nonlinear Systems**\n",
    "\n",
    "Physical systems are inherently nonlinear. Thus, all control systems are nonlinear to a\n",
    "certain extent. \n",
    "Nonlinear control systems can be described by nonlinear differential equations. \n",
    "\n",
    "$$\n",
    "\\begin{matrix}\n",
    "    \\dot{\\mathbf{x}} = \\mathbf{f}(\\mathbf{x},\\mathbf{u},\\mathbf{d}, t)\n",
    "\\end{matrix}\n",
    "$$\n",
    "\n",
    "where $\\mathbf{f} \\in \\mathbb{R}^n$ is some nonlinear smooth function. \n",
    "\n",
    "Nonlinear systems in contrast to linear:\n",
    "* in general one can't obtain analytical solution \n",
    "* a nonlinear system has a **multiple equilibrium points**\n",
    "* the **stability** of these equilibriums is much harder to analyze \n",
    "* **response** does not satisfies the principle of superposition.\n",
    "\n",
    "The form above is fairly general, however there are known special cases, like control-affine and drift-less systems which we will study a bit later.\n",
    "\n",
    "<!-- However, if the operating range of a control system is small, and if the\n",
    "involved nonlinearities are smooth, then the control system may be reasonably\n",
    "approximated by a linearized system, whose dynamics is described by a set of linear\n",
    "differential equations. -->\n",
    "\n",
    "<!-- Nonlinearities can be classified as inherent (natural) and intentional (artificial).\n",
    "Inherent nonlinearities are those which naturally come with the system's hardware and\n",
    "motion. Examples of inherent nonlinearities include centripetal forces in rotational\n",
    "motion, and Coulomb friction between contacting surfaces. Usually, such\n",
    "nonlinearities have undesirable effects, and control systems have to properly\n",
    "compensate for them. \n",
    "Intentional nonlinearities, on the other hand, are artificially\n",
    "introduced by the designer. -->\n"
   ]
  },
  {
   "cell_type": "markdown",
   "metadata": {
    "slideshow": {
     "slide_type": "subslide"
    }
   },
   "source": [
    "**Example: Nonlinear Pendulum**\n",
    "\n",
    "<p align=\"center\">\n",
    "<img src=\"images/systems/pend_eq.png\" alt=\"drawing\" width=\"60%\" style=\"margin:auto\"/>\n",
    "</p>\n",
    " \n",
    "\n",
    "\n",
    "<!-- Let us consider simple pendulum, with dynamics given by:\n",
    "\n",
    "$$\n",
    "(m L^2 + I) \\ddot{\\theta} + mgL \\sin\\theta + b \\dot{\\theta} = u\n",
    "$$ -->\n",
    "\n"
   ]
  },
  {
   "cell_type": "markdown",
   "metadata": {
    "slideshow": {
     "slide_type": "fragment"
    }
   },
   "source": [
    "Given state $\\mathbf{x} = [\\theta, \\dot{\\theta}]^T$ we may formulate equation above as:\n",
    "\n",
    "$$\n",
    "\\dot{\\mathbf{x}} = \n",
    "\\begin{bmatrix}\n",
    "\\dot{\\theta} \\\\\n",
    "\\ddot{\\theta} \n",
    "\\end{bmatrix} \n",
    "=\n",
    "\\begin{bmatrix}\n",
    "\\dot{x}_1 \\\\\n",
    "\\dot{x}_2 \n",
    "\\end{bmatrix} \n",
    "=\n",
    "% \\begin{bmatrix}\n",
    "% \\dot{\\theta} \\\\\n",
    "% \\frac{1}{m L^2 + I}(u - mgL \\sin \\theta-b \\dot{\\theta})\n",
    "% \\end{bmatrix} \n",
    "% =\n",
    "\\begin{bmatrix}\n",
    "x_2 \\\\\n",
    "\\frac{1}{m L^2 + I}(u - mgL \\sin x_1-b x_2)\n",
    "\\end{bmatrix} \n",
    "$$"
   ]
  },
  {
   "cell_type": "markdown",
   "metadata": {
    "slideshow": {
     "slide_type": "subslide"
    }
   },
   "source": [
    "**Example: Variable Mass Lander**\n",
    "\n",
    "<!-- Dynamics of lunar lander given by  Tsiolkovsky-Meshchersky equation:\n",
    "$$\n",
    " m\\ddot{x} + mg = -k\\dot{m} = -ku\n",
    "$$ -->\n",
    "\n",
    "<p align=\"center\">\n",
    "<img src=\"images/systems/lander_eq.png\" alt=\"drawing\" width=\"60%\" style=\"margin:auto\"/>\n",
    "</p>\n",
    "\n"
   ]
  },
  {
   "cell_type": "markdown",
   "metadata": {
    "slideshow": {
     "slide_type": "fragment"
    }
   },
   "source": [
    "Noting that $m$ is vary we need to include it to state, thus $\\mathbf{x} = [x, \\dot{x}, m]^T$ and equation above is equalient to:\n",
    "\n",
    "$$\n",
    "\\dot{\\mathbf{x}}\n",
    "=\n",
    "\\begin{bmatrix}\n",
    "\\dot{x} \\\\\n",
    "\\dot{v} \\\\ \n",
    "\\dot{m} \\\\\n",
    "\\end{bmatrix}\n",
    "=\n",
    "\\begin{bmatrix}\n",
    "v \\\\ \n",
    "-g - \\frac{k}{m} u\\\\ \n",
    "u \\\\ \n",
    "\\end{bmatrix} =\n",
    "\\begin{bmatrix}\n",
    "\\dot{x}_1 \\\\\n",
    "\\dot{x}_2 \\\\ \n",
    "\\dot{x}_3 \\\\\n",
    "\\end{bmatrix} = \n",
    "\\begin{bmatrix}\n",
    "x_2 \\\\ \n",
    "-g - \\frac{k}{x_3} u\\\\ \n",
    "u \\\\ \n",
    "\\end{bmatrix}\n",
    "$$\n"
   ]
  },
  {
   "cell_type": "markdown",
   "metadata": {
    "slideshow": {
     "slide_type": "subslide"
    }
   },
   "source": [
    "### **Generilized Mechanical System**\n",
    "\n",
    "Equation of motion for most mechanical systems may be written in following form:\n",
    "\n",
    "\\begin{equation*}\n",
    "\\mathbf{M}(\\mathbf{q})\\ddot{\\mathbf{q}} + \\mathbf{h}(\\mathbf{q},\\dot{\\mathbf{q}}) + \\mathbf{d}(\\mathbf{q},\\dot{\\mathbf{q}},t) = \\mathbf{Q} = \\mathbf{B}(\\mathbf{q})\\mathbf{u}\n",
    "\\end{equation*}\n",
    "<!-- \\mathbf{M}(\\mathbf{q})\\ddot{\\mathbf{q}}  + \\mathbf{C}(\\mathbf{q},\\dot{\\mathbf{q}})\\dot{\\mathbf{q}} + \\mathbf{g}(\\mathbf{q}) + \\mathbf{d}(\\mathbf{q},\\dot{\\mathbf{q}},t) =  -->\n",
    "\n",
    "where:\n",
    "* $\\mathbf{Q} \\in \\mathbb{R}^n $ - generalized forces corresponding to generilized coordinates\n",
    "* $\\mathbf{B} \\in \\mathbb{R}^{n \\times m} $ - input mapping matrix that mapped actual forces to the \n",
    "* $\\mathbf{d} \\in \\mathbb{R}^n $ - disturbances (for instance friction or external forces)\n",
    "* $\\mathbf{q} \\in \\mathbb{R}^{n}$ - vector of generilized coordinates\n",
    "* $\\mathbf{M} \\in \\mathbb{R}^{n \\times n}$ - positive definite symmetric inertia matrix \n",
    "* $\\mathbf{h} \\in \\mathbb{R}^n $ nonlinear term that describe the internal forces (coriolis and centrifugal terms)\n"
   ]
  },
  {
   "cell_type": "markdown",
   "metadata": {
    "slideshow": {
     "slide_type": "fragment"
    }
   },
   "source": [
    "One can easily transform the mechanical system to the state space form by defining the state $\\mathbf{x} = [\\mathbf{q}, \\dot{\\mathbf{q}}]^T$:\n",
    "\n",
    "\\begin{equation*}\n",
    "\\dot{\\mathbf{x}}\n",
    "=\n",
    "\\begin{bmatrix}\n",
    "\\dot{\\mathbf{x}}_1 \\\\ \n",
    "\\dot{\\mathbf{x}}_2\n",
    "\\end{bmatrix}\n",
    "=\n",
    "\\begin{bmatrix}\n",
    "\\dot{\\mathbf{q}} \\\\ \n",
    "\\ddot{\\mathbf{q}}\n",
    "\\end{bmatrix}\n",
    "=\n",
    "\\begin{bmatrix}\n",
    "\\mathbf{x}_2 \\\\\n",
    "\\mathbf{M}^{-1}(\\mathbf{x}_1) \\big(\\mathbf{B}(\\mathbf{x}_1)\\mathbf{u} - \\mathbf{d}(\\mathbf{x}_1, \\mathbf{x}_2,t) -  \\mathbf{h}(\\mathbf{x}_1, \\mathbf{x}_2) \\big)\n",
    "\\end{bmatrix}\n",
    "\\end{equation*}\n"
   ]
  },
  {
   "cell_type": "markdown",
   "metadata": {
    "slideshow": {
     "slide_type": "subslide"
    }
   },
   "source": [
    "**Example: Floating Rigid Body**\n",
    "\n",
    "The model of floating rigid body described by its postion $\\mathbf{p}$, linear $\\mathbf{v} = \\dot{\\mathbf{p}}$ and angular velocity $\\boldsymbol{\\omega}$ subject to external force $\\mathbf{f}$ and torque $\\boldsymbol{\\tau}$:\n",
    "\n",
    "\n",
    "<p align=\"center\">\n",
    "<img src=\"images/systems/srb_eq.png\" alt=\"drawing\" width=\"60%\" style=\"margin:auto\"/>\n",
    "</p>\n",
    "\n",
    "<!-- $$\n",
    "\\begin{cases}\n",
    "    m\\dot{\\mathbf{v}} + m \\mathbf{g} =\n",
    "    \\mathbf{f}                       \\\\\n",
    "    \\mathcal{I} \\dot{\\boldsymbol{\\omega}} +\n",
    "    \\boldsymbol{\\omega} \\times  \\mathcal{I}\\boldsymbol{\\omega}\n",
    "    = \\boldsymbol{\\tau}      \\\\\n",
    "\\end{cases}\n",
    "$$\n",
    " -->\n"
   ]
  },
  {
   "cell_type": "markdown",
   "metadata": {
    "slideshow": {
     "slide_type": "fragment"
    }
   },
   "source": [
    "To rewrite the following in the general form one may define following:\n",
    "$$\n",
    "\\mathbf{M}(\\mathbf{q}) = \n",
    "\\begin{bmatrix}\n",
    "mI & 0 \\\\\n",
    "0 & \\mathcal{I}\\\\\n",
    "\\end{bmatrix}, \\quad\n",
    "\\mathbf{h}(\\mathbf{q},\\dot{\\mathbf{q}}) = \n",
    "\\begin{bmatrix}\n",
    "mg \\\\\n",
    "\\boldsymbol{\\omega} \\times  \\mathcal{I}\\boldsymbol{\\omega}\\\\\n",
    "\\end{bmatrix}, \\quad \\mathbf{B} = \\mathbf{I}\n",
    "$$"
   ]
  },
  {
   "cell_type": "markdown",
   "metadata": {
    "slideshow": {
     "slide_type": "subslide"
    }
   },
   "source": [
    "**Example: Artificial Satellite**\n",
    "\n",
    "The artificial satellite orbiting planet may be described using Newton gravity theory as:\n",
    "<!-- \n",
    "$$\n",
    "\\left\\{\\begin{matrix}\n",
    "m\\ddot{r}=m r\\dot{\\theta}^2  -G\\cfrac{m M}{r^2} + u_r\n",
    "\\\\ \n",
    "mr\\ddot{\\theta}=-2 m \\dot{r}\\dot{\\theta}+ u_\\theta\n",
    "\\end{matrix}\\right.\n",
    "$$ -->\n",
    "\n",
    "<p align=\"center\">\n",
    "<img src=\"images/systems/satt_eq.png\" alt=\"drawing\" width=\"60%\" style=\"margin:auto\"/>\n",
    "</p>\n"
   ]
  },
  {
   "cell_type": "markdown",
   "metadata": {
    "slideshow": {
     "slide_type": "fragment"
    }
   },
   "source": [
    "Given the generilized coordinates as $\\mathbf{q} = [r, \\theta]$ and control $\\mathbf{u} = [u_r, u_\\theta]^T$ one can express above in the general form:\n",
    "\n",
    "$$\n",
    "\\mathbf{M}(\\mathbf{q}) = \n",
    "\\begin{bmatrix}\n",
    "m & 0 \\\\\n",
    "0 & mr \\\\\n",
    "\\end{bmatrix}, \\quad\n",
    "\\mathbf{h}(\\mathbf{q},\\dot{\\mathbf{q}}) = \n",
    "\\begin{bmatrix}\n",
    "- mr\\dot{\\theta}^2 + G\\cfrac{m M}{r^2} \\\\\n",
    "2 m \\dot{r}\\dot{\\theta}\\\\\n",
    "\\end{bmatrix}, \\quad \\mathbf{B} = \\mathbf{I}\n",
    "$$"
   ]
  },
  {
   "cell_type": "markdown",
   "metadata": {
    "slideshow": {
     "slide_type": "subslide"
    }
   },
   "source": [
    "**Example: Cart Pole**\n",
    "\n",
    "Let us consider the cart pole described by:\n",
    "<!-- $$\n",
    "\\begin{cases} \n",
    "\\left(M+m\\right){\\ddot {r}}-m L \\ddot{\\theta} \\cos \\theta +m L \\dot{\\theta }^{2}\\sin \\theta = u \\\\\n",
    "mL^2 \\ddot{\\theta}- mLg\\sin \\theta =mL\\ddot{r} \\cos \\theta  \\\\\n",
    "\\end{cases}\n",
    "$$ -->\n",
    "\n",
    "<p align=\"center\">\n",
    "<img src=\"images/systems/cart_pole_eq.png\" alt=\"drawing\" width=\"60%\" style=\"margin:auto\"/>\n",
    "</p>\n"
   ]
  },
  {
   "cell_type": "markdown",
   "metadata": {
    "slideshow": {
     "slide_type": "fragment"
    }
   },
   "source": [
    "Defyning the generilized coordinates as $\\mathbf{q} = [r, \\theta]$ and matching the terms yields:\n",
    "\n",
    "$$\n",
    "\\mathbf{M}(\\mathbf{q}) = \n",
    "\\begin{bmatrix}\n",
    "M + m & -mL \\cos \\theta \\\\\n",
    "-mL \\cos \\theta & mL^2 \\\\\n",
    "\\end{bmatrix}, \\quad\n",
    "\\mathbf{h}(\\mathbf{q},\\dot{\\mathbf{q}}) = \n",
    "\\begin{bmatrix}\n",
    "m L \\dot{\\theta }^{2}\\sin \\theta\\\\\n",
    "- mLg\\sin \\theta\\\\\n",
    "\\end{bmatrix}, \n",
    "\\quad \\mathbf{B} = \n",
    "\\begin{bmatrix}\n",
    "0 \\\\\n",
    "1 \\\\\n",
    "\\end{bmatrix}\n",
    "$$"
   ]
  },
  {
   "cell_type": "markdown",
   "metadata": {
    "slideshow": {
     "slide_type": "subslide"
    }
   },
   "source": [
    "\n",
    "Note that the choice of a set of state variables for a system is **not unique**. So\n",
    "a state-space model for a system is also not unique. There can be **infinitely many possibilities**."
   ]
  },
  {
   "cell_type": "markdown",
   "metadata": {
    "slideshow": {
     "slide_type": "fragment"
    }
   },
   "source": [
    "When the model is obtained from a known differential equation, you can\n",
    "always select meaningful state variables. However, state variables may not\n",
    "directly relate to physical variables if the model is obtained from\n",
    "**identification methods**."
   ]
  },
  {
   "cell_type": "markdown",
   "metadata": {
    "slideshow": {
     "slide_type": "subslide"
    }
   },
   "source": [
    "### **Other Models**\n",
    "It should be noted that there are special cases when the equations above maybe simplified or some interesting properties may be exploited, examples are:\n",
    "\n",
    "* Control affine systems: $\\dot{\\mathbf{x}} = \\mathbf{f}(\\mathbf{x}) + \\mathbf{G}(\\mathbf{x})\\mathbf{u}$ \n",
    "* Drift-less systems: $\\dot{\\mathbf{x}} = \\mathbf{G}(\\mathbf{x})\\mathbf{u}$ \n",
    "* Differential-Algebraic Equations: $\\mathbf{F}(\\dot{\\mathbf{x}}, \\mathbf{x},\\mathbf{u}) = \\boldsymbol{0}$ \n",
    "* Mechanical Systems in Regressor Form: $\\mathbf{Y}(\\mathbf{q}, \\dot{\\mathbf{q}},\\ddot{\\mathbf{q}})\\mathbf{p} = \\mathbf{B}(\\mathbf{q})\\mathbf{u}$\n",
    "* Differential-Inclusions: $\\dot{\\mathbf{x}} \\in \\mathbf{f}(\\mathbf{x},\\mathbf{u},\\mathbf{d}, t)$\n",
    "\n",
    "We will consider some of these later on."
   ]
  },
  {
   "cell_type": "markdown",
   "metadata": {
    "slideshow": {
     "slide_type": "subslide"
    }
   },
   "source": [
    "### **Discrete-Time Systems**\n",
    "\n",
    "Some dynamical systems are described in discrete-times (which can be\n",
    "counted) rather than in continuous time. e.g., system representing a bank\n",
    "account whose balance is reported once everyday. \n",
    "\n",
    "Discrete systems are described by **difference equations**:\n",
    "\n",
    "$$\n",
    "\\begin{matrix}\n",
    "    \\mathbf{x}_{k+1} = \\mathbf{A}_k \\mathbf{x}_k + \\mathbf{B}_k \\mathbf{u}_k\\\\ \n",
    "    \\mathbf{x}_{k+1} = \\mathbf{f}_d(\\mathbf{x}_k,\\mathbf{u}_k,\\mathbf{d}_k, k)\\\\ \n",
    "\\end{matrix}\n",
    "$$\n",
    "\n",
    "Some systems are inherently discrete, whereas many continuous-time\n",
    "systems are modeled in discrete-time for easier analysis and design with\n",
    "digital computers."
   ]
  },
  {
   "cell_type": "markdown",
   "metadata": {
    "slideshow": {
     "slide_type": "subslide"
    }
   },
   "source": [
    "### **Discretization and Simulation**"
   ]
  },
  {
   "cell_type": "markdown",
   "metadata": {
    "slideshow": {
     "slide_type": "fragment"
    }
   },
   "source": [
    "In the field of robotics the most models are actually derived from continues differential equations while the controller is implemented in digital form (software). Thus the overall control system may be described as follows:\n",
    "\n",
    "* Output signals from the system $\\mathbf{x}(t)$ are sampled regularly at times $t_k = kT$,\n",
    "$k = 0,1,2,\\dots$, where $T$ is the sampling period resulting in the **state samples** $\\mathbf{x}_k$.\n",
    "* These samples $\\mathbf{x}_k$ are fed to a **digital controller** which calculates **control input** $\\mathbf{u}_k$.\n",
    "* A **constant input** $\\mathbf{u}_k$ is applied to real system over the sampling period using zero-order hold.\n",
    "\n",
    "So for the purpose of control and analysis, it always useful to obtain a model of the\n",
    "system in **discrete times**. Obtaining a discrete-time model is referred to as\n",
    "**discretization**."
   ]
  },
  {
   "cell_type": "markdown",
   "metadata": {
    "slideshow": {
     "slide_type": "skip"
    }
   },
   "source": [
    "For a LTI system, we can obtain a exact discrete-time model if\n",
    "the input remains constant over each sampling period. \n",
    "\n"
   ]
  },
  {
   "cell_type": "markdown",
   "metadata": {
    "slideshow": {
     "slide_type": "subslide"
    }
   },
   "source": [
    "### **Approximated discretization** \n",
    "\n",
    "Exact discretization of time-varying/nonlinear systems are difficult or may not be analytically possible.\n",
    "\n",
    "Approximate discrete-time models are widely used in practice. For a small\n",
    "sampling time, $T$, we can write, for the nonlinear system $\\dot{\\mathbf{x}} = \\mathbf{f}(\\mathbf{x},\\mathbf{u},\\mathbf{d}, t)$:\n",
    "\n",
    "$$\n",
    "\\begin{matrix}\n",
    "    \\mathbf{x}_{k+1} =\\mathbf{x}_{k} + T\\mathbf{f}\\big(\\mathbf{x}(kT),\\mathbf{u}(kT),\\mathbf{d}(kT), kT\\big)\\\\ \n",
    "\\end{matrix}\n",
    "$$\n",
    "\n",
    "And for a linear system, this becomes\n",
    "$$\n",
    "\\mathbf{x}_{k+1} = (\\mathbf{I} + T\\mathbf{A}(kT))\\mathbf{x}_k + T\\mathbf{B}(kT)\\mathbf{u}_k\n",
    "$$\n",
    "\n",
    "This is called discretization by Euler method."
   ]
  },
  {
   "cell_type": "markdown",
   "metadata": {
    "slideshow": {
     "slide_type": "subslide"
    }
   },
   "source": [
    "**Example:**\n",
    "\n",
    "Consider the nonlinear pendulum described by following state space representation (assuming all parameters are $1$):\n",
    "\n",
    "$$\n",
    "\\dot{\\mathbf{x}} = \n",
    "\\begin{bmatrix}\n",
    "\\dot{x}_1 \\\\\n",
    "\\dot{x}_2\n",
    "\\end{bmatrix} \n",
    "=\n",
    "\\begin{bmatrix}\n",
    "x_2 \\\\\n",
    "u - \\sin x_1 - x_2\n",
    "\\end{bmatrix} \n",
    "$$\n"
   ]
  },
  {
   "cell_type": "markdown",
   "metadata": {
    "slideshow": {
     "slide_type": "fragment"
    }
   },
   "source": [
    "\n",
    "The discrete model is then given by following set of difference equations:\n",
    "$$\n",
    "\\mathbf{x}_{k+1} = \n",
    "\\begin{bmatrix}\n",
    "x_{1_{k+1}} \\\\\n",
    "x_{2_{k+1}}\n",
    "\\end{bmatrix} \n",
    "=\n",
    "\\begin{bmatrix}\n",
    "x_{1_{k}} \\\\\n",
    "x_{2_{k}}\n",
    "\\end{bmatrix} \n",
    "+\n",
    "T\n",
    "\\begin{bmatrix}\n",
    "x_{2_k} \\\\\n",
    "u - \\sin x_{1_k} - x_{2_k}\n",
    "\\end{bmatrix} \n",
    "=\n",
    "\\begin{bmatrix}\n",
    "x_{1_k} + Tx_{2_k} \\\\\n",
    "x_{2_k} + Tu_k - T\\sin x_{1_k} - Tx_{2_k}\n",
    "\\end{bmatrix} \n",
    "$$\n"
   ]
  },
  {
   "cell_type": "markdown",
   "metadata": {
    "slideshow": {
     "slide_type": "subslide"
    }
   },
   "source": [
    "### **Simulation of ODE**\n",
    "While studying ODE $\\dot{\\mathbf{x}} = \\boldsymbol{f}(\\mathbf{x}, \\mathbf{u}, t)$, one is often interested in its solution $\\mathbf{x}(t)$ (integral curve):\n",
    "$$\n",
    "\\mathbf{x}(t) = \\int_{t_0}^{t} \\boldsymbol{f}(\\tau,\\mathbf{x}(\\tau),\\mathbf{u}(\\tau))d\\tau,\\quad \\text{s.t: } \\mathbf{x}(t_0) = \\mathbf{x}_0\n",
    "$$\n",
    "The simulation is nothing but tacking the integral above.\n",
    "\n",
    "However, in most practical situations the above cannot be solved analytically and one should consider numerical integration instead, thus ending up with descrete system:\n",
    "\n",
    "$$\n",
    "\\mathbf{x}_{k+1} = \\mathbf{f}_d(\\mathbf{x}_k,\\mathbf{u}_k,\\mathbf{d}_k, k),\\quad \\text{s.t: } \\mathbf{x}_0 = \\mathbf{x}(t_0)\n",
    "$$\n",
    "\n",
    "Thus simulation is just **iteration over the descrete dynamics** starting from initial point $\\mathbf{x}_0 = \\mathbf{x}(t_0)$"
   ]
  },
  {
   "cell_type": "markdown",
   "metadata": {
    "slideshow": {
     "slide_type": "subslide"
    }
   },
   "source": [
    "Let us implement the simulation of nonlinear pendulum via iterating the discrete dynamics:"
   ]
  },
  {
   "cell_type": "code",
   "execution_count": 5,
   "metadata": {
    "slideshow": {
     "slide_type": "subslide"
    }
   },
   "outputs": [],
   "source": [
    "import numpy as np \n",
    "\n",
    "def f(state, t, control):\n",
    "    u = control \n",
    "    x1, x2 = state \n",
    "    dx1 = x2 \n",
    "    dx2 = u - np.sin(x1) - 0*x2\n",
    "    return np.array([dx1, dx2])\n"
   ]
  },
  {
   "cell_type": "code",
   "execution_count": 15,
   "metadata": {
    "slideshow": {
     "slide_type": "fragment"
    }
   },
   "outputs": [],
   "source": [
    "x_0 = np.array([1,0])\n",
    "T = 2E-2\n",
    "tf = 10\n",
    "N = int(tf/T)\n",
    "X = []\n",
    "\n",
    "\n",
    "# ITERATE DESCRETE DYNAMICS\n",
    "x_prev = x_0\n",
    "for k in range(N):\n",
    "    X.append(x_prev)\n",
    "    u_k = 0\n",
    "    x_new = x_prev + T*f(x_prev, k*T, u_k)\n",
    "    x_prev = x_new \n",
    "\n",
    "x_sol_simp = np.array(X)"
   ]
  },
  {
   "cell_type": "markdown",
   "metadata": {
    "slideshow": {
     "slide_type": "subslide"
    }
   },
   "source": [
    "Let us plot the result:"
   ]
  },
  {
   "cell_type": "code",
   "execution_count": 16,
   "metadata": {
    "slideshow": {
     "slide_type": "fragment"
    }
   },
   "outputs": [
    {
     "data": {
      "image/png": "[encoded data removed]",
      "text/plain": [
       "<Figure size 640x480 with 1 Axes>"
      ]
     },
     "metadata": {},
     "output_type": "display_data"
    }
   ],
   "source": [
    "from matplotlib.pyplot import *\n",
    "\n",
    "plot(x_sol_simp, linewidth=2.0)\n",
    "grid(color='black', linestyle='--', linewidth=1.0, alpha = 0.7)\n",
    "grid(True)\n",
    "# xlim([t0, tf])\n",
    "ylabel(r'State $x_k$')\n",
    "xlabel(r'Samples $k$')\n",
    "show()"
   ]
  },
  {
   "cell_type": "markdown",
   "metadata": {
    "slideshow": {
     "slide_type": "subslide"
    }
   },
   "source": [
    "The Euler method implemented above is highly dependent on the sampling period $T$, there are other suitable methods, the most widely used is the 4-th order Runge-Kutta and advanced variational integrators. However, we will not dig into the integration algorithm, instead for the purpose of simulation we will use `odeint` from the `scipy.integrate`: "
   ]
  },
  {
   "cell_type": "code",
   "execution_count": 17,
   "metadata": {
    "slideshow": {
     "slide_type": "fragment"
    }
   },
   "outputs": [],
   "source": [
    "from scipy.integrate import odeint # import integrator routine\n",
    "scale = 5\n",
    "\n",
    "X = []\n",
    "x_prev = x_0\n",
    "for k in range(N):\n",
    "    X.append(x_prev)\n",
    "    t_k = np.linspace(k*T, (k+1)*T, scale)\n",
    "    u_k = 0\n",
    "    x_new = odeint(f, x_prev, t_k, args = (u_k,))\n",
    "    x_prev  = x_new[-1,:] \n",
    "\n",
    "x_sol = np.array(X)"
   ]
  },
  {
   "cell_type": "code",
   "execution_count": 18,
   "metadata": {
    "slideshow": {
     "slide_type": "subslide"
    }
   },
   "outputs": [
    {
     "data": {
      "image/png": "[encoded data removed]",
      "text/plain": [
       "<Figure size 640x480 with 1 Axes>"
      ]
     },
     "metadata": {},
     "output_type": "display_data"
    }
   ],
   "source": [
    "plot(x_sol, linewidth=2.0)\n",
    "plot(x_sol_simp, linewidth=2.0)\n",
    "grid(color='black', linestyle='--', linewidth=1.0, alpha = 0.7)\n",
    "grid(True)\n",
    "ylabel(r'State $x_k$')\n",
    "xlabel(r'Samples $k$')\n",
    "show()"
   ]
  },
  {
   "cell_type": "markdown",
   "metadata": {
    "slideshow": {
     "slide_type": "slide"
    }
   },
   "source": [
    "### **Controller and Implementation** \n",
    "\n",
    "**How to make the given dynamical system display desired behavior?** this is one of the questions of concern in the field of **control** theory. One of the most widely used approaches supporting the solution of the problems above is the so-called **feedback control**\n",
    "\n",
    "<p align=\"center\">\n",
    "    <img src=\"https://drive.google.com/uc?id=1E4tNt0rSwXsrGSi4U1cOk0D_Y-q8bFJ-\"\" alt=\"drawing\" width=\"70%\" style=\"margin:auto\"/>\n",
    "</p>\n",
    "\n",
    "Let us now assume that one have designed feedback law as follows:\n",
    "$$\n",
    "\\mathbf{u} = \\boldsymbol{\\varphi}(\\mathbf{x})\n",
    "$$\n",
    "\n"
   ]
  },
  {
   "cell_type": "markdown",
   "metadata": {
    "slideshow": {
     "slide_type": "subslide"
    }
   },
   "source": [
    "\n",
    "One may substitute control law and obtain the equations of the **closed loop** system:\n",
    "\n",
    "$$\n",
    "\\mathbf{\\dot{x}} = \\mathbf{f}(\\mathbf{x},\\mathbf{u})  =\\mathbf{f}(\\mathbf{x},\\boldsymbol{\\varphi}(\\mathbf{x})) = \\mathbf{f}_c(\\mathbf{x})\n",
    "$$ \n",
    "\n",
    "now this system is unforced and may be analyzed as it is no control at all - basically we have changed the overall nature of plant - the governing dynamics.\n",
    "\n",
    "In the **next lecture** we will learn how to **design the controller functions** and analyze **closed loop response** with different **numerical and analytical tools**, while for today we will move to the practice when we will focus on the **implementation side of the control system**.  \n",
    "\n"
   ]
  },
  {
   "cell_type": "markdown",
   "metadata": {
    "slideshow": {
     "slide_type": "slide"
    }
   },
   "source": [
    "## **Practice 1: Architecture of The Control System, Controlled Dynamical System as Multiprocessing Software**"
   ]
  },
  {
   "cell_type": "markdown",
   "metadata": {
    "slideshow": {
     "slide_type": "fragment"
    }
   },
   "source": [
    "\n",
    "\n",
    "From point of view of control and software engineers we would like to dig more into **implementation side**. \n",
    "\n",
    "So far we have discussed that the purpose of **control** is to shape system in the way that it is **display desired behavior**. In paper everything is great, you just **design the controller function**, plug it to the **dynamics and analyze the resulting system**. \n",
    "\n",
    "But in practice in most cases the system of choice is described in continues time while controller is in descrete domain. This can be achived if simulation run considerably **faster then controller** and ideally in **parallel** to control process. Thus it is natural to run controller in the separate process or thread.\n"
   ]
  },
  {
   "cell_type": "markdown",
   "metadata": {
    "slideshow": {
     "slide_type": "subslide"
    }
   },
   "source": [
    "Thus the overall software structure of the control system may be roughly described as follows:\n",
    "\n",
    "<p align=\"center\">\n",
    "<img src=\"images/schemes/controller_process.png\" alt=\"drawing\" width=\"70%\" style=\"margin:auto\"/>\n",
    "</p>\n",
    "\n"
   ]
  },
  {
   "cell_type": "markdown",
   "metadata": {
    "slideshow": {
     "slide_type": "subslide"
    }
   },
   "source": [
    "Let us implement this architecture with help of `lcm` (lightweight communications and marshalling ) library:\n",
    "\n"
   ]
  },
  {
   "cell_type": "markdown",
   "metadata": {
    "slideshow": {
     "slide_type": "fragment"
    }
   },
   "source": [
    "* Install the [lcm library](https://lcm-proj.github.io/index.html) and it's [python](https://github.com/lcm-proj/lcm/tree/master/lcm-python) interface (I suggest to use virtualenv)"
   ]
  },
  {
   "cell_type": "markdown",
   "metadata": {
    "slideshow": {
     "slide_type": "fragment"
    }
   },
   "source": [
    "* Clone the [course repository](https://github.com/SimkaNed/modern_control_paradigms) and go to `code/practice_01`\n"
   ]
  },
  {
   "cell_type": "markdown",
   "metadata": {
    "slideshow": {
     "slide_type": "fragment"
    }
   },
   "source": [
    "* Study the `.lcm` files in `transport/messages/`, these are the structures for the **controller**, **plant** and **user** messages.\n"
   ]
  },
  {
   "cell_type": "markdown",
   "metadata": {
    "slideshow": {
     "slide_type": "fragment"
    }
   },
   "source": [
    "* Checkout the `pub.py` `sub.py`, this are examples of publisher and subscriber\n"
   ]
  },
  {
   "cell_type": "markdown",
   "metadata": {
    "slideshow": {
     "slide_type": "fragment"
    }
   },
   "source": [
    "* Implement the plant simulator, controller and user interface (`simulator.py`, `controller.py`, `commands.py`)\n",
    "  * use whatever dynamical system you want, for instance the nonlinear pendulum\n",
    "  * simulation can be done either with simple euler method or odeint 4-th order runge-kutta (check the code from lecture for reference)\n",
    "  * use whatever controller you familiar with (i.e PD, PID), or just apply the constant/random inputs for now \n",
    "  * simulator should not be interrupted by the controller and be blocked\n",
    "  * ensure that simulator is running faster then controller \n"
   ]
  },
  {
   "cell_type": "markdown",
   "metadata": {
    "slideshow": {
     "slide_type": "fragment"
    }
   },
   "source": [
    "* Implement simple logger and printing routine\n"
   ]
  },
  {
   "cell_type": "markdown",
   "metadata": {
    "slideshow": {
     "slide_type": "fragment"
    }
   },
   "source": [
    "* **BONUS** implement online plotter and checkout the trajectories"
   ]
  }
 ],
 "metadata": {
  "celltoolbar": "Slideshow",
  "colab": {
   "collapsed_sections": [],
   "name": "symbolical_linearization.ipynb",
   "provenance": []
  },
  "kernelspec": {
   "display_name": "Python 3 (ipykernel)",
   "language": "python",
   "name": "python3"
  },
  "language_info": {
   "codemirror_mode": {
    "name": "ipython",
    "version": 3
   },
   "file_extension": ".py",
   "mimetype": "text/x-python",
   "name": "python",
   "nbconvert_exporter": "python",
   "pygments_lexer": "ipython3",
   "version": "3.8.10"
  },
  "rise": {
   "enable_chalkboard": true,
   "scroll": true,
   "theme": "simple",
   "transition": "linear"
  },
  "vscode": {
   "interpreter": {
    "hash": "767d51c1340bd893661ea55ea3124f6de3c7a262a8b4abca0554b478b1e2ff90"
   }
  }
 },
 "nbformat": 4,
 "nbformat_minor": 1
}

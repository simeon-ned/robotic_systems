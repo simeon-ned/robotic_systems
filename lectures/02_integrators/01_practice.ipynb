{
 "cells": [
  {
   "cell_type": "markdown",
   "metadata": {
    "slideshow": {
     "slide_type": "slide"
    }
   },
   "source": [
    "## **Practice 1: Architecture of The Control System, Controlled Dynamical System as Multiprocessing Software**"
   ]
  },
  {
   "cell_type": "markdown",
   "metadata": {
    "slideshow": {
     "slide_type": "fragment"
    }
   },
   "source": [
    "\n",
    "\n",
    "From point of view of control and software engineers we would like to dig more into **implementation side**. \n",
    "\n",
    "So far we have discussed that the purpose of **control** is to shape system in the way that it is **display desired behavior**. In paper everything is great, you just **design the controller function**, plug it to the **dynamics and analyze the resulting system**. \n",
    "\n",
    "But in practice in most cases the system of choice is described in continues time while controller is in descrete domain. This can be achived if simulation run considerably **faster then controller** and ideally in **parallel** to control process. Thus it is natural to run controller in the separate process or thread.\n"
   ]
  },
  {
   "cell_type": "markdown",
   "metadata": {
    "slideshow": {
     "slide_type": "subslide"
    }
   },
   "source": [
    "Thus the overall software structure of the control system may be roughly described as follows:\n",
    "\n",
    "<p align=\"center\">\n",
    "<img src=\"images/schemes/controller_process.png\" alt=\"drawing\" width=\"70%\" style=\"margin:auto\"/>\n",
    "</p>\n",
    "\n"
   ]
  },
  {
   "cell_type": "markdown",
   "metadata": {
    "slideshow": {
     "slide_type": "subslide"
    }
   },
   "source": [
    "Let us implement this architecture with help of `lcm` (lightweight communications and marshalling ) library:\n",
    "\n"
   ]
  },
  {
   "cell_type": "markdown",
   "metadata": {
    "slideshow": {
     "slide_type": "fragment"
    }
   },
   "source": [
    "* Install the [lcm library](https://lcm-proj.github.io/index.html) and it's [python](https://github.com/lcm-proj/lcm/tree/master/lcm-python) interface (I suggest to use virtualenv)"
   ]
  },
  {
   "cell_type": "markdown",
   "metadata": {
    "slideshow": {
     "slide_type": "fragment"
    }
   },
   "source": [
    "* Clone the [course repository](https://github.com/SimkaNed/modern_control_paradigms) and go to `code/practice_01`\n"
   ]
  },
  {
   "cell_type": "markdown",
   "metadata": {
    "slideshow": {
     "slide_type": "fragment"
    }
   },
   "source": [
    "* Study the `.lcm` files in `transport/messages/`, these are the structures for the **controller**, **plant** and **user** messages.\n"
   ]
  },
  {
   "cell_type": "markdown",
   "metadata": {
    "slideshow": {
     "slide_type": "fragment"
    }
   },
   "source": [
    "* Checkout the `pub.py` `sub.py`, this are examples of publisher and subscriber\n"
   ]
  },
  {
   "cell_type": "markdown",
   "metadata": {
    "slideshow": {
     "slide_type": "fragment"
    }
   },
   "source": [
    "* Implement the plant simulator, controller and user interface (`simulator.py`, `controller.py`, `commands.py`)\n",
    "  * use whatever dynamical system you want, for instance the nonlinear pendulum\n",
    "  * simulation can be done either with simple euler method or odeint 4-th order runge-kutta (check the code from lecture for reference)\n",
    "  * use whatever controller you familiar with (i.e PD, PID), or just apply the constant/random inputs for now \n",
    "  * simulator should not be interrupted by the controller and be blocked\n",
    "  * ensure that simulator is running faster then controller \n"
   ]
  },
  {
   "cell_type": "markdown",
   "metadata": {
    "slideshow": {
     "slide_type": "fragment"
    }
   },
   "source": [
    "* Implement simple logger and printing routine\n"
   ]
  },
  {
   "cell_type": "markdown",
   "metadata": {
    "slideshow": {
     "slide_type": "fragment"
    }
   },
   "source": [
    "* **BONUS** implement online plotter and checkout the trajectories"
   ]
  }
 ],
 "metadata": {
  "celltoolbar": "Slideshow",
  "colab": {
   "collapsed_sections": [],
   "name": "symbolical_linearization.ipynb",
   "provenance": []
  },
  "kernelspec": {
   "display_name": "Python 3 (ipykernel)",
   "language": "python",
   "name": "python3"
  },
  "language_info": {
   "codemirror_mode": {
    "name": "ipython",
    "version": 3
   },
   "file_extension": ".py",
   "mimetype": "text/x-python",
   "name": "python",
   "nbconvert_exporter": "python",
   "pygments_lexer": "ipython3",
   "version": "3.8.10"
  },
  "rise": {
   "enable_chalkboard": true,
   "scroll": true,
   "theme": "simple",
   "transition": "linear"
  },
  "vscode": {
   "interpreter": {
    "hash": "767d51c1340bd893661ea55ea3124f6de3c7a262a8b4abca0554b478b1e2ff90"
   }
  }
 },
 "nbformat": 4,
 "nbformat_minor": 1
}

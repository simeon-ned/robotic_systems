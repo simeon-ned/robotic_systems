{
  "cells": [
    {
      "attachments": {},
      "cell_type": "markdown",
      "metadata": {
        "id": "cmhxJObylsRg"
      },
      "source": [
        "## **Problem Set 2: Constrained Dynamics and Variational Integrators**"
      ]
    },
    {
      "attachments": {},
      "cell_type": "markdown",
      "metadata": {
        "id": "1jjZivD_lsRq"
      },
      "source": [
        "#### **Problem №1: Closed Loop Chain**\n",
        "\n",
        "Consider the following system:\n",
        "\n",
        "<p align=\"center\">\n",
        "<img src=\"https://simeon-ned.github.io/assets/images/systems/closed_loop.png\" alt=\"drawing\" width=\"60%\" style=\"margin:auto\"/>\n",
        "</p>\n"
      ]
    },
    {
      "cell_type": "markdown",
      "metadata": {
        "id": "17wmcAWTlsRr"
      },
      "source": [
        "with parameters given by:"
      ]
    },
    {
      "cell_type": "code",
      "execution_count": null,
      "metadata": {
        "id": "X0dS6WA0lsRs"
      },
      "outputs": [],
      "source": [
        "m1 = 0.5 # [kg] - mass in the first joint\n",
        "m2 = 0.7 # [kg] - mass in the first joint\n",
        "l = 0.25 # [m] - the length of links\n",
        "L = 0.4 # [] \n",
        "g = 9.81 # [m/s^2] the gravitational acceleration"
      ]
    },
    {
      "attachments": {},
      "cell_type": "markdown",
      "metadata": {
        "id": "tWsASfJflsRs"
      },
      "source": [
        "Do the following:\n",
        "\n",
        "* **[5 points]** Choose the coordinates to represent the dynamics of your system, derive the free dynamics in this coordinates (you may use Euler-Lagrange or just Newton laws), write the set of holonomic constraints that represent the closed chain in form $\\boldsymbol{\\varphi}(\\mathbf{q}) = 0$. Find the constraint Jacobian $\\mathbf{J} = \\frac{\\partial\\boldsymbol{\\varphi}}{\\partial\\mathbf{q}}$ and it's derivative $\\dot{\\mathbf{J}}$ as function of $\\mathbf{q}$ and $\\dot{\\mathbf{q}}$\n",
        "\n",
        "* **[15 points]** Use either Lagrange or Udwadia-Kalaba approach with Runge-Kutta 4-th order integrator to simulate the motion of the system provided sample rate $dT = 0.01$ and feasible initial point $\\mathbf{q}(0)$ in the rest. Calculate and plot the constraints penalization along the simulated trajectory $\\|\\boldsymbol{\\varphi}(\\mathbf{q}(t))\\|$. Introduce and tune the Baumgarte stabilization technique to reduce constraint penalization. Animate the motion. \n",
        "\n",
        "* **[10 points]** Introduce the external torques $u_{1,2} = 3\\sin(t)$ in to the static joints, repeat the steps above. \n",
        "\n",
        "---"
      ]
    },
    {
      "attachments": {},
      "cell_type": "markdown",
      "metadata": {
        "id": "eas_xCcEfubT"
      },
      "source": [
        "#### **Problem №2: Bicycle Dynamics**\n",
        "\n",
        "Consider the following system:\n",
        "\n",
        "<p align=\"center\">\n",
        "<img src=\"https://simeon-ned.github.io/assets/images/systems/bicyle.png\" alt=\"drawing\" width=\"60%\" style=\"margin:auto\"/>\n",
        "</p>\n",
        "\n",
        "\n",
        "with parameters given by:\n",
        "\n"
      ]
    },
    {
      "cell_type": "code",
      "execution_count": null,
      "metadata": {},
      "outputs": [],
      "source": [
        "m1 = 1.0 # [kg] - mass distributed around front wheel\n",
        "m2 = 2.0 # [kg] - mass distributed around rear wheel\n",
        "I2 = 0.1 # [kg*m^2] - inertia of front wheel  \n",
        "I1 = 1.0 # [kg*m^2] - combined inertia of frame and rear wheel\n",
        "l = 0.5 # [m] - length between wheels"
      ]
    },
    {
      "attachments": {},
      "cell_type": "markdown",
      "metadata": {},
      "source": [
        "\n",
        "Do the following:\n",
        "\n",
        "* **[10 points]** Propose the coordinates that will represent configuration of the system, derive the unconstrained dynamics, introduce the appropriate constraints (holonomic and nonholonomic) and convert them in to generalized form: $\\mathbf{A}(\\mathbf{q},\\dot{\\mathbf{q}},t) \\ddot{\\mathbf{q}} = \\mathbf{b}(\\mathbf{q}, \\dot{\\mathbf{q}}, t)$.\n",
        "\n",
        "* **[15 points]** Set the external forces $\\mathbf{Q}$ to represent the actuation of the system as it shown on the Fig. (b), simulate the behaviour of the system using Runge-Kutta, starting from feasible configuration similar to on the above figure while letting $F = 4$ and $\\tau = 0$, plot the trajectories, and time evoluation of constraints. Animate the resulting motion. Introduce and tune the bamguart stabilization\n",
        "\n",
        "* **[10 points]** Change the actuation forces to represent the given on figure, with $\\tau =  5(1.2\\sin(t) - \\alpha) - \\dot{\\alpha}$ and $F = 4$, repeat the above steps. Discuss the results.\n",
        "---\n"
      ]
    },
    {
      "attachments": {},
      "cell_type": "markdown",
      "metadata": {},
      "source": [
        "#### **Problem №3: Variational Quaternion Attitude**\n",
        "\n",
        "Consider the rotation of single rigid body with associated kinetic energy given by:\n",
        "\n",
        "$$\n",
        "    \\mathcal{K} = \\boldsymbol{\\omega}^T \\mathbf{I} \\boldsymbol{\\omega}\n",
        "$$\n",
        "\n",
        "with inertia matrix given derived with respect to principle axes as $\\mathbf{I} = \\text{diag}[I_x, I_y, I_z]$ and inertia parameters are given by:\n"
      ]
    },
    {
      "cell_type": "code",
      "execution_count": null,
      "metadata": {},
      "outputs": [],
      "source": [
        "Ix = 0.1 # inertia around x axis \n",
        "Iy = 0.2 # inertia around y axis\n",
        "Iz = 0.4 # inertia around z axis"
      ]
    },
    {
      "attachments": {},
      "cell_type": "markdown",
      "metadata": {},
      "source": [
        "Do the following:\n",
        "\n",
        "* **[10 points]** Choose **unit quaternions** $\\mathbf{q} \\in \\mathbb{S}^3$  to represent configuration of the system and define the **discrete Lagrangian** in this coordinates. \n",
        "  * Note: you may define the angular speed through quaternion derivative as follows: $\\hat{\\boldsymbol{\\omega}} = 2\\mathbf{q}^{*} \\otimes \\dot{\\mathbf{q}}$,\n",
        "where $\\hat{\\boldsymbol{\\omega}} = [0, \\boldsymbol{\\omega}]$ and $\\mathbf{q}^{*}$ is quaternion conjugate. \n",
        "* **[15 points]** Derive the **constrained discrete Euler-Lagrange** equations in momentum form. Simulate the system with sampling rate $dt = 0.01$ [s] starting from initial quaternion $\\mathbf{q}(0) = [1,0,0,0]$ and initial velocities $\\omega_1(0)= [6, 0.1, 0.1]$. Repeat the same for $\\omega_2(0) = [0.1, 6, 0.1]$, $\\omega_2(0) = [0.1, 0.1, 6]$, animate the trajectories (rotating frame) and discuss result. \n",
        "* **[10 points]** Plot the energy $\\mathcal{K}(t)$, norm of momentum $\\|\\mathbf{p}(t)\\|$ and norm of quaternion $\\|\\mathbf{q}(t)\\|$. Compare the result with Euler integration (with and without quaternion normalization)\n",
        "---"
      ]
    }
  ],
  "metadata": {
    "colab": {
      "provenance": []
    },
    "kernelspec": {
      "display_name": "Python 3.8.10 64-bit",
      "language": "python",
      "name": "python3"
    },
    "language_info": {
      "codemirror_mode": {
        "name": "ipython",
        "version": 3
      },
      "file_extension": ".py",
      "mimetype": "text/x-python",
      "name": "python",
      "nbconvert_exporter": "python",
      "pygments_lexer": "ipython3",
      "version": "3.8.10"
    },
    "vscode": {
      "interpreter": {
        "hash": "e7370f93d1d0cde622a1f8e1c04877d8463912d04d973331ad4851f04de6915a"
      }
    }
  },
  "nbformat": 4,
  "nbformat_minor": 0
}
